{
 "cells": [
  {
   "cell_type": "markdown",
   "source": [],
   "metadata": {
    "collapsed": false,
    "pycharm": {
     "name": "#%% md\n"
    }
   }
  },
  {
   "cell_type": "markdown",
   "source": [
    "# 0. Initial setup"
   ],
   "metadata": {
    "collapsed": false,
    "pycharm": {
     "name": "#%% md\n"
    }
   }
  },
  {
   "cell_type": "code",
   "execution_count": 1,
   "outputs": [],
   "source": [
    "# import required libraries\n",
    "\n",
    "import pandas as pd"
   ],
   "metadata": {
    "collapsed": false,
    "pycharm": {
     "name": "#%%\n"
    }
   }
  },
  {
   "cell_type": "code",
   "execution_count": 2,
   "outputs": [],
   "source": [
    "# make other preferential adjustments\n",
    "\n",
    "pd.set_option('display.max_rows', 7)\n",
    "pd.set_option('display.max_columns', None)"
   ],
   "metadata": {
    "collapsed": false,
    "pycharm": {
     "name": "#%%\n"
    }
   }
  },
  {
   "cell_type": "code",
   "execution_count": 3,
   "outputs": [
    {
     "data": {
      "text/plain": "                                    watch_name type_gender    brand  \\\n0     Rolex Datejust Combination Watch (16233)           M    rolex   \n1                    Cartier Benoit Gold Watch           F  cartier   \n2        Rolex Milgauss Steel Watch (116400GV)           M    rolex   \n...                                        ...         ...      ...   \n3165                   Prada Gold Plated Watch           U    prada   \n3166                Chanel Premier Steel Watch           F   chanel   \n3167     Cartier Rotonde Gold Watch (W1556203)           M  cartier   \n\n             watch_color  watch_size  length_of_band    price  \n0     yellow combination        18.0            36.0   7500.0  \n1                   grey        16.0            28.0   7900.0  \n2                  steel        17.0            40.0   9000.0  \n...                  ...         ...             ...      ...  \n3165               brown        18.0            24.0    580.0  \n3166               steel        17.0            18.5   1950.0  \n3167               brown        19.0            42.0  25500.0  \n\n[3168 rows x 7 columns]",
      "text/html": "<div>\n<style scoped>\n    .dataframe tbody tr th:only-of-type {\n        vertical-align: middle;\n    }\n\n    .dataframe tbody tr th {\n        vertical-align: top;\n    }\n\n    .dataframe thead th {\n        text-align: right;\n    }\n</style>\n<table border=\"1\" class=\"dataframe\">\n  <thead>\n    <tr style=\"text-align: right;\">\n      <th></th>\n      <th>watch_name</th>\n      <th>type_gender</th>\n      <th>brand</th>\n      <th>watch_color</th>\n      <th>watch_size</th>\n      <th>length_of_band</th>\n      <th>price</th>\n    </tr>\n  </thead>\n  <tbody>\n    <tr>\n      <th>0</th>\n      <td>Rolex Datejust Combination Watch (16233)</td>\n      <td>M</td>\n      <td>rolex</td>\n      <td>yellow combination</td>\n      <td>18.0</td>\n      <td>36.0</td>\n      <td>7500.0</td>\n    </tr>\n    <tr>\n      <th>1</th>\n      <td>Cartier Benoit Gold Watch</td>\n      <td>F</td>\n      <td>cartier</td>\n      <td>grey</td>\n      <td>16.0</td>\n      <td>28.0</td>\n      <td>7900.0</td>\n    </tr>\n    <tr>\n      <th>2</th>\n      <td>Rolex Milgauss Steel Watch (116400GV)</td>\n      <td>M</td>\n      <td>rolex</td>\n      <td>steel</td>\n      <td>17.0</td>\n      <td>40.0</td>\n      <td>9000.0</td>\n    </tr>\n    <tr>\n      <th>...</th>\n      <td>...</td>\n      <td>...</td>\n      <td>...</td>\n      <td>...</td>\n      <td>...</td>\n      <td>...</td>\n      <td>...</td>\n    </tr>\n    <tr>\n      <th>3165</th>\n      <td>Prada Gold Plated Watch</td>\n      <td>U</td>\n      <td>prada</td>\n      <td>brown</td>\n      <td>18.0</td>\n      <td>24.0</td>\n      <td>580.0</td>\n    </tr>\n    <tr>\n      <th>3166</th>\n      <td>Chanel Premier Steel Watch</td>\n      <td>F</td>\n      <td>chanel</td>\n      <td>steel</td>\n      <td>17.0</td>\n      <td>18.5</td>\n      <td>1950.0</td>\n    </tr>\n    <tr>\n      <th>3167</th>\n      <td>Cartier Rotonde Gold Watch (W1556203)</td>\n      <td>M</td>\n      <td>cartier</td>\n      <td>brown</td>\n      <td>19.0</td>\n      <td>42.0</td>\n      <td>25500.0</td>\n    </tr>\n  </tbody>\n</table>\n<p>3168 rows × 7 columns</p>\n</div>"
     },
     "metadata": {},
     "output_type": "display_data"
    }
   ],
   "source": [
    "# import and display the data\n",
    "\n",
    "data = pd.read_csv('luxury_watches_clean.csv')\n",
    "display(data)"
   ],
   "metadata": {
    "collapsed": false,
    "pycharm": {
     "name": "#%%\n"
    }
   }
  },
  {
   "cell_type": "markdown",
   "source": [
    "# 1. Diamonds\n",
    "Create a variable that indicated whether the watch contains ornamental diamonds"
   ],
   "metadata": {
    "collapsed": false,
    "pycharm": {
     "name": "#%% md\n"
    }
   }
  },
  {
   "cell_type": "code",
   "execution_count": 4,
   "outputs": [],
   "source": [
    "# a function that detects whether the string 'diamond' or 'diamonds' is in the watch_name variable\n",
    "\n",
    "def contains_diamonds(watch_name):\n",
    "    if ('diamond' in watch_name.lower()) | ('diamonds' in watch_name.lower()):\n",
    "        return 1\n",
    "    else:\n",
    "        return 0"
   ],
   "metadata": {
    "collapsed": false,
    "pycharm": {
     "name": "#%%\n"
    }
   }
  },
  {
   "cell_type": "code",
   "execution_count": 5,
   "outputs": [
    {
     "data": {
      "text/plain": "                                    watch_name type_gender    brand  \\\n0     Rolex Datejust Combination Watch (16233)           M    rolex   \n1                    Cartier Benoit Gold Watch           F  cartier   \n2        Rolex Milgauss Steel Watch (116400GV)           M    rolex   \n...                                        ...         ...      ...   \n3165                   Prada Gold Plated Watch           U    prada   \n3166                Chanel Premier Steel Watch           F   chanel   \n3167     Cartier Rotonde Gold Watch (W1556203)           M  cartier   \n\n             watch_color  watch_size  length_of_band    price  diamonds  \n0     yellow combination        18.0            36.0   7500.0         0  \n1                   grey        16.0            28.0   7900.0         0  \n2                  steel        17.0            40.0   9000.0         0  \n...                  ...         ...             ...      ...       ...  \n3165               brown        18.0            24.0    580.0         0  \n3166               steel        17.0            18.5   1950.0         0  \n3167               brown        19.0            42.0  25500.0         0  \n\n[3168 rows x 8 columns]",
      "text/html": "<div>\n<style scoped>\n    .dataframe tbody tr th:only-of-type {\n        vertical-align: middle;\n    }\n\n    .dataframe tbody tr th {\n        vertical-align: top;\n    }\n\n    .dataframe thead th {\n        text-align: right;\n    }\n</style>\n<table border=\"1\" class=\"dataframe\">\n  <thead>\n    <tr style=\"text-align: right;\">\n      <th></th>\n      <th>watch_name</th>\n      <th>type_gender</th>\n      <th>brand</th>\n      <th>watch_color</th>\n      <th>watch_size</th>\n      <th>length_of_band</th>\n      <th>price</th>\n      <th>diamonds</th>\n    </tr>\n  </thead>\n  <tbody>\n    <tr>\n      <th>0</th>\n      <td>Rolex Datejust Combination Watch (16233)</td>\n      <td>M</td>\n      <td>rolex</td>\n      <td>yellow combination</td>\n      <td>18.0</td>\n      <td>36.0</td>\n      <td>7500.0</td>\n      <td>0</td>\n    </tr>\n    <tr>\n      <th>1</th>\n      <td>Cartier Benoit Gold Watch</td>\n      <td>F</td>\n      <td>cartier</td>\n      <td>grey</td>\n      <td>16.0</td>\n      <td>28.0</td>\n      <td>7900.0</td>\n      <td>0</td>\n    </tr>\n    <tr>\n      <th>2</th>\n      <td>Rolex Milgauss Steel Watch (116400GV)</td>\n      <td>M</td>\n      <td>rolex</td>\n      <td>steel</td>\n      <td>17.0</td>\n      <td>40.0</td>\n      <td>9000.0</td>\n      <td>0</td>\n    </tr>\n    <tr>\n      <th>...</th>\n      <td>...</td>\n      <td>...</td>\n      <td>...</td>\n      <td>...</td>\n      <td>...</td>\n      <td>...</td>\n      <td>...</td>\n      <td>...</td>\n    </tr>\n    <tr>\n      <th>3165</th>\n      <td>Prada Gold Plated Watch</td>\n      <td>U</td>\n      <td>prada</td>\n      <td>brown</td>\n      <td>18.0</td>\n      <td>24.0</td>\n      <td>580.0</td>\n      <td>0</td>\n    </tr>\n    <tr>\n      <th>3166</th>\n      <td>Chanel Premier Steel Watch</td>\n      <td>F</td>\n      <td>chanel</td>\n      <td>steel</td>\n      <td>17.0</td>\n      <td>18.5</td>\n      <td>1950.0</td>\n      <td>0</td>\n    </tr>\n    <tr>\n      <th>3167</th>\n      <td>Cartier Rotonde Gold Watch (W1556203)</td>\n      <td>M</td>\n      <td>cartier</td>\n      <td>brown</td>\n      <td>19.0</td>\n      <td>42.0</td>\n      <td>25500.0</td>\n      <td>0</td>\n    </tr>\n  </tbody>\n</table>\n<p>3168 rows × 8 columns</p>\n</div>"
     },
     "metadata": {},
     "output_type": "display_data"
    }
   ],
   "source": [
    "# apply the function and display the results\n",
    "\n",
    "data['diamonds'] = data['watch_name'].apply(contains_diamonds)\n",
    "display(data)"
   ],
   "metadata": {
    "collapsed": false,
    "pycharm": {
     "name": "#%%\n"
    }
   }
  },
  {
   "cell_type": "markdown",
   "source": [
    "# 2. Reference number\n",
    "Create a variable that contains the reference number. Subsequently, remove the reference number from the watch_name variable."
   ],
   "metadata": {
    "collapsed": false,
    "pycharm": {
     "name": "#%% md\n"
    }
   }
  },
  {
   "cell_type": "code",
   "execution_count": 6,
   "outputs": [],
   "source": [
    "# a function that extracts the reference number from the watch_name variable\n",
    "\n",
    "def extract_ref(watch_name):\n",
    "    if ('(' in watch_name) and (')' in watch_name):\n",
    "        i = watch_name.index('(')\n",
    "        j = watch_name.index(')')\n",
    "        return watch_name[i+1:j]\n",
    "    else:\n",
    "        return 'missing'"
   ],
   "metadata": {
    "collapsed": false,
    "pycharm": {
     "name": "#%%\n"
    }
   }
  },
  {
   "cell_type": "code",
   "execution_count": 7,
   "outputs": [],
   "source": [
    "# a function that remove the reference number from the watch_name variable\n",
    "\n",
    "def remove_ref(watch_name):\n",
    "    if ('(' in watch_name) and (')' in watch_name):\n",
    "        i = watch_name.index('(')\n",
    "        j = watch_name.index(')')\n",
    "        return watch_name[0:i] + watch_name[j:-1]\n",
    "    else:\n",
    "        return watch_name"
   ],
   "metadata": {
    "collapsed": false,
    "pycharm": {
     "name": "#%%\n"
    }
   }
  },
  {
   "cell_type": "code",
   "execution_count": 8,
   "outputs": [
    {
     "data": {
      "text/plain": "                             watch_name type_gender    brand  \\\n0     Rolex Datejust Combination Watch            M    rolex   \n1             Cartier Benoit Gold Watch           F  cartier   \n2           Rolex Milgauss Steel Watch            M    rolex   \n...                                 ...         ...      ...   \n3165            Prada Gold Plated Watch           U    prada   \n3166         Chanel Premier Steel Watch           F   chanel   \n3167        Cartier Rotonde Gold Watch            M  cartier   \n\n             watch_color  watch_size  length_of_band    price  diamonds  \\\n0     yellow combination        18.0            36.0   7500.0         0   \n1                   grey        16.0            28.0   7900.0         0   \n2                  steel        17.0            40.0   9000.0         0   \n...                  ...         ...             ...      ...       ...   \n3165               brown        18.0            24.0    580.0         0   \n3166               steel        17.0            18.5   1950.0         0   \n3167               brown        19.0            42.0  25500.0         0   \n\n       ref_num  \n0        16233  \n1      missing  \n2     116400GV  \n...        ...  \n3165   missing  \n3166   missing  \n3167  W1556203  \n\n[3168 rows x 9 columns]",
      "text/html": "<div>\n<style scoped>\n    .dataframe tbody tr th:only-of-type {\n        vertical-align: middle;\n    }\n\n    .dataframe tbody tr th {\n        vertical-align: top;\n    }\n\n    .dataframe thead th {\n        text-align: right;\n    }\n</style>\n<table border=\"1\" class=\"dataframe\">\n  <thead>\n    <tr style=\"text-align: right;\">\n      <th></th>\n      <th>watch_name</th>\n      <th>type_gender</th>\n      <th>brand</th>\n      <th>watch_color</th>\n      <th>watch_size</th>\n      <th>length_of_band</th>\n      <th>price</th>\n      <th>diamonds</th>\n      <th>ref_num</th>\n    </tr>\n  </thead>\n  <tbody>\n    <tr>\n      <th>0</th>\n      <td>Rolex Datejust Combination Watch</td>\n      <td>M</td>\n      <td>rolex</td>\n      <td>yellow combination</td>\n      <td>18.0</td>\n      <td>36.0</td>\n      <td>7500.0</td>\n      <td>0</td>\n      <td>16233</td>\n    </tr>\n    <tr>\n      <th>1</th>\n      <td>Cartier Benoit Gold Watch</td>\n      <td>F</td>\n      <td>cartier</td>\n      <td>grey</td>\n      <td>16.0</td>\n      <td>28.0</td>\n      <td>7900.0</td>\n      <td>0</td>\n      <td>missing</td>\n    </tr>\n    <tr>\n      <th>2</th>\n      <td>Rolex Milgauss Steel Watch</td>\n      <td>M</td>\n      <td>rolex</td>\n      <td>steel</td>\n      <td>17.0</td>\n      <td>40.0</td>\n      <td>9000.0</td>\n      <td>0</td>\n      <td>116400GV</td>\n    </tr>\n    <tr>\n      <th>...</th>\n      <td>...</td>\n      <td>...</td>\n      <td>...</td>\n      <td>...</td>\n      <td>...</td>\n      <td>...</td>\n      <td>...</td>\n      <td>...</td>\n      <td>...</td>\n    </tr>\n    <tr>\n      <th>3165</th>\n      <td>Prada Gold Plated Watch</td>\n      <td>U</td>\n      <td>prada</td>\n      <td>brown</td>\n      <td>18.0</td>\n      <td>24.0</td>\n      <td>580.0</td>\n      <td>0</td>\n      <td>missing</td>\n    </tr>\n    <tr>\n      <th>3166</th>\n      <td>Chanel Premier Steel Watch</td>\n      <td>F</td>\n      <td>chanel</td>\n      <td>steel</td>\n      <td>17.0</td>\n      <td>18.5</td>\n      <td>1950.0</td>\n      <td>0</td>\n      <td>missing</td>\n    </tr>\n    <tr>\n      <th>3167</th>\n      <td>Cartier Rotonde Gold Watch</td>\n      <td>M</td>\n      <td>cartier</td>\n      <td>brown</td>\n      <td>19.0</td>\n      <td>42.0</td>\n      <td>25500.0</td>\n      <td>0</td>\n      <td>W1556203</td>\n    </tr>\n  </tbody>\n</table>\n<p>3168 rows × 9 columns</p>\n</div>"
     },
     "metadata": {},
     "output_type": "display_data"
    }
   ],
   "source": [
    "# apply the functions (sequentially) and display the results\n",
    "\n",
    "data['ref_num'] =data['watch_name'].apply(extract_ref)\n",
    "data['watch_name'] = data['watch_name'].apply(remove_ref)\n",
    "display(data)"
   ],
   "metadata": {
    "collapsed": false,
    "pycharm": {
     "name": "#%%\n"
    }
   }
  },
  {
   "cell_type": "markdown",
   "source": [
    "# 3. String lenghts\n",
    "\n",
    "Create variables that return the number of characters in the watch_name, brand and watch_color variables."
   ],
   "metadata": {
    "collapsed": false,
    "pycharm": {
     "name": "#%% md\n"
    }
   }
  },
  {
   "cell_type": "code",
   "execution_count": 11,
   "outputs": [],
   "source": [
    "# obtain the lengths of the strings\n",
    "\n",
    "data['name_length'] = data['watch_name'].apply(len)\n",
    "data['brand_len'] = data['brand'].apply(str_len)\n",
    "data['col_len'] = data['watch_color'].apply(str_len)"
   ],
   "metadata": {
    "collapsed": false,
    "pycharm": {
     "name": "#%%\n"
    }
   }
  },
  {
   "cell_type": "code",
   "execution_count": 12,
   "outputs": [
    {
     "data": {
      "text/plain": "                             watch_name type_gender    brand  \\\n0     Rolex Datejust Combination Watch            M    rolex   \n1             Cartier Benoit Gold Watch           F  cartier   \n2           Rolex Milgauss Steel Watch            M    rolex   \n...                                 ...         ...      ...   \n3165            Prada Gold Plated Watch           U    prada   \n3166         Chanel Premier Steel Watch           F   chanel   \n3167        Cartier Rotonde Gold Watch            M  cartier   \n\n             watch_color  watch_size  length_of_band    price  diamonds  \\\n0     yellow combination        18.0            36.0   7500.0         0   \n1                   grey        16.0            28.0   7900.0         0   \n2                  steel        17.0            40.0   9000.0         0   \n...                  ...         ...             ...      ...       ...   \n3165               brown        18.0            24.0    580.0         0   \n3166               steel        17.0            18.5   1950.0         0   \n3167               brown        19.0            42.0  25500.0         0   \n\n       ref_num  name_length  brand_len  col_len  \n0        16233           33          5       18  \n1      missing           25          7        4  \n2     116400GV           27          5        5  \n...        ...          ...        ...      ...  \n3165   missing           23          5        5  \n3166   missing           26          6        5  \n3167  W1556203           27          7        5  \n\n[3168 rows x 12 columns]",
      "text/html": "<div>\n<style scoped>\n    .dataframe tbody tr th:only-of-type {\n        vertical-align: middle;\n    }\n\n    .dataframe tbody tr th {\n        vertical-align: top;\n    }\n\n    .dataframe thead th {\n        text-align: right;\n    }\n</style>\n<table border=\"1\" class=\"dataframe\">\n  <thead>\n    <tr style=\"text-align: right;\">\n      <th></th>\n      <th>watch_name</th>\n      <th>type_gender</th>\n      <th>brand</th>\n      <th>watch_color</th>\n      <th>watch_size</th>\n      <th>length_of_band</th>\n      <th>price</th>\n      <th>diamonds</th>\n      <th>ref_num</th>\n      <th>name_length</th>\n      <th>brand_len</th>\n      <th>col_len</th>\n    </tr>\n  </thead>\n  <tbody>\n    <tr>\n      <th>0</th>\n      <td>Rolex Datejust Combination Watch</td>\n      <td>M</td>\n      <td>rolex</td>\n      <td>yellow combination</td>\n      <td>18.0</td>\n      <td>36.0</td>\n      <td>7500.0</td>\n      <td>0</td>\n      <td>16233</td>\n      <td>33</td>\n      <td>5</td>\n      <td>18</td>\n    </tr>\n    <tr>\n      <th>1</th>\n      <td>Cartier Benoit Gold Watch</td>\n      <td>F</td>\n      <td>cartier</td>\n      <td>grey</td>\n      <td>16.0</td>\n      <td>28.0</td>\n      <td>7900.0</td>\n      <td>0</td>\n      <td>missing</td>\n      <td>25</td>\n      <td>7</td>\n      <td>4</td>\n    </tr>\n    <tr>\n      <th>2</th>\n      <td>Rolex Milgauss Steel Watch</td>\n      <td>M</td>\n      <td>rolex</td>\n      <td>steel</td>\n      <td>17.0</td>\n      <td>40.0</td>\n      <td>9000.0</td>\n      <td>0</td>\n      <td>116400GV</td>\n      <td>27</td>\n      <td>5</td>\n      <td>5</td>\n    </tr>\n    <tr>\n      <th>...</th>\n      <td>...</td>\n      <td>...</td>\n      <td>...</td>\n      <td>...</td>\n      <td>...</td>\n      <td>...</td>\n      <td>...</td>\n      <td>...</td>\n      <td>...</td>\n      <td>...</td>\n      <td>...</td>\n      <td>...</td>\n    </tr>\n    <tr>\n      <th>3165</th>\n      <td>Prada Gold Plated Watch</td>\n      <td>U</td>\n      <td>prada</td>\n      <td>brown</td>\n      <td>18.0</td>\n      <td>24.0</td>\n      <td>580.0</td>\n      <td>0</td>\n      <td>missing</td>\n      <td>23</td>\n      <td>5</td>\n      <td>5</td>\n    </tr>\n    <tr>\n      <th>3166</th>\n      <td>Chanel Premier Steel Watch</td>\n      <td>F</td>\n      <td>chanel</td>\n      <td>steel</td>\n      <td>17.0</td>\n      <td>18.5</td>\n      <td>1950.0</td>\n      <td>0</td>\n      <td>missing</td>\n      <td>26</td>\n      <td>6</td>\n      <td>5</td>\n    </tr>\n    <tr>\n      <th>3167</th>\n      <td>Cartier Rotonde Gold Watch</td>\n      <td>M</td>\n      <td>cartier</td>\n      <td>brown</td>\n      <td>19.0</td>\n      <td>42.0</td>\n      <td>25500.0</td>\n      <td>0</td>\n      <td>W1556203</td>\n      <td>27</td>\n      <td>7</td>\n      <td>5</td>\n    </tr>\n  </tbody>\n</table>\n<p>3168 rows × 12 columns</p>\n</div>"
     },
     "metadata": {},
     "output_type": "display_data"
    }
   ],
   "source": [
    "# display the results\n",
    "\n",
    "display(data)"
   ],
   "metadata": {
    "collapsed": false,
    "pycharm": {
     "name": "#%%\n"
    }
   }
  },
  {
   "cell_type": "markdown",
   "source": [
    "# 4. Save the final results"
   ],
   "metadata": {
    "collapsed": false,
    "pycharm": {
     "name": "#%% md\n"
    }
   }
  },
  {
   "cell_type": "code",
   "execution_count": 13,
   "outputs": [],
   "source": [
    "# write data to new csv file\n",
    "\n",
    "data.to_csv('././luxury_watches_with_features.csv')"
   ],
   "metadata": {
    "collapsed": false,
    "pycharm": {
     "name": "#%%\n"
    }
   }
  }
 ],
 "metadata": {
  "kernelspec": {
   "display_name": "Python 3",
   "language": "python",
   "name": "python3"
  },
  "language_info": {
   "codemirror_mode": {
    "name": "ipython",
    "version": 2
   },
   "file_extension": ".py",
   "mimetype": "text/x-python",
   "name": "python",
   "nbconvert_exporter": "python",
   "pygments_lexer": "ipython2",
   "version": "2.7.6"
  }
 },
 "nbformat": 4,
 "nbformat_minor": 0
}