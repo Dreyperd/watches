{
 "cells": [
  {
   "cell_type": "code",
   "execution_count": 1,
   "outputs": [],
   "source": [
    "import pandas as pd\n",
    "import numpy as np"
   ],
   "metadata": {
    "collapsed": false,
    "pycharm": {
     "name": "#%%\n"
    }
   }
  },
  {
   "cell_type": "code",
   "execution_count": 2,
   "outputs": [],
   "source": [
    "pd.set_option('display.max_rows', 7)\n",
    "pd.set_option('display.max_columns', None)"
   ],
   "metadata": {
    "collapsed": false,
    "pycharm": {
     "name": "#%%\n"
    }
   }
  },
  {
   "cell_type": "code",
   "execution_count": 3,
   "outputs": [
    {
     "data": {
      "text/plain": "                                    watch_name type_gender    brand  \\\n0     Rolex Datejust Combination Watch (16233)           M    Rolex   \n1                    Cartier Benoit Gold Watch           F  Cartier   \n2        Rolex Milgauss Steel Watch (116400GV)           M    Rolex   \n...                                        ...         ...      ...   \n3165                   Prada Gold Plated Watch        Both    Prada   \n3166                Chanel Premier Steel Watch           F   Chanel   \n3167     Cartier Rotonde Gold Watch (W1556203)           M  Cartier   \n\n             watch_color  watch_size  length_of_band    price  \n0     yellow combination        18.0            36.0   7500.0  \n1                   grey        16.0            28.0   7900.0  \n2                  steel        17.0            40.0   9000.0  \n...                  ...         ...             ...      ...  \n3165               brown        18.0            24.0    580.0  \n3166               steel        17.0            18.5   1950.0  \n3167               brown        19.0            42.0  25500.0  \n\n[3168 rows x 7 columns]",
      "text/html": "<div>\n<style scoped>\n    .dataframe tbody tr th:only-of-type {\n        vertical-align: middle;\n    }\n\n    .dataframe tbody tr th {\n        vertical-align: top;\n    }\n\n    .dataframe thead th {\n        text-align: right;\n    }\n</style>\n<table border=\"1\" class=\"dataframe\">\n  <thead>\n    <tr style=\"text-align: right;\">\n      <th></th>\n      <th>watch_name</th>\n      <th>type_gender</th>\n      <th>brand</th>\n      <th>watch_color</th>\n      <th>watch_size</th>\n      <th>length_of_band</th>\n      <th>price</th>\n    </tr>\n  </thead>\n  <tbody>\n    <tr>\n      <th>0</th>\n      <td>Rolex Datejust Combination Watch (16233)</td>\n      <td>M</td>\n      <td>Rolex</td>\n      <td>yellow combination</td>\n      <td>18.0</td>\n      <td>36.0</td>\n      <td>7500.0</td>\n    </tr>\n    <tr>\n      <th>1</th>\n      <td>Cartier Benoit Gold Watch</td>\n      <td>F</td>\n      <td>Cartier</td>\n      <td>grey</td>\n      <td>16.0</td>\n      <td>28.0</td>\n      <td>7900.0</td>\n    </tr>\n    <tr>\n      <th>2</th>\n      <td>Rolex Milgauss Steel Watch (116400GV)</td>\n      <td>M</td>\n      <td>Rolex</td>\n      <td>steel</td>\n      <td>17.0</td>\n      <td>40.0</td>\n      <td>9000.0</td>\n    </tr>\n    <tr>\n      <th>...</th>\n      <td>...</td>\n      <td>...</td>\n      <td>...</td>\n      <td>...</td>\n      <td>...</td>\n      <td>...</td>\n      <td>...</td>\n    </tr>\n    <tr>\n      <th>3165</th>\n      <td>Prada Gold Plated Watch</td>\n      <td>Both</td>\n      <td>Prada</td>\n      <td>brown</td>\n      <td>18.0</td>\n      <td>24.0</td>\n      <td>580.0</td>\n    </tr>\n    <tr>\n      <th>3166</th>\n      <td>Chanel Premier Steel Watch</td>\n      <td>F</td>\n      <td>Chanel</td>\n      <td>steel</td>\n      <td>17.0</td>\n      <td>18.5</td>\n      <td>1950.0</td>\n    </tr>\n    <tr>\n      <th>3167</th>\n      <td>Cartier Rotonde Gold Watch (W1556203)</td>\n      <td>M</td>\n      <td>Cartier</td>\n      <td>brown</td>\n      <td>19.0</td>\n      <td>42.0</td>\n      <td>25500.0</td>\n    </tr>\n  </tbody>\n</table>\n<p>3168 rows × 7 columns</p>\n</div>"
     },
     "metadata": {},
     "output_type": "display_data"
    }
   ],
   "source": [
    "# read in the data\n",
    "\n",
    "dataset = pd.read_csv('luxury_watches.csv')\n",
    "display(dataset)"
   ],
   "metadata": {
    "collapsed": false,
    "pycharm": {
     "name": "#%%\n"
    }
   }
  },
  {
   "cell_type": "markdown",
   "source": [
    "# 1. Initial exploration\n",
    "\n",
    "Explore the data in order to see what we need to do to clean the data"
   ],
   "metadata": {
    "collapsed": false,
    "pycharm": {
     "name": "#%% md\n"
    }
   }
  },
  {
   "cell_type": "markdown",
   "source": [
    "First I want to look for missing values. It might be that the missing values are not entered as NaN's and must be identified accordingly."
   ],
   "metadata": {
    "collapsed": false,
    "pycharm": {
     "name": "#%% md\n"
    }
   }
  },
  {
   "cell_type": "code",
   "execution_count": 4,
   "outputs": [
    {
     "name": "stdout",
     "output_type": "stream",
     "text": [
      "Index(['watch_name', 'type_gender', 'brand', 'watch_color', 'watch_size',\n",
      "       'length_of_band', 'price'],\n",
      "      dtype='object')\n"
     ]
    }
   ],
   "source": [
    "# define some variables\n",
    "\n",
    "cols = dataset.columns\n",
    "print(cols)"
   ],
   "metadata": {
    "collapsed": false,
    "pycharm": {
     "name": "#%%\n"
    }
   }
  },
  {
   "cell_type": "code",
   "execution_count": 5,
   "outputs": [],
   "source": [
    "# check for missing values in each column\n",
    "\n",
    "def check_nan(dataframe):\n",
    "    df = pd.DataFrame([])\n",
    "    for col in cols:\n",
    "\n",
    "        nan_df = dataset[dataframe[col].isna() == True]\n",
    "        df = pd.concat([df, nan_df], ignore_index=True)\n",
    "\n",
    "    return df"
   ],
   "metadata": {
    "collapsed": false,
    "pycharm": {
     "name": "#%%\n"
    }
   }
  },
  {
   "cell_type": "code",
   "execution_count": 6,
   "outputs": [
    {
     "data": {
      "text/plain": "                                           watch_name type_gender   brand  \\\n0         Hermes Kelly Steel Necklace Watch (KE1.210)         NaN  Hermes   \n1               Rolex Submariner Steel Watch (114060)         NaN   Rolex   \n2                   Rolex Combi Diamond Watch (79173)         NaN   Rolex   \n3           Hermes H Hour Gold Plated Watch (HH1.501)         NaN  Hermes   \n4                                 Gucci watch (150.5)         NaN   Gucci   \n5               Baume & Mercier Promise Diamond Watch           F     NaN   \n6         Baume & Mercier Hampton Steel Watch (65647)           M     NaN   \n7               Hamilton Jazzmaster Gold Plated Watch           M     NaN   \n8             Hamilton Jazzmaster Seaview Steel Watch           M     NaN   \n9         Hamilton Jazzmaster Steel Watch (H32705141)           M     NaN   \n10                       Hamilton Khaki Field Watches           M     NaN   \n11                    Hamilton Jazzmaster Steel Watch           M     NaN   \n12                     Hamilton Khaki GMT Steel Watch           M     NaN   \n13                          Breguet Marine Gold Watch        Both     NaN   \n14        Hamilton Khaki Field Mechanical Steel Watch           M     NaN   \n15        Hamilton Jazzmaster Steel Watch (H32565735)           M     NaN   \n16          Hamilton Jazzmaster Steel Watch (H327050)           M     NaN   \n17         Baume & Mercier Promes diamond steel watch           F     NaN   \n18  Hamilton Flight Timer Chrono Steel Watch (H645...           M     NaN   \n19                    Hamilton Below Zero Steel Watch           M     NaN   \n20  Hamilton Jazzmaster Maestro Chrono Steel Watch...           M     NaN   \n21  Hamilton Khaki Navy Pioneer Steel Watch (Table...           M     NaN   \n22  Teg Heuer Cell Professional Steel Watch (WG131...           F     NaN   \n23                    Frederique Constant steel watch           M     NaN   \n24      Baume & Mercier Chrono Steel Watch (MV040122)           M     NaN   \n25       Hamilton Khaki Field Steel Watch (H70505153)           M     NaN   \n26  Hamilton Jazzmaster Open Heart Lady Steel Watc...           F     NaN   \n27       Baume & Mercier Classima Steel Watch (65493)           M     NaN   \n28         Hamilton Jazzmaster Open Heart Steel Watch           M     NaN   \n29     Hamilton Broadway Chrono Steel Watch (H435160)           M     NaN   \n30  Oris Big Crown Pointer Date Watch in Bronze (7...           M     NaN   \n31     Hamilton Jazzmaster Maestro Chrono Steel Watch           M     NaN   \n32                Baume & Mercier Clifton Steel Watch           M     NaN   \n33                   Montblanc Timewalker Steel Watch           M     NaN   \n34        Hamilton Jazzmaster Steel Watch (H32705141)           M     NaN   \n35   Hamilton Broadway Chrono Steel Watch (H43516131)           M     NaN   \n36  Baume & Mercier Linea Diamond Steel Watch (65690)           F     NaN   \n37    Baume & Mercier Linea Diamond Combination Watch           F     NaN   \n38                Baume & Mercier Riviera Steel Watch           M     NaN   \n39                 Baume & Mercier Promes steel watch           F     NaN   \n40                               Hamilton Steel Watch        Both     NaN   \n41         Hamilton Jazzmaster Open Heart Steel Watch           F     NaN   \n42            Rado Diastar Ceramic Watch (115.0653.3)           M     NaN   \n43  Frederique Constant Classic Business Moonphase...           F     NaN   \n44               Maurice Lacroix Steel Watch (EL1087)           M     NaN   \n45                    Hamilton Jazzmaster Steel Watch           M     NaN   \n46   Maurice Lacroix Icon Chrono Steel Watch (AI1018)           M     NaN   \n\n   watch_color  watch_size  length_of_band    price  \n0        other        17.0            20.0    600.0  \n1        other        17.0            40.0  12700.0  \n2        other        17.0            26.0   6500.0  \n3        other        17.0            26.0   1200.0  \n4        other        17.0            42.5    360.0  \n5        white        13.0            34.0    800.0  \n6    dark blue        19.0            38.0   1300.0  \n7        brown        20.0            41.0    400.0  \n8        black        19.0            42.0    400.0  \n9        steel        16.0            42.0    650.0  \n10       other        21.0            38.0    400.0  \n11       steel        17.0            36.0    600.0  \n12       steel        18.0            42.0    500.0  \n13       black        13.0            35.0  10000.0  \n14       other        19.0            38.0    350.0  \n15       black        19.0            41.0    550.0  \n16       steel        18.0            42.0    470.0  \n17       steel        16.0            29.0    700.0  \n18       steel        17.0            39.0    500.0  \n19       steel        17.0            44.0    900.0  \n20       steel        17.0            40.0    750.0  \n21       brown        19.0            47.0   1500.0  \n22       steel        14.0            26.0    220.0  \n23       black        19.0             3.0    480.0  \n24       black        18.0            36.0    900.0  \n25       steel        19.0            42.0    470.0  \n26       steel        15.0            34.0    550.0  \n27       brown        19.0            42.0    550.0  \n28       steel        17.0            40.0    450.0  \n29       steel        21.0             4.0    550.0  \n30       brown        19.0            40.0   1100.0  \n31       brown        18.0            41.0    650.0  \n32       other        17.0             4.0    950.0  \n33       steel        17.0             4.0   1400.0  \n34       brown        16.0            42.0    600.0  \n35       steel        20.0            43.0    700.0  \n36       steel        16.0            27.0   1050.0  \n37       steel        15.0            24.0   1150.0  \n38       steel        18.0            38.0    600.0  \n39       other        17.0            34.0   1000.0  \n40       other        17.0            36.0    380.0  \n41       steel        15.0            36.0    400.0  \n42       black        17.0            40.0    980.0  \n43       steel        17.0            40.0    650.0  \n44       steel        17.0            38.0    420.0  \n45       brown        16.0            45.0    390.0  \n46       steel        17.0            43.0    950.0  ",
      "text/html": "<div>\n<style scoped>\n    .dataframe tbody tr th:only-of-type {\n        vertical-align: middle;\n    }\n\n    .dataframe tbody tr th {\n        vertical-align: top;\n    }\n\n    .dataframe thead th {\n        text-align: right;\n    }\n</style>\n<table border=\"1\" class=\"dataframe\">\n  <thead>\n    <tr style=\"text-align: right;\">\n      <th></th>\n      <th>watch_name</th>\n      <th>type_gender</th>\n      <th>brand</th>\n      <th>watch_color</th>\n      <th>watch_size</th>\n      <th>length_of_band</th>\n      <th>price</th>\n    </tr>\n  </thead>\n  <tbody>\n    <tr>\n      <th>0</th>\n      <td>Hermes Kelly Steel Necklace Watch (KE1.210)</td>\n      <td>NaN</td>\n      <td>Hermes</td>\n      <td>other</td>\n      <td>17.0</td>\n      <td>20.0</td>\n      <td>600.0</td>\n    </tr>\n    <tr>\n      <th>1</th>\n      <td>Rolex Submariner Steel Watch (114060)</td>\n      <td>NaN</td>\n      <td>Rolex</td>\n      <td>other</td>\n      <td>17.0</td>\n      <td>40.0</td>\n      <td>12700.0</td>\n    </tr>\n    <tr>\n      <th>2</th>\n      <td>Rolex Combi Diamond Watch (79173)</td>\n      <td>NaN</td>\n      <td>Rolex</td>\n      <td>other</td>\n      <td>17.0</td>\n      <td>26.0</td>\n      <td>6500.0</td>\n    </tr>\n    <tr>\n      <th>3</th>\n      <td>Hermes H Hour Gold Plated Watch (HH1.501)</td>\n      <td>NaN</td>\n      <td>Hermes</td>\n      <td>other</td>\n      <td>17.0</td>\n      <td>26.0</td>\n      <td>1200.0</td>\n    </tr>\n    <tr>\n      <th>4</th>\n      <td>Gucci watch (150.5)</td>\n      <td>NaN</td>\n      <td>Gucci</td>\n      <td>other</td>\n      <td>17.0</td>\n      <td>42.5</td>\n      <td>360.0</td>\n    </tr>\n    <tr>\n      <th>5</th>\n      <td>Baume &amp; Mercier Promise Diamond Watch</td>\n      <td>F</td>\n      <td>NaN</td>\n      <td>white</td>\n      <td>13.0</td>\n      <td>34.0</td>\n      <td>800.0</td>\n    </tr>\n    <tr>\n      <th>6</th>\n      <td>Baume &amp; Mercier Hampton Steel Watch (65647)</td>\n      <td>M</td>\n      <td>NaN</td>\n      <td>dark blue</td>\n      <td>19.0</td>\n      <td>38.0</td>\n      <td>1300.0</td>\n    </tr>\n    <tr>\n      <th>7</th>\n      <td>Hamilton Jazzmaster Gold Plated Watch</td>\n      <td>M</td>\n      <td>NaN</td>\n      <td>brown</td>\n      <td>20.0</td>\n      <td>41.0</td>\n      <td>400.0</td>\n    </tr>\n    <tr>\n      <th>8</th>\n      <td>Hamilton Jazzmaster Seaview Steel Watch</td>\n      <td>M</td>\n      <td>NaN</td>\n      <td>black</td>\n      <td>19.0</td>\n      <td>42.0</td>\n      <td>400.0</td>\n    </tr>\n    <tr>\n      <th>9</th>\n      <td>Hamilton Jazzmaster Steel Watch (H32705141)</td>\n      <td>M</td>\n      <td>NaN</td>\n      <td>steel</td>\n      <td>16.0</td>\n      <td>42.0</td>\n      <td>650.0</td>\n    </tr>\n    <tr>\n      <th>10</th>\n      <td>Hamilton Khaki Field Watches</td>\n      <td>M</td>\n      <td>NaN</td>\n      <td>other</td>\n      <td>21.0</td>\n      <td>38.0</td>\n      <td>400.0</td>\n    </tr>\n    <tr>\n      <th>11</th>\n      <td>Hamilton Jazzmaster Steel Watch</td>\n      <td>M</td>\n      <td>NaN</td>\n      <td>steel</td>\n      <td>17.0</td>\n      <td>36.0</td>\n      <td>600.0</td>\n    </tr>\n    <tr>\n      <th>12</th>\n      <td>Hamilton Khaki GMT Steel Watch</td>\n      <td>M</td>\n      <td>NaN</td>\n      <td>steel</td>\n      <td>18.0</td>\n      <td>42.0</td>\n      <td>500.0</td>\n    </tr>\n    <tr>\n      <th>13</th>\n      <td>Breguet Marine Gold Watch</td>\n      <td>Both</td>\n      <td>NaN</td>\n      <td>black</td>\n      <td>13.0</td>\n      <td>35.0</td>\n      <td>10000.0</td>\n    </tr>\n    <tr>\n      <th>14</th>\n      <td>Hamilton Khaki Field Mechanical Steel Watch</td>\n      <td>M</td>\n      <td>NaN</td>\n      <td>other</td>\n      <td>19.0</td>\n      <td>38.0</td>\n      <td>350.0</td>\n    </tr>\n    <tr>\n      <th>15</th>\n      <td>Hamilton Jazzmaster Steel Watch (H32565735)</td>\n      <td>M</td>\n      <td>NaN</td>\n      <td>black</td>\n      <td>19.0</td>\n      <td>41.0</td>\n      <td>550.0</td>\n    </tr>\n    <tr>\n      <th>16</th>\n      <td>Hamilton Jazzmaster Steel Watch (H327050)</td>\n      <td>M</td>\n      <td>NaN</td>\n      <td>steel</td>\n      <td>18.0</td>\n      <td>42.0</td>\n      <td>470.0</td>\n    </tr>\n    <tr>\n      <th>17</th>\n      <td>Baume &amp; Mercier Promes diamond steel watch</td>\n      <td>F</td>\n      <td>NaN</td>\n      <td>steel</td>\n      <td>16.0</td>\n      <td>29.0</td>\n      <td>700.0</td>\n    </tr>\n    <tr>\n      <th>18</th>\n      <td>Hamilton Flight Timer Chrono Steel Watch (H645...</td>\n      <td>M</td>\n      <td>NaN</td>\n      <td>steel</td>\n      <td>17.0</td>\n      <td>39.0</td>\n      <td>500.0</td>\n    </tr>\n    <tr>\n      <th>19</th>\n      <td>Hamilton Below Zero Steel Watch</td>\n      <td>M</td>\n      <td>NaN</td>\n      <td>steel</td>\n      <td>17.0</td>\n      <td>44.0</td>\n      <td>900.0</td>\n    </tr>\n    <tr>\n      <th>20</th>\n      <td>Hamilton Jazzmaster Maestro Chrono Steel Watch...</td>\n      <td>M</td>\n      <td>NaN</td>\n      <td>steel</td>\n      <td>17.0</td>\n      <td>40.0</td>\n      <td>750.0</td>\n    </tr>\n    <tr>\n      <th>21</th>\n      <td>Hamilton Khaki Navy Pioneer Steel Watch (Table...</td>\n      <td>M</td>\n      <td>NaN</td>\n      <td>brown</td>\n      <td>19.0</td>\n      <td>47.0</td>\n      <td>1500.0</td>\n    </tr>\n    <tr>\n      <th>22</th>\n      <td>Teg Heuer Cell Professional Steel Watch (WG131...</td>\n      <td>F</td>\n      <td>NaN</td>\n      <td>steel</td>\n      <td>14.0</td>\n      <td>26.0</td>\n      <td>220.0</td>\n    </tr>\n    <tr>\n      <th>23</th>\n      <td>Frederique Constant steel watch</td>\n      <td>M</td>\n      <td>NaN</td>\n      <td>black</td>\n      <td>19.0</td>\n      <td>3.0</td>\n      <td>480.0</td>\n    </tr>\n    <tr>\n      <th>24</th>\n      <td>Baume &amp; Mercier Chrono Steel Watch (MV040122)</td>\n      <td>M</td>\n      <td>NaN</td>\n      <td>black</td>\n      <td>18.0</td>\n      <td>36.0</td>\n      <td>900.0</td>\n    </tr>\n    <tr>\n      <th>25</th>\n      <td>Hamilton Khaki Field Steel Watch (H70505153)</td>\n      <td>M</td>\n      <td>NaN</td>\n      <td>steel</td>\n      <td>19.0</td>\n      <td>42.0</td>\n      <td>470.0</td>\n    </tr>\n    <tr>\n      <th>26</th>\n      <td>Hamilton Jazzmaster Open Heart Lady Steel Watc...</td>\n      <td>F</td>\n      <td>NaN</td>\n      <td>steel</td>\n      <td>15.0</td>\n      <td>34.0</td>\n      <td>550.0</td>\n    </tr>\n    <tr>\n      <th>27</th>\n      <td>Baume &amp; Mercier Classima Steel Watch (65493)</td>\n      <td>M</td>\n      <td>NaN</td>\n      <td>brown</td>\n      <td>19.0</td>\n      <td>42.0</td>\n      <td>550.0</td>\n    </tr>\n    <tr>\n      <th>28</th>\n      <td>Hamilton Jazzmaster Open Heart Steel Watch</td>\n      <td>M</td>\n      <td>NaN</td>\n      <td>steel</td>\n      <td>17.0</td>\n      <td>40.0</td>\n      <td>450.0</td>\n    </tr>\n    <tr>\n      <th>29</th>\n      <td>Hamilton Broadway Chrono Steel Watch (H435160)</td>\n      <td>M</td>\n      <td>NaN</td>\n      <td>steel</td>\n      <td>21.0</td>\n      <td>4.0</td>\n      <td>550.0</td>\n    </tr>\n    <tr>\n      <th>30</th>\n      <td>Oris Big Crown Pointer Date Watch in Bronze (7...</td>\n      <td>M</td>\n      <td>NaN</td>\n      <td>brown</td>\n      <td>19.0</td>\n      <td>40.0</td>\n      <td>1100.0</td>\n    </tr>\n    <tr>\n      <th>31</th>\n      <td>Hamilton Jazzmaster Maestro Chrono Steel Watch</td>\n      <td>M</td>\n      <td>NaN</td>\n      <td>brown</td>\n      <td>18.0</td>\n      <td>41.0</td>\n      <td>650.0</td>\n    </tr>\n    <tr>\n      <th>32</th>\n      <td>Baume &amp; Mercier Clifton Steel Watch</td>\n      <td>M</td>\n      <td>NaN</td>\n      <td>other</td>\n      <td>17.0</td>\n      <td>4.0</td>\n      <td>950.0</td>\n    </tr>\n    <tr>\n      <th>33</th>\n      <td>Montblanc Timewalker Steel Watch</td>\n      <td>M</td>\n      <td>NaN</td>\n      <td>steel</td>\n      <td>17.0</td>\n      <td>4.0</td>\n      <td>1400.0</td>\n    </tr>\n    <tr>\n      <th>34</th>\n      <td>Hamilton Jazzmaster Steel Watch (H32705141)</td>\n      <td>M</td>\n      <td>NaN</td>\n      <td>brown</td>\n      <td>16.0</td>\n      <td>42.0</td>\n      <td>600.0</td>\n    </tr>\n    <tr>\n      <th>35</th>\n      <td>Hamilton Broadway Chrono Steel Watch (H43516131)</td>\n      <td>M</td>\n      <td>NaN</td>\n      <td>steel</td>\n      <td>20.0</td>\n      <td>43.0</td>\n      <td>700.0</td>\n    </tr>\n    <tr>\n      <th>36</th>\n      <td>Baume &amp; Mercier Linea Diamond Steel Watch (65690)</td>\n      <td>F</td>\n      <td>NaN</td>\n      <td>steel</td>\n      <td>16.0</td>\n      <td>27.0</td>\n      <td>1050.0</td>\n    </tr>\n    <tr>\n      <th>37</th>\n      <td>Baume &amp; Mercier Linea Diamond Combination Watch</td>\n      <td>F</td>\n      <td>NaN</td>\n      <td>steel</td>\n      <td>15.0</td>\n      <td>24.0</td>\n      <td>1150.0</td>\n    </tr>\n    <tr>\n      <th>38</th>\n      <td>Baume &amp; Mercier Riviera Steel Watch</td>\n      <td>M</td>\n      <td>NaN</td>\n      <td>steel</td>\n      <td>18.0</td>\n      <td>38.0</td>\n      <td>600.0</td>\n    </tr>\n    <tr>\n      <th>39</th>\n      <td>Baume &amp; Mercier Promes steel watch</td>\n      <td>F</td>\n      <td>NaN</td>\n      <td>other</td>\n      <td>17.0</td>\n      <td>34.0</td>\n      <td>1000.0</td>\n    </tr>\n    <tr>\n      <th>40</th>\n      <td>Hamilton Steel Watch</td>\n      <td>Both</td>\n      <td>NaN</td>\n      <td>other</td>\n      <td>17.0</td>\n      <td>36.0</td>\n      <td>380.0</td>\n    </tr>\n    <tr>\n      <th>41</th>\n      <td>Hamilton Jazzmaster Open Heart Steel Watch</td>\n      <td>F</td>\n      <td>NaN</td>\n      <td>steel</td>\n      <td>15.0</td>\n      <td>36.0</td>\n      <td>400.0</td>\n    </tr>\n    <tr>\n      <th>42</th>\n      <td>Rado Diastar Ceramic Watch (115.0653.3)</td>\n      <td>M</td>\n      <td>NaN</td>\n      <td>black</td>\n      <td>17.0</td>\n      <td>40.0</td>\n      <td>980.0</td>\n    </tr>\n    <tr>\n      <th>43</th>\n      <td>Frederique Constant Classic Business Moonphase...</td>\n      <td>F</td>\n      <td>NaN</td>\n      <td>steel</td>\n      <td>17.0</td>\n      <td>40.0</td>\n      <td>650.0</td>\n    </tr>\n    <tr>\n      <th>44</th>\n      <td>Maurice Lacroix Steel Watch (EL1087)</td>\n      <td>M</td>\n      <td>NaN</td>\n      <td>steel</td>\n      <td>17.0</td>\n      <td>38.0</td>\n      <td>420.0</td>\n    </tr>\n    <tr>\n      <th>45</th>\n      <td>Hamilton Jazzmaster Steel Watch</td>\n      <td>M</td>\n      <td>NaN</td>\n      <td>brown</td>\n      <td>16.0</td>\n      <td>45.0</td>\n      <td>390.0</td>\n    </tr>\n    <tr>\n      <th>46</th>\n      <td>Maurice Lacroix Icon Chrono Steel Watch (AI1018)</td>\n      <td>M</td>\n      <td>NaN</td>\n      <td>steel</td>\n      <td>17.0</td>\n      <td>43.0</td>\n      <td>950.0</td>\n    </tr>\n  </tbody>\n</table>\n</div>"
     },
     "metadata": {},
     "output_type": "display_data"
    }
   ],
   "source": [
    "pd.set_option('display.max_rows', None)\n",
    "display(check_nan(dataset))\n",
    "pd.set_option('display.max_rows', 7)"
   ],
   "metadata": {
    "collapsed": false,
    "pycharm": {
     "name": "#%%\n"
    }
   }
  },
  {
   "cell_type": "markdown",
   "source": [
    "# 2. Manually insert type_gender\n",
    "\n",
    "There are only five missing values relating to type_gender. These can easily be determined from a Google search and will be entered manually."
   ],
   "metadata": {
    "collapsed": false,
    "pycharm": {
     "name": "#%% md\n"
    }
   }
  },
  {
   "cell_type": "code",
   "execution_count": 7,
   "outputs": [
    {
     "data": {
      "text/plain": "                                       watch_name type_gender   brand  \\\n217   Hermes Kelly Steel Necklace Watch (KE1.210)         NaN  Hermes   \n1017        Rolex Submariner Steel Watch (114060)         NaN   Rolex   \n1211            Rolex Combi Diamond Watch (79173)         NaN   Rolex   \n1533    Hermes H Hour Gold Plated Watch (HH1.501)         NaN  Hermes   \n2835                          Gucci watch (150.5)         NaN   Gucci   \n\n     watch_color  watch_size  length_of_band    price  \n217        other        17.0            20.0    600.0  \n1017       other        17.0            40.0  12700.0  \n1211       other        17.0            26.0   6500.0  \n1533       other        17.0            26.0   1200.0  \n2835       other        17.0            42.5    360.0  ",
      "text/html": "<div>\n<style scoped>\n    .dataframe tbody tr th:only-of-type {\n        vertical-align: middle;\n    }\n\n    .dataframe tbody tr th {\n        vertical-align: top;\n    }\n\n    .dataframe thead th {\n        text-align: right;\n    }\n</style>\n<table border=\"1\" class=\"dataframe\">\n  <thead>\n    <tr style=\"text-align: right;\">\n      <th></th>\n      <th>watch_name</th>\n      <th>type_gender</th>\n      <th>brand</th>\n      <th>watch_color</th>\n      <th>watch_size</th>\n      <th>length_of_band</th>\n      <th>price</th>\n    </tr>\n  </thead>\n  <tbody>\n    <tr>\n      <th>217</th>\n      <td>Hermes Kelly Steel Necklace Watch (KE1.210)</td>\n      <td>NaN</td>\n      <td>Hermes</td>\n      <td>other</td>\n      <td>17.0</td>\n      <td>20.0</td>\n      <td>600.0</td>\n    </tr>\n    <tr>\n      <th>1017</th>\n      <td>Rolex Submariner Steel Watch (114060)</td>\n      <td>NaN</td>\n      <td>Rolex</td>\n      <td>other</td>\n      <td>17.0</td>\n      <td>40.0</td>\n      <td>12700.0</td>\n    </tr>\n    <tr>\n      <th>1211</th>\n      <td>Rolex Combi Diamond Watch (79173)</td>\n      <td>NaN</td>\n      <td>Rolex</td>\n      <td>other</td>\n      <td>17.0</td>\n      <td>26.0</td>\n      <td>6500.0</td>\n    </tr>\n    <tr>\n      <th>1533</th>\n      <td>Hermes H Hour Gold Plated Watch (HH1.501)</td>\n      <td>NaN</td>\n      <td>Hermes</td>\n      <td>other</td>\n      <td>17.0</td>\n      <td>26.0</td>\n      <td>1200.0</td>\n    </tr>\n    <tr>\n      <th>2835</th>\n      <td>Gucci watch (150.5)</td>\n      <td>NaN</td>\n      <td>Gucci</td>\n      <td>other</td>\n      <td>17.0</td>\n      <td>42.5</td>\n      <td>360.0</td>\n    </tr>\n  </tbody>\n</table>\n</div>"
     },
     "execution_count": 7,
     "metadata": {},
     "output_type": "execute_result"
    }
   ],
   "source": [
    "dataset[dataset['type_gender'].isna() == True]"
   ],
   "metadata": {
    "collapsed": false,
    "pycharm": {
     "name": "#%%\n"
    }
   }
  },
  {
   "cell_type": "code",
   "execution_count": 8,
   "outputs": [],
   "source": [
    "# change the type_gender\n",
    "dataset.iloc[217, 1] = 'F'\n",
    "dataset.iloc[1017, 1] = 'M'\n",
    "dataset.iloc[1211, 1] = 'F'\n",
    "dataset.iloc[1533, 1] = 'F'\n",
    "dataset.iloc[2835, 1] = 'Both'"
   ],
   "metadata": {
    "collapsed": false,
    "pycharm": {
     "name": "#%%\n"
    }
   }
  },
  {
   "cell_type": "code",
   "execution_count": 9,
   "outputs": [
    {
     "data": {
      "text/plain": "Empty DataFrame\nColumns: [watch_name, type_gender, brand, watch_color, watch_size, length_of_band, price]\nIndex: []",
      "text/html": "<div>\n<style scoped>\n    .dataframe tbody tr th:only-of-type {\n        vertical-align: middle;\n    }\n\n    .dataframe tbody tr th {\n        vertical-align: top;\n    }\n\n    .dataframe thead th {\n        text-align: right;\n    }\n</style>\n<table border=\"1\" class=\"dataframe\">\n  <thead>\n    <tr style=\"text-align: right;\">\n      <th></th>\n      <th>watch_name</th>\n      <th>type_gender</th>\n      <th>brand</th>\n      <th>watch_color</th>\n      <th>watch_size</th>\n      <th>length_of_band</th>\n      <th>price</th>\n    </tr>\n  </thead>\n  <tbody>\n  </tbody>\n</table>\n</div>"
     },
     "execution_count": 9,
     "metadata": {},
     "output_type": "execute_result"
    }
   ],
   "source": [
    "dataset[dataset['type_gender'].isna() == True]"
   ],
   "metadata": {
    "collapsed": false,
    "pycharm": {
     "name": "#%%\n"
    }
   }
  },
  {
   "cell_type": "markdown",
   "source": [
    "# 3. Infer brand from watch_name\n",
    "\n",
    "Some of the values for brand are missing. They should be available in the watch_name. We will try and isolate the brand from the watch_name and assign it accordingly."
   ],
   "metadata": {
    "collapsed": false,
    "pycharm": {
     "name": "#%% md\n"
    }
   }
  },
  {
   "cell_type": "code",
   "execution_count": 10,
   "outputs": [
    {
     "data": {
      "text/plain": "                                             watch_name type_gender brand  \\\n81                Baume & Mercier Promise Diamond Watch           F   NaN   \n162         Baume & Mercier Hampton Steel Watch (65647)           M   NaN   \n361               Hamilton Jazzmaster Gold Plated Watch           M   NaN   \n369             Hamilton Jazzmaster Seaview Steel Watch           M   NaN   \n373         Hamilton Jazzmaster Steel Watch (H32705141)           M   NaN   \n378                        Hamilton Khaki Field Watches           M   NaN   \n379                     Hamilton Jazzmaster Steel Watch           M   NaN   \n447                      Hamilton Khaki GMT Steel Watch           M   NaN   \n449                           Breguet Marine Gold Watch        Both   NaN   \n453         Hamilton Khaki Field Mechanical Steel Watch           M   NaN   \n502         Hamilton Jazzmaster Steel Watch (H32565735)           M   NaN   \n506           Hamilton Jazzmaster Steel Watch (H327050)           M   NaN   \n617          Baume & Mercier Promes diamond steel watch           F   NaN   \n792   Hamilton Flight Timer Chrono Steel Watch (H645...           M   NaN   \n814                     Hamilton Below Zero Steel Watch           M   NaN   \n817   Hamilton Jazzmaster Maestro Chrono Steel Watch...           M   NaN   \n818   Hamilton Khaki Navy Pioneer Steel Watch (Table...           M   NaN   \n1007  Teg Heuer Cell Professional Steel Watch (WG131...           F   NaN   \n1124                    Frederique Constant steel watch           M   NaN   \n1462      Baume & Mercier Chrono Steel Watch (MV040122)           M   NaN   \n1464       Hamilton Khaki Field Steel Watch (H70505153)           M   NaN   \n1471  Hamilton Jazzmaster Open Heart Lady Steel Watc...           F   NaN   \n1485       Baume & Mercier Classima Steel Watch (65493)           M   NaN   \n1502         Hamilton Jazzmaster Open Heart Steel Watch           M   NaN   \n1514     Hamilton Broadway Chrono Steel Watch (H435160)           M   NaN   \n1558  Oris Big Crown Pointer Date Watch in Bronze (7...           M   NaN   \n1703     Hamilton Jazzmaster Maestro Chrono Steel Watch           M   NaN   \n1910                Baume & Mercier Clifton Steel Watch           M   NaN   \n1911                   Montblanc Timewalker Steel Watch           M   NaN   \n1967        Hamilton Jazzmaster Steel Watch (H32705141)           M   NaN   \n1979   Hamilton Broadway Chrono Steel Watch (H43516131)           M   NaN   \n1996  Baume & Mercier Linea Diamond Steel Watch (65690)           F   NaN   \n2094    Baume & Mercier Linea Diamond Combination Watch           F   NaN   \n2097                Baume & Mercier Riviera Steel Watch           M   NaN   \n2191                 Baume & Mercier Promes steel watch           F   NaN   \n2249                               Hamilton Steel Watch        Both   NaN   \n2304         Hamilton Jazzmaster Open Heart Steel Watch           F   NaN   \n2342            Rado Diastar Ceramic Watch (115.0653.3)           M   NaN   \n2412  Frederique Constant Classic Business Moonphase...           F   NaN   \n2413               Maurice Lacroix Steel Watch (EL1087)           M   NaN   \n2665                    Hamilton Jazzmaster Steel Watch           M   NaN   \n3023   Maurice Lacroix Icon Chrono Steel Watch (AI1018)           M   NaN   \n\n     watch_color  watch_size  length_of_band    price  \n81         white        13.0            34.0    800.0  \n162    dark blue        19.0            38.0   1300.0  \n361        brown        20.0            41.0    400.0  \n369        black        19.0            42.0    400.0  \n373        steel        16.0            42.0    650.0  \n378        other        21.0            38.0    400.0  \n379        steel        17.0            36.0    600.0  \n447        steel        18.0            42.0    500.0  \n449        black        13.0            35.0  10000.0  \n453        other        19.0            38.0    350.0  \n502        black        19.0            41.0    550.0  \n506        steel        18.0            42.0    470.0  \n617        steel        16.0            29.0    700.0  \n792        steel        17.0            39.0    500.0  \n814        steel        17.0            44.0    900.0  \n817        steel        17.0            40.0    750.0  \n818        brown        19.0            47.0   1500.0  \n1007       steel        14.0            26.0    220.0  \n1124       black        19.0             3.0    480.0  \n1462       black        18.0            36.0    900.0  \n1464       steel        19.0            42.0    470.0  \n1471       steel        15.0            34.0    550.0  \n1485       brown        19.0            42.0    550.0  \n1502       steel        17.0            40.0    450.0  \n1514       steel        21.0             4.0    550.0  \n1558       brown        19.0            40.0   1100.0  \n1703       brown        18.0            41.0    650.0  \n1910       other        17.0             4.0    950.0  \n1911       steel        17.0             4.0   1400.0  \n1967       brown        16.0            42.0    600.0  \n1979       steel        20.0            43.0    700.0  \n1996       steel        16.0            27.0   1050.0  \n2094       steel        15.0            24.0   1150.0  \n2097       steel        18.0            38.0    600.0  \n2191       other        17.0            34.0   1000.0  \n2249       other        17.0            36.0    380.0  \n2304       steel        15.0            36.0    400.0  \n2342       black        17.0            40.0    980.0  \n2412       steel        17.0            40.0    650.0  \n2413       steel        17.0            38.0    420.0  \n2665       brown        16.0            45.0    390.0  \n3023       steel        17.0            43.0    950.0  ",
      "text/html": "<div>\n<style scoped>\n    .dataframe tbody tr th:only-of-type {\n        vertical-align: middle;\n    }\n\n    .dataframe tbody tr th {\n        vertical-align: top;\n    }\n\n    .dataframe thead th {\n        text-align: right;\n    }\n</style>\n<table border=\"1\" class=\"dataframe\">\n  <thead>\n    <tr style=\"text-align: right;\">\n      <th></th>\n      <th>watch_name</th>\n      <th>type_gender</th>\n      <th>brand</th>\n      <th>watch_color</th>\n      <th>watch_size</th>\n      <th>length_of_band</th>\n      <th>price</th>\n    </tr>\n  </thead>\n  <tbody>\n    <tr>\n      <th>81</th>\n      <td>Baume &amp; Mercier Promise Diamond Watch</td>\n      <td>F</td>\n      <td>NaN</td>\n      <td>white</td>\n      <td>13.0</td>\n      <td>34.0</td>\n      <td>800.0</td>\n    </tr>\n    <tr>\n      <th>162</th>\n      <td>Baume &amp; Mercier Hampton Steel Watch (65647)</td>\n      <td>M</td>\n      <td>NaN</td>\n      <td>dark blue</td>\n      <td>19.0</td>\n      <td>38.0</td>\n      <td>1300.0</td>\n    </tr>\n    <tr>\n      <th>361</th>\n      <td>Hamilton Jazzmaster Gold Plated Watch</td>\n      <td>M</td>\n      <td>NaN</td>\n      <td>brown</td>\n      <td>20.0</td>\n      <td>41.0</td>\n      <td>400.0</td>\n    </tr>\n    <tr>\n      <th>369</th>\n      <td>Hamilton Jazzmaster Seaview Steel Watch</td>\n      <td>M</td>\n      <td>NaN</td>\n      <td>black</td>\n      <td>19.0</td>\n      <td>42.0</td>\n      <td>400.0</td>\n    </tr>\n    <tr>\n      <th>373</th>\n      <td>Hamilton Jazzmaster Steel Watch (H32705141)</td>\n      <td>M</td>\n      <td>NaN</td>\n      <td>steel</td>\n      <td>16.0</td>\n      <td>42.0</td>\n      <td>650.0</td>\n    </tr>\n    <tr>\n      <th>378</th>\n      <td>Hamilton Khaki Field Watches</td>\n      <td>M</td>\n      <td>NaN</td>\n      <td>other</td>\n      <td>21.0</td>\n      <td>38.0</td>\n      <td>400.0</td>\n    </tr>\n    <tr>\n      <th>379</th>\n      <td>Hamilton Jazzmaster Steel Watch</td>\n      <td>M</td>\n      <td>NaN</td>\n      <td>steel</td>\n      <td>17.0</td>\n      <td>36.0</td>\n      <td>600.0</td>\n    </tr>\n    <tr>\n      <th>447</th>\n      <td>Hamilton Khaki GMT Steel Watch</td>\n      <td>M</td>\n      <td>NaN</td>\n      <td>steel</td>\n      <td>18.0</td>\n      <td>42.0</td>\n      <td>500.0</td>\n    </tr>\n    <tr>\n      <th>449</th>\n      <td>Breguet Marine Gold Watch</td>\n      <td>Both</td>\n      <td>NaN</td>\n      <td>black</td>\n      <td>13.0</td>\n      <td>35.0</td>\n      <td>10000.0</td>\n    </tr>\n    <tr>\n      <th>453</th>\n      <td>Hamilton Khaki Field Mechanical Steel Watch</td>\n      <td>M</td>\n      <td>NaN</td>\n      <td>other</td>\n      <td>19.0</td>\n      <td>38.0</td>\n      <td>350.0</td>\n    </tr>\n    <tr>\n      <th>502</th>\n      <td>Hamilton Jazzmaster Steel Watch (H32565735)</td>\n      <td>M</td>\n      <td>NaN</td>\n      <td>black</td>\n      <td>19.0</td>\n      <td>41.0</td>\n      <td>550.0</td>\n    </tr>\n    <tr>\n      <th>506</th>\n      <td>Hamilton Jazzmaster Steel Watch (H327050)</td>\n      <td>M</td>\n      <td>NaN</td>\n      <td>steel</td>\n      <td>18.0</td>\n      <td>42.0</td>\n      <td>470.0</td>\n    </tr>\n    <tr>\n      <th>617</th>\n      <td>Baume &amp; Mercier Promes diamond steel watch</td>\n      <td>F</td>\n      <td>NaN</td>\n      <td>steel</td>\n      <td>16.0</td>\n      <td>29.0</td>\n      <td>700.0</td>\n    </tr>\n    <tr>\n      <th>792</th>\n      <td>Hamilton Flight Timer Chrono Steel Watch (H645...</td>\n      <td>M</td>\n      <td>NaN</td>\n      <td>steel</td>\n      <td>17.0</td>\n      <td>39.0</td>\n      <td>500.0</td>\n    </tr>\n    <tr>\n      <th>814</th>\n      <td>Hamilton Below Zero Steel Watch</td>\n      <td>M</td>\n      <td>NaN</td>\n      <td>steel</td>\n      <td>17.0</td>\n      <td>44.0</td>\n      <td>900.0</td>\n    </tr>\n    <tr>\n      <th>817</th>\n      <td>Hamilton Jazzmaster Maestro Chrono Steel Watch...</td>\n      <td>M</td>\n      <td>NaN</td>\n      <td>steel</td>\n      <td>17.0</td>\n      <td>40.0</td>\n      <td>750.0</td>\n    </tr>\n    <tr>\n      <th>818</th>\n      <td>Hamilton Khaki Navy Pioneer Steel Watch (Table...</td>\n      <td>M</td>\n      <td>NaN</td>\n      <td>brown</td>\n      <td>19.0</td>\n      <td>47.0</td>\n      <td>1500.0</td>\n    </tr>\n    <tr>\n      <th>1007</th>\n      <td>Teg Heuer Cell Professional Steel Watch (WG131...</td>\n      <td>F</td>\n      <td>NaN</td>\n      <td>steel</td>\n      <td>14.0</td>\n      <td>26.0</td>\n      <td>220.0</td>\n    </tr>\n    <tr>\n      <th>1124</th>\n      <td>Frederique Constant steel watch</td>\n      <td>M</td>\n      <td>NaN</td>\n      <td>black</td>\n      <td>19.0</td>\n      <td>3.0</td>\n      <td>480.0</td>\n    </tr>\n    <tr>\n      <th>1462</th>\n      <td>Baume &amp; Mercier Chrono Steel Watch (MV040122)</td>\n      <td>M</td>\n      <td>NaN</td>\n      <td>black</td>\n      <td>18.0</td>\n      <td>36.0</td>\n      <td>900.0</td>\n    </tr>\n    <tr>\n      <th>1464</th>\n      <td>Hamilton Khaki Field Steel Watch (H70505153)</td>\n      <td>M</td>\n      <td>NaN</td>\n      <td>steel</td>\n      <td>19.0</td>\n      <td>42.0</td>\n      <td>470.0</td>\n    </tr>\n    <tr>\n      <th>1471</th>\n      <td>Hamilton Jazzmaster Open Heart Lady Steel Watc...</td>\n      <td>F</td>\n      <td>NaN</td>\n      <td>steel</td>\n      <td>15.0</td>\n      <td>34.0</td>\n      <td>550.0</td>\n    </tr>\n    <tr>\n      <th>1485</th>\n      <td>Baume &amp; Mercier Classima Steel Watch (65493)</td>\n      <td>M</td>\n      <td>NaN</td>\n      <td>brown</td>\n      <td>19.0</td>\n      <td>42.0</td>\n      <td>550.0</td>\n    </tr>\n    <tr>\n      <th>1502</th>\n      <td>Hamilton Jazzmaster Open Heart Steel Watch</td>\n      <td>M</td>\n      <td>NaN</td>\n      <td>steel</td>\n      <td>17.0</td>\n      <td>40.0</td>\n      <td>450.0</td>\n    </tr>\n    <tr>\n      <th>1514</th>\n      <td>Hamilton Broadway Chrono Steel Watch (H435160)</td>\n      <td>M</td>\n      <td>NaN</td>\n      <td>steel</td>\n      <td>21.0</td>\n      <td>4.0</td>\n      <td>550.0</td>\n    </tr>\n    <tr>\n      <th>1558</th>\n      <td>Oris Big Crown Pointer Date Watch in Bronze (7...</td>\n      <td>M</td>\n      <td>NaN</td>\n      <td>brown</td>\n      <td>19.0</td>\n      <td>40.0</td>\n      <td>1100.0</td>\n    </tr>\n    <tr>\n      <th>1703</th>\n      <td>Hamilton Jazzmaster Maestro Chrono Steel Watch</td>\n      <td>M</td>\n      <td>NaN</td>\n      <td>brown</td>\n      <td>18.0</td>\n      <td>41.0</td>\n      <td>650.0</td>\n    </tr>\n    <tr>\n      <th>1910</th>\n      <td>Baume &amp; Mercier Clifton Steel Watch</td>\n      <td>M</td>\n      <td>NaN</td>\n      <td>other</td>\n      <td>17.0</td>\n      <td>4.0</td>\n      <td>950.0</td>\n    </tr>\n    <tr>\n      <th>1911</th>\n      <td>Montblanc Timewalker Steel Watch</td>\n      <td>M</td>\n      <td>NaN</td>\n      <td>steel</td>\n      <td>17.0</td>\n      <td>4.0</td>\n      <td>1400.0</td>\n    </tr>\n    <tr>\n      <th>1967</th>\n      <td>Hamilton Jazzmaster Steel Watch (H32705141)</td>\n      <td>M</td>\n      <td>NaN</td>\n      <td>brown</td>\n      <td>16.0</td>\n      <td>42.0</td>\n      <td>600.0</td>\n    </tr>\n    <tr>\n      <th>1979</th>\n      <td>Hamilton Broadway Chrono Steel Watch (H43516131)</td>\n      <td>M</td>\n      <td>NaN</td>\n      <td>steel</td>\n      <td>20.0</td>\n      <td>43.0</td>\n      <td>700.0</td>\n    </tr>\n    <tr>\n      <th>1996</th>\n      <td>Baume &amp; Mercier Linea Diamond Steel Watch (65690)</td>\n      <td>F</td>\n      <td>NaN</td>\n      <td>steel</td>\n      <td>16.0</td>\n      <td>27.0</td>\n      <td>1050.0</td>\n    </tr>\n    <tr>\n      <th>2094</th>\n      <td>Baume &amp; Mercier Linea Diamond Combination Watch</td>\n      <td>F</td>\n      <td>NaN</td>\n      <td>steel</td>\n      <td>15.0</td>\n      <td>24.0</td>\n      <td>1150.0</td>\n    </tr>\n    <tr>\n      <th>2097</th>\n      <td>Baume &amp; Mercier Riviera Steel Watch</td>\n      <td>M</td>\n      <td>NaN</td>\n      <td>steel</td>\n      <td>18.0</td>\n      <td>38.0</td>\n      <td>600.0</td>\n    </tr>\n    <tr>\n      <th>2191</th>\n      <td>Baume &amp; Mercier Promes steel watch</td>\n      <td>F</td>\n      <td>NaN</td>\n      <td>other</td>\n      <td>17.0</td>\n      <td>34.0</td>\n      <td>1000.0</td>\n    </tr>\n    <tr>\n      <th>2249</th>\n      <td>Hamilton Steel Watch</td>\n      <td>Both</td>\n      <td>NaN</td>\n      <td>other</td>\n      <td>17.0</td>\n      <td>36.0</td>\n      <td>380.0</td>\n    </tr>\n    <tr>\n      <th>2304</th>\n      <td>Hamilton Jazzmaster Open Heart Steel Watch</td>\n      <td>F</td>\n      <td>NaN</td>\n      <td>steel</td>\n      <td>15.0</td>\n      <td>36.0</td>\n      <td>400.0</td>\n    </tr>\n    <tr>\n      <th>2342</th>\n      <td>Rado Diastar Ceramic Watch (115.0653.3)</td>\n      <td>M</td>\n      <td>NaN</td>\n      <td>black</td>\n      <td>17.0</td>\n      <td>40.0</td>\n      <td>980.0</td>\n    </tr>\n    <tr>\n      <th>2412</th>\n      <td>Frederique Constant Classic Business Moonphase...</td>\n      <td>F</td>\n      <td>NaN</td>\n      <td>steel</td>\n      <td>17.0</td>\n      <td>40.0</td>\n      <td>650.0</td>\n    </tr>\n    <tr>\n      <th>2413</th>\n      <td>Maurice Lacroix Steel Watch (EL1087)</td>\n      <td>M</td>\n      <td>NaN</td>\n      <td>steel</td>\n      <td>17.0</td>\n      <td>38.0</td>\n      <td>420.0</td>\n    </tr>\n    <tr>\n      <th>2665</th>\n      <td>Hamilton Jazzmaster Steel Watch</td>\n      <td>M</td>\n      <td>NaN</td>\n      <td>brown</td>\n      <td>16.0</td>\n      <td>45.0</td>\n      <td>390.0</td>\n    </tr>\n    <tr>\n      <th>3023</th>\n      <td>Maurice Lacroix Icon Chrono Steel Watch (AI1018)</td>\n      <td>M</td>\n      <td>NaN</td>\n      <td>steel</td>\n      <td>17.0</td>\n      <td>43.0</td>\n      <td>950.0</td>\n    </tr>\n  </tbody>\n</table>\n</div>"
     },
     "metadata": {},
     "output_type": "display_data"
    }
   ],
   "source": [
    "pd.set_option('display.max_rows', None)\n",
    "display(dataset[dataset['brand'].isna()])\n",
    "pd.set_option('display.max_rows', 7)"
   ],
   "metadata": {
    "collapsed": false,
    "pycharm": {
     "name": "#%%\n"
    }
   }
  },
  {
   "cell_type": "code",
   "execution_count": 11,
   "outputs": [
    {
     "name": "stdout",
     "output_type": "stream",
     "text": [
      "44        a lange & sohne\n",
      "26        audemars piguet\n",
      "2         baume & mercier\n",
      "42            bell & rose\n",
      "12            bell & ross\n",
      "3               blancpain\n",
      "39              boucheron\n",
      "34                breguet\n",
      "2               breitling\n",
      "6                 bulgari\n",
      "40               burberry\n",
      "20                bvlgari\n",
      "1                 cartier\n",
      "6                  chanel\n",
      "36                chaumet\n",
      "13           chaumé liens\n",
      "16                chopard\n",
      "37         christian dior\n",
      "28            chronoswiss\n",
      "41                damiani\n",
      "17                  fendi\n",
      "22              ferragamo\n",
      "35          franck muller\n",
      "8     frederique constant\n",
      "10       girard perregaux\n",
      "21       girard-perregaux\n",
      "46                 graham\n",
      "9                   gucci\n",
      "0                hamilton\n",
      "4           harry winston\n",
      "32           harrywinston\n",
      "4                  hermes\n",
      "25                 hublot\n",
      "7                     iwc\n",
      "5        jaeger lecoultre\n",
      "9           lange & sohne\n",
      "14               longines\n",
      "15          louis vuitton\n",
      "43        maurice lacroix\n",
      "30              montblanc\n",
      "12                  omega\n",
      "29                   oris\n",
      "24                  other\n",
      "33                panerai\n",
      "10         patek philippe\n",
      "11              perregaux\n",
      "18                 piaget\n",
      "48                  prada\n",
      "1                    rado\n",
      "47           roger dubuis\n",
      "8            roger duvira\n",
      "0                   rolex\n",
      "3               tag heuer\n",
      "11               tagheuer\n",
      "5               teg heuer\n",
      "23                tiffany\n",
      "13                  tudor\n",
      "45          ulysse nardin\n",
      "31    vacheron constantin\n",
      "27     van cleef & arpels\n",
      "7               van kleep\n",
      "38                 zenith\n",
      "dtype: object\n"
     ]
    }
   ],
   "source": [
    "pd.set_option('display.max_rows', None)\n",
    "brands = pd.Series(dataset['brand'].unique())\n",
    "brands = brands[brands.isna() == False]\n",
    "brands = pd.concat([brands, pd.Series(['hamilton', 'rado', 'baume & mercier', 'tag heuer', 'harry winston', 'teg heuer', 'bulgari',\n",
    "                                       'van kleep', 'roger duvira', 'lange & sohne', 'girard perregaux', 'perregaux', 'bell & ross', 'chaumé liens'])])\n",
    "brands = brands.str.lower()\n",
    "brands = brands.sort_values()\n",
    "print(brands)\n",
    "pd.set_option('display.max_rows', 7)"
   ],
   "metadata": {
    "collapsed": false,
    "pycharm": {
     "name": "#%%\n"
    }
   }
  },
  {
   "cell_type": "code",
   "execution_count": 12,
   "outputs": [],
   "source": [
    "def check_brand(watch_name, brands = brands):\n",
    "    result = 'missing'\n",
    "    for brand in brands:\n",
    "        if brand in watch_name.lower():\n",
    "            result = brand\n",
    "    return result"
   ],
   "metadata": {
    "collapsed": false,
    "pycharm": {
     "name": "#%%\n"
    }
   }
  },
  {
   "cell_type": "code",
   "execution_count": 13,
   "outputs": [
    {
     "name": "stdout",
     "output_type": "stream",
     "text": [
      "hamilton\n"
     ]
    }
   ],
   "source": [
    "print(check_brand('Hamilton Jazzmaster Maestro Chrono Steel Watch'))"
   ],
   "metadata": {
    "collapsed": false,
    "pycharm": {
     "name": "#%%\n"
    }
   }
  },
  {
   "cell_type": "code",
   "execution_count": 14,
   "outputs": [
    {
     "data": {
      "text/plain": "True"
     },
     "execution_count": 14,
     "metadata": {},
     "output_type": "execute_result"
    }
   ],
   "source": [
    "'tag heuer' in 'Tag Heuer Aquaracer Chrono Steel Watch (CAF2112)'.lower()"
   ],
   "metadata": {
    "collapsed": false,
    "pycharm": {
     "name": "#%%\n"
    }
   }
  },
  {
   "cell_type": "code",
   "execution_count": 15,
   "outputs": [],
   "source": [
    "dataset['brand'] = dataset['watch_name'].apply(check_brand)"
   ],
   "metadata": {
    "collapsed": false,
    "pycharm": {
     "name": "#%%\n"
    }
   }
  },
  {
   "cell_type": "code",
   "execution_count": 16,
   "outputs": [
    {
     "data": {
      "text/plain": "Empty DataFrame\nColumns: [watch_name, type_gender, brand, watch_color, watch_size, length_of_band, price]\nIndex: []",
      "text/html": "<div>\n<style scoped>\n    .dataframe tbody tr th:only-of-type {\n        vertical-align: middle;\n    }\n\n    .dataframe tbody tr th {\n        vertical-align: top;\n    }\n\n    .dataframe thead th {\n        text-align: right;\n    }\n</style>\n<table border=\"1\" class=\"dataframe\">\n  <thead>\n    <tr style=\"text-align: right;\">\n      <th></th>\n      <th>watch_name</th>\n      <th>type_gender</th>\n      <th>brand</th>\n      <th>watch_color</th>\n      <th>watch_size</th>\n      <th>length_of_band</th>\n      <th>price</th>\n    </tr>\n  </thead>\n  <tbody>\n  </tbody>\n</table>\n</div>"
     },
     "metadata": {},
     "output_type": "display_data"
    }
   ],
   "source": [
    "pd.set_option('display.max_rows', None)\n",
    "display(dataset[dataset['brand'] == 'missing'])\n",
    "pd.set_option('display.max_rows', 8)"
   ],
   "metadata": {
    "collapsed": false,
    "pycharm": {
     "name": "#%%\n"
    }
   }
  },
  {
   "cell_type": "markdown",
   "source": [
    "# 4. Fix spelling errors in brand"
   ],
   "metadata": {
    "collapsed": false,
    "pycharm": {
     "name": "#%% md\n"
    }
   }
  },
  {
   "cell_type": "code",
   "execution_count": 17,
   "outputs": [
    {
     "name": "stdout",
     "output_type": "stream",
     "text": [
      "['rolex' 'cartier' 'breitling' 'blancpain' 'hermes' 'jaeger lecoultre'\n",
      " 'chanel' 'iwc' 'frederique constant' 'gucci' 'patek philippe' 'tag heuer'\n",
      " 'omega' 'tudor' 'longines' 'louis vuitton' 'chopard' 'fendi' 'piaget'\n",
      " 'baume & mercier' 'bulgari' 'perregaux' 'ferragamo' 'tiffany' 'hublot'\n",
      " 'audemars piguet' 'van kleep' 'bvlgari' 'chronoswiss' 'oris' 'montblanc'\n",
      " 'vacheron constantin' 'harry winston' 'panerai' 'hamilton' 'breguet'\n",
      " 'franck muller' 'rado' 'chaumet' 'christian dior' 'zenith' 'boucheron'\n",
      " 'burberry' 'damiani' 'teg heuer' 'bell & ross' 'maurice lacroix'\n",
      " 'lange & sohne' 'van cleef & arpels' 'ulysse nardin' 'chaumé liens'\n",
      " 'graham' 'other' 'roger dubuis' 'roger duvira' 'prada']\n"
     ]
    }
   ],
   "source": [
    "pd.set_option('display.max_rows', None)\n",
    "print(dataset['brand'].unique())\n",
    "pd.set_option('display.max_rows', 8)"
   ],
   "metadata": {
    "collapsed": false,
    "pycharm": {
     "name": "#%%\n"
    }
   }
  },
  {
   "cell_type": "code",
   "execution_count": 19,
   "outputs": [
    {
     "name": "stdout",
     "output_type": "stream",
     "text": [
      "44        a lange & sohne\n",
      "26        audemars piguet\n",
      "2         baume & mercier\n",
      "42            bell & rose\n",
      "12            bell & ross\n",
      "3               blancpain\n",
      "39              boucheron\n",
      "34                breguet\n",
      "2               breitling\n",
      "6                 bulgari\n",
      "40               burberry\n",
      "20                bvlgari\n",
      "1                 cartier\n",
      "6                  chanel\n",
      "36                chaumet\n",
      "13           chaumé liens\n",
      "16                chopard\n",
      "37         christian dior\n",
      "28            chronoswiss\n",
      "41                damiani\n",
      "17                  fendi\n",
      "22              ferragamo\n",
      "35          franck muller\n",
      "8     frederique constant\n",
      "10       girard perregaux\n",
      "21       girard-perregaux\n",
      "46                 graham\n",
      "9                   gucci\n",
      "0                hamilton\n",
      "4           harry winston\n",
      "32           harrywinston\n",
      "4                  hermes\n",
      "25                 hublot\n",
      "7                     iwc\n",
      "5        jaeger lecoultre\n",
      "9           lange & sohne\n",
      "14               longines\n",
      "15          louis vuitton\n",
      "43        maurice lacroix\n",
      "30              montblanc\n",
      "12                  omega\n",
      "29                   oris\n",
      "24                  other\n",
      "33                panerai\n",
      "10         patek philippe\n",
      "11              perregaux\n",
      "18                 piaget\n",
      "48                  prada\n",
      "1                    rado\n",
      "47           roger dubuis\n",
      "8            roger duvira\n",
      "0                   rolex\n",
      "3               tag heuer\n",
      "11               tagheuer\n",
      "5               teg heuer\n",
      "23                tiffany\n",
      "13                  tudor\n",
      "45          ulysse nardin\n",
      "31    vacheron constantin\n",
      "27     van cleef & arpels\n",
      "7               van kleep\n",
      "38                 zenith\n",
      "dtype: object\n"
     ]
    }
   ],
   "source": [
    "pd.set_option('display.max_rows', None)\n",
    "print(brands)\n",
    "pd.set_option('display.max_rows', 8)"
   ],
   "metadata": {
    "collapsed": false,
    "pycharm": {
     "name": "#%%\n"
    }
   }
  },
  {
   "cell_type": "code",
   "execution_count": 23,
   "outputs": [],
   "source": [
    "brands_spelling_dict = dict({'bell & rose':'bell & ross', 'bvlgari':'bulgari', 'chaumé liens':'chaumet', 'christian dior':'dior',\n",
    "                             'girard-perregaux':'girard perregaux', 'harrywinston':'harry winston', 'lange & sohne':'a lange & sohne',\n",
    "                             'perregaux':'girard, perregaux', 'roger duvira':'roger dubuis', 'tagheuer':'tag heuer', 'teg heuer':'tag heuer',\n",
    "                             'van kleep':'van cleef & arpels'})"
   ],
   "metadata": {
    "collapsed": false,
    "pycharm": {
     "name": "#%%\n"
    }
   }
  },
  {
   "cell_type": "code",
   "execution_count": 24,
   "outputs": [],
   "source": [
    "dataset['brand'] = dataset['brand'].replace(brands_spelling_dict)"
   ],
   "metadata": {
    "collapsed": false,
    "pycharm": {
     "name": "#%%\n"
    }
   }
  },
  {
   "cell_type": "code",
   "execution_count": 25,
   "outputs": [
    {
     "data": {
      "text/plain": "                                     watch_name type_gender    brand  \\\n0      Rolex Datejust Combination Watch (16233)           M    rolex   \n1                     Cartier Benoit Gold Watch           F  cartier   \n2         Rolex Milgauss Steel Watch (116400GV)           M    rolex   \n3         Cartier Claire de Diamonds Gold Watch           F  cartier   \n...                                         ...         ...      ...   \n3164  Hublot Big Bang Chrono Gold Ceramic Watch           M   hublot   \n3165                    Prada Gold Plated Watch        Both    prada   \n3166                 Chanel Premier Steel Watch           F   chanel   \n3167      Cartier Rotonde Gold Watch (W1556203)           M  cartier   \n\n             watch_color  watch_size  length_of_band    price  \n0     yellow combination        18.0            36.0   7500.0  \n1                   grey        16.0            28.0   7900.0  \n2                  steel        17.0            40.0   9000.0  \n3                  green        16.0            32.0  15000.0  \n...                  ...         ...             ...      ...  \n3164               black        16.0             4.0  24000.0  \n3165               brown        18.0            24.0    580.0  \n3166               steel        17.0            18.5   1950.0  \n3167               brown        19.0            42.0  25500.0  \n\n[3168 rows x 7 columns]",
      "text/html": "<div>\n<style scoped>\n    .dataframe tbody tr th:only-of-type {\n        vertical-align: middle;\n    }\n\n    .dataframe tbody tr th {\n        vertical-align: top;\n    }\n\n    .dataframe thead th {\n        text-align: right;\n    }\n</style>\n<table border=\"1\" class=\"dataframe\">\n  <thead>\n    <tr style=\"text-align: right;\">\n      <th></th>\n      <th>watch_name</th>\n      <th>type_gender</th>\n      <th>brand</th>\n      <th>watch_color</th>\n      <th>watch_size</th>\n      <th>length_of_band</th>\n      <th>price</th>\n    </tr>\n  </thead>\n  <tbody>\n    <tr>\n      <th>0</th>\n      <td>Rolex Datejust Combination Watch (16233)</td>\n      <td>M</td>\n      <td>rolex</td>\n      <td>yellow combination</td>\n      <td>18.0</td>\n      <td>36.0</td>\n      <td>7500.0</td>\n    </tr>\n    <tr>\n      <th>1</th>\n      <td>Cartier Benoit Gold Watch</td>\n      <td>F</td>\n      <td>cartier</td>\n      <td>grey</td>\n      <td>16.0</td>\n      <td>28.0</td>\n      <td>7900.0</td>\n    </tr>\n    <tr>\n      <th>2</th>\n      <td>Rolex Milgauss Steel Watch (116400GV)</td>\n      <td>M</td>\n      <td>rolex</td>\n      <td>steel</td>\n      <td>17.0</td>\n      <td>40.0</td>\n      <td>9000.0</td>\n    </tr>\n    <tr>\n      <th>3</th>\n      <td>Cartier Claire de Diamonds Gold Watch</td>\n      <td>F</td>\n      <td>cartier</td>\n      <td>green</td>\n      <td>16.0</td>\n      <td>32.0</td>\n      <td>15000.0</td>\n    </tr>\n    <tr>\n      <th>...</th>\n      <td>...</td>\n      <td>...</td>\n      <td>...</td>\n      <td>...</td>\n      <td>...</td>\n      <td>...</td>\n      <td>...</td>\n    </tr>\n    <tr>\n      <th>3164</th>\n      <td>Hublot Big Bang Chrono Gold Ceramic Watch</td>\n      <td>M</td>\n      <td>hublot</td>\n      <td>black</td>\n      <td>16.0</td>\n      <td>4.0</td>\n      <td>24000.0</td>\n    </tr>\n    <tr>\n      <th>3165</th>\n      <td>Prada Gold Plated Watch</td>\n      <td>Both</td>\n      <td>prada</td>\n      <td>brown</td>\n      <td>18.0</td>\n      <td>24.0</td>\n      <td>580.0</td>\n    </tr>\n    <tr>\n      <th>3166</th>\n      <td>Chanel Premier Steel Watch</td>\n      <td>F</td>\n      <td>chanel</td>\n      <td>steel</td>\n      <td>17.0</td>\n      <td>18.5</td>\n      <td>1950.0</td>\n    </tr>\n    <tr>\n      <th>3167</th>\n      <td>Cartier Rotonde Gold Watch (W1556203)</td>\n      <td>M</td>\n      <td>cartier</td>\n      <td>brown</td>\n      <td>19.0</td>\n      <td>42.0</td>\n      <td>25500.0</td>\n    </tr>\n  </tbody>\n</table>\n<p>3168 rows × 7 columns</p>\n</div>"
     },
     "execution_count": 25,
     "metadata": {},
     "output_type": "execute_result"
    }
   ],
   "source": [
    "dataset"
   ],
   "metadata": {
    "collapsed": false,
    "pycharm": {
     "name": "#%%\n"
    }
   }
  },
  {
   "cell_type": "code",
   "execution_count": 29,
   "outputs": [
    {
     "name": "stdout",
     "output_type": "stream",
     "text": [
      "45        a lange & sohne\n",
      "25        audemars piguet\n",
      "19        baume & mercier\n",
      "43            bell & ross\n",
      "3               blancpain\n",
      "40              boucheron\n",
      "34                breguet\n",
      "2               breitling\n",
      "20                bulgari\n",
      "41               burberry\n",
      "1                 cartier\n",
      "6                  chanel\n",
      "37                chaumet\n",
      "16                chopard\n",
      "27            chronoswiss\n",
      "42                damiani\n",
      "38                   dior\n",
      "17                  fendi\n",
      "22              ferragamo\n",
      "35          franck muller\n",
      "8     frederique constant\n",
      "21      girard, perregaux\n",
      "47                 graham\n",
      "9                   gucci\n",
      "33               hamilton\n",
      "31          harry winston\n",
      "4                  hermes\n",
      "24                 hublot\n",
      "7                     iwc\n",
      "5        jaeger lecoultre\n",
      "14               longines\n",
      "15          louis vuitton\n",
      "44        maurice lacroix\n",
      "29              montblanc\n",
      "12                  omega\n",
      "28                   oris\n",
      "48                  other\n",
      "32                panerai\n",
      "10         patek philippe\n",
      "18                 piaget\n",
      "50                  prada\n",
      "36                   rado\n",
      "49           roger dubuis\n",
      "0                   rolex\n",
      "11              tag heuer\n",
      "23                tiffany\n",
      "13                  tudor\n",
      "46          ulysse nardin\n",
      "30    vacheron constantin\n",
      "26     van cleef & arpels\n",
      "39                 zenith\n",
      "dtype: object\n"
     ]
    }
   ],
   "source": [
    "pd.set_option('display.max_rows', None)\n",
    "print(pd.Series(dataset['brand'].unique()).sort_values())\n",
    "pd.set_option('display.max_rows', 8)"
   ],
   "metadata": {
    "collapsed": false,
    "pycharm": {
     "name": "#%%\n"
    }
   }
  },
  {
   "cell_type": "markdown",
   "source": [
    "# 5. Remove the brand name from the watch_name"
   ],
   "metadata": {
    "collapsed": false,
    "pycharm": {
     "name": "#%% md\n"
    }
   }
  },
  {
   "cell_type": "code",
   "execution_count": null,
   "outputs": [],
   "source": [],
   "metadata": {
    "collapsed": false,
    "pycharm": {
     "name": "#%%\n"
    }
   }
  },
  {
   "cell_type": "code",
   "execution_count": null,
   "outputs": [],
   "source": [],
   "metadata": {
    "collapsed": false,
    "pycharm": {
     "name": "#%%\n"
    }
   }
  }
 ],
 "metadata": {
  "kernelspec": {
   "display_name": "Python 3",
   "language": "python",
   "name": "python3"
  },
  "language_info": {
   "codemirror_mode": {
    "name": "ipython",
    "version": 2
   },
   "file_extension": ".py",
   "mimetype": "text/x-python",
   "name": "python",
   "nbconvert_exporter": "python",
   "pygments_lexer": "ipython2",
   "version": "2.7.6"
  }
 },
 "nbformat": 4,
 "nbformat_minor": 0
}