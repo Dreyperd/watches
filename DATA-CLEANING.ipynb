{
 "cells": [
  {
   "cell_type": "markdown",
   "source": [
    "The data for this notebook has been obtained from Kaggle. It is not perfect. There are some missing values as well as spelling errors which need to be taken care of.\n",
    "\n",
    "The purpose of this notebook is to address these issues."
   ],
   "metadata": {
    "collapsed": false,
    "pycharm": {
     "name": "#%% md\n"
    }
   }
  },
  {
   "cell_type": "markdown",
   "source": [
    "# 0. Initial steps"
   ],
   "metadata": {
    "collapsed": false,
    "pycharm": {
     "name": "#%% md\n"
    }
   }
  },
  {
   "cell_type": "code",
   "execution_count": 1,
   "outputs": [],
   "source": [
    "# import the required packages\n",
    "\n",
    "import pandas as pd\n",
    "import numpy as np"
   ],
   "metadata": {
    "collapsed": false,
    "pycharm": {
     "name": "#%%\n"
    }
   }
  },
  {
   "cell_type": "code",
   "execution_count": 2,
   "outputs": [],
   "source": [
    "# make preferential adjustments\n",
    "\n",
    "pd.set_option('display.max_rows', 7)\n",
    "pd.set_option('display.max_columns', None)"
   ],
   "metadata": {
    "collapsed": false,
    "pycharm": {
     "name": "#%%\n"
    }
   }
  },
  {
   "cell_type": "markdown",
   "source": [
    "# 1. Import the data"
   ],
   "metadata": {
    "collapsed": false,
    "pycharm": {
     "name": "#%% md\n"
    }
   }
  },
  {
   "cell_type": "code",
   "execution_count": 3,
   "outputs": [
    {
     "data": {
      "text/plain": "                                    watch_name type_gender    brand  \\\n0     Rolex Datejust Combination Watch (16233)           M    Rolex   \n1                    Cartier Benoit Gold Watch           F  Cartier   \n2        Rolex Milgauss Steel Watch (116400GV)           M    Rolex   \n...                                        ...         ...      ...   \n3165                   Prada Gold Plated Watch        Both    Prada   \n3166                Chanel Premier Steel Watch           F   Chanel   \n3167     Cartier Rotonde Gold Watch (W1556203)           M  Cartier   \n\n             watch_color  watch_size  length_of_band    price  \n0     yellow combination        18.0            36.0   7500.0  \n1                   grey        16.0            28.0   7900.0  \n2                  steel        17.0            40.0   9000.0  \n...                  ...         ...             ...      ...  \n3165               brown        18.0            24.0    580.0  \n3166               steel        17.0            18.5   1950.0  \n3167               brown        19.0            42.0  25500.0  \n\n[3168 rows x 7 columns]",
      "text/html": "<div>\n<style scoped>\n    .dataframe tbody tr th:only-of-type {\n        vertical-align: middle;\n    }\n\n    .dataframe tbody tr th {\n        vertical-align: top;\n    }\n\n    .dataframe thead th {\n        text-align: right;\n    }\n</style>\n<table border=\"1\" class=\"dataframe\">\n  <thead>\n    <tr style=\"text-align: right;\">\n      <th></th>\n      <th>watch_name</th>\n      <th>type_gender</th>\n      <th>brand</th>\n      <th>watch_color</th>\n      <th>watch_size</th>\n      <th>length_of_band</th>\n      <th>price</th>\n    </tr>\n  </thead>\n  <tbody>\n    <tr>\n      <th>0</th>\n      <td>Rolex Datejust Combination Watch (16233)</td>\n      <td>M</td>\n      <td>Rolex</td>\n      <td>yellow combination</td>\n      <td>18.0</td>\n      <td>36.0</td>\n      <td>7500.0</td>\n    </tr>\n    <tr>\n      <th>1</th>\n      <td>Cartier Benoit Gold Watch</td>\n      <td>F</td>\n      <td>Cartier</td>\n      <td>grey</td>\n      <td>16.0</td>\n      <td>28.0</td>\n      <td>7900.0</td>\n    </tr>\n    <tr>\n      <th>2</th>\n      <td>Rolex Milgauss Steel Watch (116400GV)</td>\n      <td>M</td>\n      <td>Rolex</td>\n      <td>steel</td>\n      <td>17.0</td>\n      <td>40.0</td>\n      <td>9000.0</td>\n    </tr>\n    <tr>\n      <th>...</th>\n      <td>...</td>\n      <td>...</td>\n      <td>...</td>\n      <td>...</td>\n      <td>...</td>\n      <td>...</td>\n      <td>...</td>\n    </tr>\n    <tr>\n      <th>3165</th>\n      <td>Prada Gold Plated Watch</td>\n      <td>Both</td>\n      <td>Prada</td>\n      <td>brown</td>\n      <td>18.0</td>\n      <td>24.0</td>\n      <td>580.0</td>\n    </tr>\n    <tr>\n      <th>3166</th>\n      <td>Chanel Premier Steel Watch</td>\n      <td>F</td>\n      <td>Chanel</td>\n      <td>steel</td>\n      <td>17.0</td>\n      <td>18.5</td>\n      <td>1950.0</td>\n    </tr>\n    <tr>\n      <th>3167</th>\n      <td>Cartier Rotonde Gold Watch (W1556203)</td>\n      <td>M</td>\n      <td>Cartier</td>\n      <td>brown</td>\n      <td>19.0</td>\n      <td>42.0</td>\n      <td>25500.0</td>\n    </tr>\n  </tbody>\n</table>\n<p>3168 rows × 7 columns</p>\n</div>"
     },
     "metadata": {},
     "output_type": "display_data"
    }
   ],
   "source": [
    "# read in the data\n",
    "\n",
    "dataset = pd.read_csv('luxury_watches.csv')\n",
    "display(dataset)"
   ],
   "metadata": {
    "collapsed": false,
    "pycharm": {
     "name": "#%%\n"
    }
   }
  },
  {
   "cell_type": "markdown",
   "source": [
    "# 2. Identify missing data\n",
    "\n",
    "Identify which columns contain missing data"
   ],
   "metadata": {
    "collapsed": false,
    "pycharm": {
     "name": "#%% md\n"
    }
   }
  },
  {
   "cell_type": "code",
   "execution_count": 4,
   "outputs": [],
   "source": [
    "# define some variables\n",
    "\n",
    "cols = dataset.columns"
   ],
   "metadata": {
    "collapsed": false,
    "pycharm": {
     "name": "#%%\n"
    }
   }
  },
  {
   "cell_type": "code",
   "execution_count": 5,
   "outputs": [],
   "source": [
    "def check_nan(dataframe):\n",
    "    \"\"\" a function returning a data frame with all the entries that contain NaNs \"\"\"\n",
    "    df = pd.DataFrame([])\n",
    "    for col in cols:\n",
    "\n",
    "        nan_df = dataset[dataframe[col].isna() == True]\n",
    "        df = pd.concat([df, nan_df], ignore_index=True)\n",
    "\n",
    "    return df"
   ],
   "metadata": {
    "collapsed": false,
    "pycharm": {
     "name": "#%%\n"
    }
   }
  },
  {
   "cell_type": "code",
   "execution_count": 6,
   "outputs": [
    {
     "data": {
      "text/plain": "                                           watch_name type_gender   brand  \\\n0         Hermes Kelly Steel Necklace Watch (KE1.210)         NaN  Hermes   \n1               Rolex Submariner Steel Watch (114060)         NaN   Rolex   \n2                   Rolex Combi Diamond Watch (79173)         NaN   Rolex   \n3           Hermes H Hour Gold Plated Watch (HH1.501)         NaN  Hermes   \n4                                 Gucci watch (150.5)         NaN   Gucci   \n5               Baume & Mercier Promise Diamond Watch           F     NaN   \n6         Baume & Mercier Hampton Steel Watch (65647)           M     NaN   \n7               Hamilton Jazzmaster Gold Plated Watch           M     NaN   \n8             Hamilton Jazzmaster Seaview Steel Watch           M     NaN   \n9         Hamilton Jazzmaster Steel Watch (H32705141)           M     NaN   \n10                       Hamilton Khaki Field Watches           M     NaN   \n11                    Hamilton Jazzmaster Steel Watch           M     NaN   \n12                     Hamilton Khaki GMT Steel Watch           M     NaN   \n13                          Breguet Marine Gold Watch        Both     NaN   \n14        Hamilton Khaki Field Mechanical Steel Watch           M     NaN   \n15        Hamilton Jazzmaster Steel Watch (H32565735)           M     NaN   \n16          Hamilton Jazzmaster Steel Watch (H327050)           M     NaN   \n17         Baume & Mercier Promes diamond steel watch           F     NaN   \n18  Hamilton Flight Timer Chrono Steel Watch (H645...           M     NaN   \n19                    Hamilton Below Zero Steel Watch           M     NaN   \n20  Hamilton Jazzmaster Maestro Chrono Steel Watch...           M     NaN   \n21  Hamilton Khaki Navy Pioneer Steel Watch (Table...           M     NaN   \n22  Teg Heuer Cell Professional Steel Watch (WG131...           F     NaN   \n23                    Frederique Constant steel watch           M     NaN   \n24      Baume & Mercier Chrono Steel Watch (MV040122)           M     NaN   \n25       Hamilton Khaki Field Steel Watch (H70505153)           M     NaN   \n26  Hamilton Jazzmaster Open Heart Lady Steel Watc...           F     NaN   \n27       Baume & Mercier Classima Steel Watch (65493)           M     NaN   \n28         Hamilton Jazzmaster Open Heart Steel Watch           M     NaN   \n29     Hamilton Broadway Chrono Steel Watch (H435160)           M     NaN   \n30  Oris Big Crown Pointer Date Watch in Bronze (7...           M     NaN   \n31     Hamilton Jazzmaster Maestro Chrono Steel Watch           M     NaN   \n32                Baume & Mercier Clifton Steel Watch           M     NaN   \n33                   Montblanc Timewalker Steel Watch           M     NaN   \n34        Hamilton Jazzmaster Steel Watch (H32705141)           M     NaN   \n35   Hamilton Broadway Chrono Steel Watch (H43516131)           M     NaN   \n36  Baume & Mercier Linea Diamond Steel Watch (65690)           F     NaN   \n37    Baume & Mercier Linea Diamond Combination Watch           F     NaN   \n38                Baume & Mercier Riviera Steel Watch           M     NaN   \n39                 Baume & Mercier Promes steel watch           F     NaN   \n40                               Hamilton Steel Watch        Both     NaN   \n41         Hamilton Jazzmaster Open Heart Steel Watch           F     NaN   \n42            Rado Diastar Ceramic Watch (115.0653.3)           M     NaN   \n43  Frederique Constant Classic Business Moonphase...           F     NaN   \n44               Maurice Lacroix Steel Watch (EL1087)           M     NaN   \n45                    Hamilton Jazzmaster Steel Watch           M     NaN   \n46   Maurice Lacroix Icon Chrono Steel Watch (AI1018)           M     NaN   \n\n   watch_color  watch_size  length_of_band    price  \n0        other        17.0            20.0    600.0  \n1        other        17.0            40.0  12700.0  \n2        other        17.0            26.0   6500.0  \n3        other        17.0            26.0   1200.0  \n4        other        17.0            42.5    360.0  \n5        white        13.0            34.0    800.0  \n6    dark blue        19.0            38.0   1300.0  \n7        brown        20.0            41.0    400.0  \n8        black        19.0            42.0    400.0  \n9        steel        16.0            42.0    650.0  \n10       other        21.0            38.0    400.0  \n11       steel        17.0            36.0    600.0  \n12       steel        18.0            42.0    500.0  \n13       black        13.0            35.0  10000.0  \n14       other        19.0            38.0    350.0  \n15       black        19.0            41.0    550.0  \n16       steel        18.0            42.0    470.0  \n17       steel        16.0            29.0    700.0  \n18       steel        17.0            39.0    500.0  \n19       steel        17.0            44.0    900.0  \n20       steel        17.0            40.0    750.0  \n21       brown        19.0            47.0   1500.0  \n22       steel        14.0            26.0    220.0  \n23       black        19.0             3.0    480.0  \n24       black        18.0            36.0    900.0  \n25       steel        19.0            42.0    470.0  \n26       steel        15.0            34.0    550.0  \n27       brown        19.0            42.0    550.0  \n28       steel        17.0            40.0    450.0  \n29       steel        21.0             4.0    550.0  \n30       brown        19.0            40.0   1100.0  \n31       brown        18.0            41.0    650.0  \n32       other        17.0             4.0    950.0  \n33       steel        17.0             4.0   1400.0  \n34       brown        16.0            42.0    600.0  \n35       steel        20.0            43.0    700.0  \n36       steel        16.0            27.0   1050.0  \n37       steel        15.0            24.0   1150.0  \n38       steel        18.0            38.0    600.0  \n39       other        17.0            34.0   1000.0  \n40       other        17.0            36.0    380.0  \n41       steel        15.0            36.0    400.0  \n42       black        17.0            40.0    980.0  \n43       steel        17.0            40.0    650.0  \n44       steel        17.0            38.0    420.0  \n45       brown        16.0            45.0    390.0  \n46       steel        17.0            43.0    950.0  ",
      "text/html": "<div>\n<style scoped>\n    .dataframe tbody tr th:only-of-type {\n        vertical-align: middle;\n    }\n\n    .dataframe tbody tr th {\n        vertical-align: top;\n    }\n\n    .dataframe thead th {\n        text-align: right;\n    }\n</style>\n<table border=\"1\" class=\"dataframe\">\n  <thead>\n    <tr style=\"text-align: right;\">\n      <th></th>\n      <th>watch_name</th>\n      <th>type_gender</th>\n      <th>brand</th>\n      <th>watch_color</th>\n      <th>watch_size</th>\n      <th>length_of_band</th>\n      <th>price</th>\n    </tr>\n  </thead>\n  <tbody>\n    <tr>\n      <th>0</th>\n      <td>Hermes Kelly Steel Necklace Watch (KE1.210)</td>\n      <td>NaN</td>\n      <td>Hermes</td>\n      <td>other</td>\n      <td>17.0</td>\n      <td>20.0</td>\n      <td>600.0</td>\n    </tr>\n    <tr>\n      <th>1</th>\n      <td>Rolex Submariner Steel Watch (114060)</td>\n      <td>NaN</td>\n      <td>Rolex</td>\n      <td>other</td>\n      <td>17.0</td>\n      <td>40.0</td>\n      <td>12700.0</td>\n    </tr>\n    <tr>\n      <th>2</th>\n      <td>Rolex Combi Diamond Watch (79173)</td>\n      <td>NaN</td>\n      <td>Rolex</td>\n      <td>other</td>\n      <td>17.0</td>\n      <td>26.0</td>\n      <td>6500.0</td>\n    </tr>\n    <tr>\n      <th>3</th>\n      <td>Hermes H Hour Gold Plated Watch (HH1.501)</td>\n      <td>NaN</td>\n      <td>Hermes</td>\n      <td>other</td>\n      <td>17.0</td>\n      <td>26.0</td>\n      <td>1200.0</td>\n    </tr>\n    <tr>\n      <th>4</th>\n      <td>Gucci watch (150.5)</td>\n      <td>NaN</td>\n      <td>Gucci</td>\n      <td>other</td>\n      <td>17.0</td>\n      <td>42.5</td>\n      <td>360.0</td>\n    </tr>\n    <tr>\n      <th>5</th>\n      <td>Baume &amp; Mercier Promise Diamond Watch</td>\n      <td>F</td>\n      <td>NaN</td>\n      <td>white</td>\n      <td>13.0</td>\n      <td>34.0</td>\n      <td>800.0</td>\n    </tr>\n    <tr>\n      <th>6</th>\n      <td>Baume &amp; Mercier Hampton Steel Watch (65647)</td>\n      <td>M</td>\n      <td>NaN</td>\n      <td>dark blue</td>\n      <td>19.0</td>\n      <td>38.0</td>\n      <td>1300.0</td>\n    </tr>\n    <tr>\n      <th>7</th>\n      <td>Hamilton Jazzmaster Gold Plated Watch</td>\n      <td>M</td>\n      <td>NaN</td>\n      <td>brown</td>\n      <td>20.0</td>\n      <td>41.0</td>\n      <td>400.0</td>\n    </tr>\n    <tr>\n      <th>8</th>\n      <td>Hamilton Jazzmaster Seaview Steel Watch</td>\n      <td>M</td>\n      <td>NaN</td>\n      <td>black</td>\n      <td>19.0</td>\n      <td>42.0</td>\n      <td>400.0</td>\n    </tr>\n    <tr>\n      <th>9</th>\n      <td>Hamilton Jazzmaster Steel Watch (H32705141)</td>\n      <td>M</td>\n      <td>NaN</td>\n      <td>steel</td>\n      <td>16.0</td>\n      <td>42.0</td>\n      <td>650.0</td>\n    </tr>\n    <tr>\n      <th>10</th>\n      <td>Hamilton Khaki Field Watches</td>\n      <td>M</td>\n      <td>NaN</td>\n      <td>other</td>\n      <td>21.0</td>\n      <td>38.0</td>\n      <td>400.0</td>\n    </tr>\n    <tr>\n      <th>11</th>\n      <td>Hamilton Jazzmaster Steel Watch</td>\n      <td>M</td>\n      <td>NaN</td>\n      <td>steel</td>\n      <td>17.0</td>\n      <td>36.0</td>\n      <td>600.0</td>\n    </tr>\n    <tr>\n      <th>12</th>\n      <td>Hamilton Khaki GMT Steel Watch</td>\n      <td>M</td>\n      <td>NaN</td>\n      <td>steel</td>\n      <td>18.0</td>\n      <td>42.0</td>\n      <td>500.0</td>\n    </tr>\n    <tr>\n      <th>13</th>\n      <td>Breguet Marine Gold Watch</td>\n      <td>Both</td>\n      <td>NaN</td>\n      <td>black</td>\n      <td>13.0</td>\n      <td>35.0</td>\n      <td>10000.0</td>\n    </tr>\n    <tr>\n      <th>14</th>\n      <td>Hamilton Khaki Field Mechanical Steel Watch</td>\n      <td>M</td>\n      <td>NaN</td>\n      <td>other</td>\n      <td>19.0</td>\n      <td>38.0</td>\n      <td>350.0</td>\n    </tr>\n    <tr>\n      <th>15</th>\n      <td>Hamilton Jazzmaster Steel Watch (H32565735)</td>\n      <td>M</td>\n      <td>NaN</td>\n      <td>black</td>\n      <td>19.0</td>\n      <td>41.0</td>\n      <td>550.0</td>\n    </tr>\n    <tr>\n      <th>16</th>\n      <td>Hamilton Jazzmaster Steel Watch (H327050)</td>\n      <td>M</td>\n      <td>NaN</td>\n      <td>steel</td>\n      <td>18.0</td>\n      <td>42.0</td>\n      <td>470.0</td>\n    </tr>\n    <tr>\n      <th>17</th>\n      <td>Baume &amp; Mercier Promes diamond steel watch</td>\n      <td>F</td>\n      <td>NaN</td>\n      <td>steel</td>\n      <td>16.0</td>\n      <td>29.0</td>\n      <td>700.0</td>\n    </tr>\n    <tr>\n      <th>18</th>\n      <td>Hamilton Flight Timer Chrono Steel Watch (H645...</td>\n      <td>M</td>\n      <td>NaN</td>\n      <td>steel</td>\n      <td>17.0</td>\n      <td>39.0</td>\n      <td>500.0</td>\n    </tr>\n    <tr>\n      <th>19</th>\n      <td>Hamilton Below Zero Steel Watch</td>\n      <td>M</td>\n      <td>NaN</td>\n      <td>steel</td>\n      <td>17.0</td>\n      <td>44.0</td>\n      <td>900.0</td>\n    </tr>\n    <tr>\n      <th>20</th>\n      <td>Hamilton Jazzmaster Maestro Chrono Steel Watch...</td>\n      <td>M</td>\n      <td>NaN</td>\n      <td>steel</td>\n      <td>17.0</td>\n      <td>40.0</td>\n      <td>750.0</td>\n    </tr>\n    <tr>\n      <th>21</th>\n      <td>Hamilton Khaki Navy Pioneer Steel Watch (Table...</td>\n      <td>M</td>\n      <td>NaN</td>\n      <td>brown</td>\n      <td>19.0</td>\n      <td>47.0</td>\n      <td>1500.0</td>\n    </tr>\n    <tr>\n      <th>22</th>\n      <td>Teg Heuer Cell Professional Steel Watch (WG131...</td>\n      <td>F</td>\n      <td>NaN</td>\n      <td>steel</td>\n      <td>14.0</td>\n      <td>26.0</td>\n      <td>220.0</td>\n    </tr>\n    <tr>\n      <th>23</th>\n      <td>Frederique Constant steel watch</td>\n      <td>M</td>\n      <td>NaN</td>\n      <td>black</td>\n      <td>19.0</td>\n      <td>3.0</td>\n      <td>480.0</td>\n    </tr>\n    <tr>\n      <th>24</th>\n      <td>Baume &amp; Mercier Chrono Steel Watch (MV040122)</td>\n      <td>M</td>\n      <td>NaN</td>\n      <td>black</td>\n      <td>18.0</td>\n      <td>36.0</td>\n      <td>900.0</td>\n    </tr>\n    <tr>\n      <th>25</th>\n      <td>Hamilton Khaki Field Steel Watch (H70505153)</td>\n      <td>M</td>\n      <td>NaN</td>\n      <td>steel</td>\n      <td>19.0</td>\n      <td>42.0</td>\n      <td>470.0</td>\n    </tr>\n    <tr>\n      <th>26</th>\n      <td>Hamilton Jazzmaster Open Heart Lady Steel Watc...</td>\n      <td>F</td>\n      <td>NaN</td>\n      <td>steel</td>\n      <td>15.0</td>\n      <td>34.0</td>\n      <td>550.0</td>\n    </tr>\n    <tr>\n      <th>27</th>\n      <td>Baume &amp; Mercier Classima Steel Watch (65493)</td>\n      <td>M</td>\n      <td>NaN</td>\n      <td>brown</td>\n      <td>19.0</td>\n      <td>42.0</td>\n      <td>550.0</td>\n    </tr>\n    <tr>\n      <th>28</th>\n      <td>Hamilton Jazzmaster Open Heart Steel Watch</td>\n      <td>M</td>\n      <td>NaN</td>\n      <td>steel</td>\n      <td>17.0</td>\n      <td>40.0</td>\n      <td>450.0</td>\n    </tr>\n    <tr>\n      <th>29</th>\n      <td>Hamilton Broadway Chrono Steel Watch (H435160)</td>\n      <td>M</td>\n      <td>NaN</td>\n      <td>steel</td>\n      <td>21.0</td>\n      <td>4.0</td>\n      <td>550.0</td>\n    </tr>\n    <tr>\n      <th>30</th>\n      <td>Oris Big Crown Pointer Date Watch in Bronze (7...</td>\n      <td>M</td>\n      <td>NaN</td>\n      <td>brown</td>\n      <td>19.0</td>\n      <td>40.0</td>\n      <td>1100.0</td>\n    </tr>\n    <tr>\n      <th>31</th>\n      <td>Hamilton Jazzmaster Maestro Chrono Steel Watch</td>\n      <td>M</td>\n      <td>NaN</td>\n      <td>brown</td>\n      <td>18.0</td>\n      <td>41.0</td>\n      <td>650.0</td>\n    </tr>\n    <tr>\n      <th>32</th>\n      <td>Baume &amp; Mercier Clifton Steel Watch</td>\n      <td>M</td>\n      <td>NaN</td>\n      <td>other</td>\n      <td>17.0</td>\n      <td>4.0</td>\n      <td>950.0</td>\n    </tr>\n    <tr>\n      <th>33</th>\n      <td>Montblanc Timewalker Steel Watch</td>\n      <td>M</td>\n      <td>NaN</td>\n      <td>steel</td>\n      <td>17.0</td>\n      <td>4.0</td>\n      <td>1400.0</td>\n    </tr>\n    <tr>\n      <th>34</th>\n      <td>Hamilton Jazzmaster Steel Watch (H32705141)</td>\n      <td>M</td>\n      <td>NaN</td>\n      <td>brown</td>\n      <td>16.0</td>\n      <td>42.0</td>\n      <td>600.0</td>\n    </tr>\n    <tr>\n      <th>35</th>\n      <td>Hamilton Broadway Chrono Steel Watch (H43516131)</td>\n      <td>M</td>\n      <td>NaN</td>\n      <td>steel</td>\n      <td>20.0</td>\n      <td>43.0</td>\n      <td>700.0</td>\n    </tr>\n    <tr>\n      <th>36</th>\n      <td>Baume &amp; Mercier Linea Diamond Steel Watch (65690)</td>\n      <td>F</td>\n      <td>NaN</td>\n      <td>steel</td>\n      <td>16.0</td>\n      <td>27.0</td>\n      <td>1050.0</td>\n    </tr>\n    <tr>\n      <th>37</th>\n      <td>Baume &amp; Mercier Linea Diamond Combination Watch</td>\n      <td>F</td>\n      <td>NaN</td>\n      <td>steel</td>\n      <td>15.0</td>\n      <td>24.0</td>\n      <td>1150.0</td>\n    </tr>\n    <tr>\n      <th>38</th>\n      <td>Baume &amp; Mercier Riviera Steel Watch</td>\n      <td>M</td>\n      <td>NaN</td>\n      <td>steel</td>\n      <td>18.0</td>\n      <td>38.0</td>\n      <td>600.0</td>\n    </tr>\n    <tr>\n      <th>39</th>\n      <td>Baume &amp; Mercier Promes steel watch</td>\n      <td>F</td>\n      <td>NaN</td>\n      <td>other</td>\n      <td>17.0</td>\n      <td>34.0</td>\n      <td>1000.0</td>\n    </tr>\n    <tr>\n      <th>40</th>\n      <td>Hamilton Steel Watch</td>\n      <td>Both</td>\n      <td>NaN</td>\n      <td>other</td>\n      <td>17.0</td>\n      <td>36.0</td>\n      <td>380.0</td>\n    </tr>\n    <tr>\n      <th>41</th>\n      <td>Hamilton Jazzmaster Open Heart Steel Watch</td>\n      <td>F</td>\n      <td>NaN</td>\n      <td>steel</td>\n      <td>15.0</td>\n      <td>36.0</td>\n      <td>400.0</td>\n    </tr>\n    <tr>\n      <th>42</th>\n      <td>Rado Diastar Ceramic Watch (115.0653.3)</td>\n      <td>M</td>\n      <td>NaN</td>\n      <td>black</td>\n      <td>17.0</td>\n      <td>40.0</td>\n      <td>980.0</td>\n    </tr>\n    <tr>\n      <th>43</th>\n      <td>Frederique Constant Classic Business Moonphase...</td>\n      <td>F</td>\n      <td>NaN</td>\n      <td>steel</td>\n      <td>17.0</td>\n      <td>40.0</td>\n      <td>650.0</td>\n    </tr>\n    <tr>\n      <th>44</th>\n      <td>Maurice Lacroix Steel Watch (EL1087)</td>\n      <td>M</td>\n      <td>NaN</td>\n      <td>steel</td>\n      <td>17.0</td>\n      <td>38.0</td>\n      <td>420.0</td>\n    </tr>\n    <tr>\n      <th>45</th>\n      <td>Hamilton Jazzmaster Steel Watch</td>\n      <td>M</td>\n      <td>NaN</td>\n      <td>brown</td>\n      <td>16.0</td>\n      <td>45.0</td>\n      <td>390.0</td>\n    </tr>\n    <tr>\n      <th>46</th>\n      <td>Maurice Lacroix Icon Chrono Steel Watch (AI1018)</td>\n      <td>M</td>\n      <td>NaN</td>\n      <td>steel</td>\n      <td>17.0</td>\n      <td>43.0</td>\n      <td>950.0</td>\n    </tr>\n  </tbody>\n</table>\n</div>"
     },
     "metadata": {},
     "output_type": "display_data"
    }
   ],
   "source": [
    "# check for missing values and display the results\n",
    "\n",
    "pd.set_option('display.max_rows', None)\n",
    "display(check_nan(dataset))\n",
    "pd.set_option('display.max_rows', 7)"
   ],
   "metadata": {
    "collapsed": false,
    "pycharm": {
     "name": "#%%\n"
    }
   }
  },
  {
   "cell_type": "markdown",
   "source": [
    "Now that we have identified the missing values, we can go through each column and clean the data."
   ],
   "metadata": {
    "collapsed": false,
    "pycharm": {
     "name": "#%% md\n"
    }
   }
  },
  {
   "cell_type": "markdown",
   "source": [
    "# 2. type_gender"
   ],
   "metadata": {
    "collapsed": false,
    "pycharm": {
     "name": "#%% md\n"
    }
   }
  },
  {
   "cell_type": "markdown",
   "source": [
    "## 2.1 Manually enter the missing values\n",
    "\n",
    "There are only five missing values relating to type_gender. These can easily be determined from a Google search and will be entered manually."
   ],
   "metadata": {
    "collapsed": false,
    "pycharm": {
     "name": "#%% md\n"
    }
   }
  },
  {
   "cell_type": "code",
   "execution_count": 7,
   "outputs": [
    {
     "data": {
      "text/plain": "                                       watch_name type_gender   brand  \\\n217   Hermes Kelly Steel Necklace Watch (KE1.210)         NaN  Hermes   \n1017        Rolex Submariner Steel Watch (114060)         NaN   Rolex   \n1211            Rolex Combi Diamond Watch (79173)         NaN   Rolex   \n1533    Hermes H Hour Gold Plated Watch (HH1.501)         NaN  Hermes   \n2835                          Gucci watch (150.5)         NaN   Gucci   \n\n     watch_color  watch_size  length_of_band    price  \n217        other        17.0            20.0    600.0  \n1017       other        17.0            40.0  12700.0  \n1211       other        17.0            26.0   6500.0  \n1533       other        17.0            26.0   1200.0  \n2835       other        17.0            42.5    360.0  ",
      "text/html": "<div>\n<style scoped>\n    .dataframe tbody tr th:only-of-type {\n        vertical-align: middle;\n    }\n\n    .dataframe tbody tr th {\n        vertical-align: top;\n    }\n\n    .dataframe thead th {\n        text-align: right;\n    }\n</style>\n<table border=\"1\" class=\"dataframe\">\n  <thead>\n    <tr style=\"text-align: right;\">\n      <th></th>\n      <th>watch_name</th>\n      <th>type_gender</th>\n      <th>brand</th>\n      <th>watch_color</th>\n      <th>watch_size</th>\n      <th>length_of_band</th>\n      <th>price</th>\n    </tr>\n  </thead>\n  <tbody>\n    <tr>\n      <th>217</th>\n      <td>Hermes Kelly Steel Necklace Watch (KE1.210)</td>\n      <td>NaN</td>\n      <td>Hermes</td>\n      <td>other</td>\n      <td>17.0</td>\n      <td>20.0</td>\n      <td>600.0</td>\n    </tr>\n    <tr>\n      <th>1017</th>\n      <td>Rolex Submariner Steel Watch (114060)</td>\n      <td>NaN</td>\n      <td>Rolex</td>\n      <td>other</td>\n      <td>17.0</td>\n      <td>40.0</td>\n      <td>12700.0</td>\n    </tr>\n    <tr>\n      <th>1211</th>\n      <td>Rolex Combi Diamond Watch (79173)</td>\n      <td>NaN</td>\n      <td>Rolex</td>\n      <td>other</td>\n      <td>17.0</td>\n      <td>26.0</td>\n      <td>6500.0</td>\n    </tr>\n    <tr>\n      <th>1533</th>\n      <td>Hermes H Hour Gold Plated Watch (HH1.501)</td>\n      <td>NaN</td>\n      <td>Hermes</td>\n      <td>other</td>\n      <td>17.0</td>\n      <td>26.0</td>\n      <td>1200.0</td>\n    </tr>\n    <tr>\n      <th>2835</th>\n      <td>Gucci watch (150.5)</td>\n      <td>NaN</td>\n      <td>Gucci</td>\n      <td>other</td>\n      <td>17.0</td>\n      <td>42.5</td>\n      <td>360.0</td>\n    </tr>\n  </tbody>\n</table>\n</div>"
     },
     "execution_count": 7,
     "metadata": {},
     "output_type": "execute_result"
    }
   ],
   "source": [
    "# display the entries with missing type_gender\n",
    "\n",
    "dataset[dataset['type_gender'].isna() == True]"
   ],
   "metadata": {
    "collapsed": false,
    "pycharm": {
     "name": "#%%\n"
    }
   }
  },
  {
   "cell_type": "code",
   "execution_count": 8,
   "outputs": [],
   "source": [
    "# change the type_gender\n",
    "\n",
    "dataset.iloc[217, 1] = 'F'\n",
    "dataset.iloc[1017, 1] = 'M'\n",
    "dataset.iloc[1211, 1] = 'F'\n",
    "dataset.iloc[1533, 1] = 'F'\n",
    "dataset.iloc[2835, 1] = 'Both'"
   ],
   "metadata": {
    "collapsed": false,
    "pycharm": {
     "name": "#%%\n"
    }
   }
  },
  {
   "cell_type": "code",
   "execution_count": 9,
   "outputs": [
    {
     "data": {
      "text/plain": "Empty DataFrame\nColumns: [watch_name, type_gender, brand, watch_color, watch_size, length_of_band, price]\nIndex: []",
      "text/html": "<div>\n<style scoped>\n    .dataframe tbody tr th:only-of-type {\n        vertical-align: middle;\n    }\n\n    .dataframe tbody tr th {\n        vertical-align: top;\n    }\n\n    .dataframe thead th {\n        text-align: right;\n    }\n</style>\n<table border=\"1\" class=\"dataframe\">\n  <thead>\n    <tr style=\"text-align: right;\">\n      <th></th>\n      <th>watch_name</th>\n      <th>type_gender</th>\n      <th>brand</th>\n      <th>watch_color</th>\n      <th>watch_size</th>\n      <th>length_of_band</th>\n      <th>price</th>\n    </tr>\n  </thead>\n  <tbody>\n  </tbody>\n</table>\n</div>"
     },
     "execution_count": 9,
     "metadata": {},
     "output_type": "execute_result"
    }
   ],
   "source": [
    "# confirm the results\n",
    "\n",
    "dataset[dataset['type_gender'].isna() == True]"
   ],
   "metadata": {
    "collapsed": false,
    "pycharm": {
     "name": "#%%\n"
    }
   }
  },
  {
   "cell_type": "markdown",
   "source": [
    "## 2.2 Correct type_gender values\n",
    "\n",
    "The value for unisex watches is 'Both'. We can replace this with a 'U' to represent 'Unisex'."
   ],
   "metadata": {
    "collapsed": false,
    "pycharm": {
     "name": "#%% md\n"
    }
   }
  },
  {
   "cell_type": "code",
   "execution_count": 10,
   "outputs": [],
   "source": [
    "# replace the values\n",
    "\n",
    "dataset['type_gender'] = dataset['type_gender'].replace({'Both': 'U'})"
   ],
   "metadata": {
    "collapsed": false,
    "pycharm": {
     "name": "#%%\n"
    }
   }
  },
  {
   "cell_type": "code",
   "execution_count": 11,
   "outputs": [
    {
     "data": {
      "text/plain": "array(['M', 'F', 'U'], dtype=object)"
     },
     "execution_count": 11,
     "metadata": {},
     "output_type": "execute_result"
    }
   ],
   "source": [
    "# display the results\n",
    "\n",
    "dataset['type_gender'].unique()"
   ],
   "metadata": {
    "collapsed": false,
    "pycharm": {
     "name": "#%%\n"
    }
   }
  },
  {
   "cell_type": "markdown",
   "source": [
    "# 3. watch_name"
   ],
   "metadata": {
    "collapsed": false,
    "pycharm": {
     "name": "#%% md\n"
    }
   }
  },
  {
   "cell_type": "code",
   "execution_count": 12,
   "outputs": [],
   "source": [
    "# remove white spaces at the start and end\n",
    "\n",
    "dataset['watch_name'] = dataset['watch_name'].str.strip()"
   ],
   "metadata": {
    "collapsed": false,
    "pycharm": {
     "name": "#%%\n"
    }
   }
  },
  {
   "cell_type": "markdown",
   "source": [
    "## 3.1 Infer brand from watch_name\n",
    "\n",
    "Some of the values for brand are missing. They should be available in the watch_name. We will try and isolate the brand from the watch_name and assign it accordingly."
   ],
   "metadata": {
    "collapsed": false,
    "pycharm": {
     "name": "#%% md\n"
    }
   }
  },
  {
   "cell_type": "code",
   "execution_count": 13,
   "outputs": [
    {
     "data": {
      "text/plain": "                                             watch_name type_gender brand  \\\n81                Baume & Mercier Promise Diamond Watch           F   NaN   \n162         Baume & Mercier Hampton Steel Watch (65647)           M   NaN   \n361               Hamilton Jazzmaster Gold Plated Watch           M   NaN   \n369             Hamilton Jazzmaster Seaview Steel Watch           M   NaN   \n373         Hamilton Jazzmaster Steel Watch (H32705141)           M   NaN   \n378                        Hamilton Khaki Field Watches           M   NaN   \n379                     Hamilton Jazzmaster Steel Watch           M   NaN   \n447                      Hamilton Khaki GMT Steel Watch           M   NaN   \n449                           Breguet Marine Gold Watch           U   NaN   \n453         Hamilton Khaki Field Mechanical Steel Watch           M   NaN   \n502         Hamilton Jazzmaster Steel Watch (H32565735)           M   NaN   \n506           Hamilton Jazzmaster Steel Watch (H327050)           M   NaN   \n617          Baume & Mercier Promes diamond steel watch           F   NaN   \n792   Hamilton Flight Timer Chrono Steel Watch (H645...           M   NaN   \n814                     Hamilton Below Zero Steel Watch           M   NaN   \n817   Hamilton Jazzmaster Maestro Chrono Steel Watch...           M   NaN   \n818   Hamilton Khaki Navy Pioneer Steel Watch (Table...           M   NaN   \n1007  Teg Heuer Cell Professional Steel Watch (WG131...           F   NaN   \n1124                    Frederique Constant steel watch           M   NaN   \n1462      Baume & Mercier Chrono Steel Watch (MV040122)           M   NaN   \n1464       Hamilton Khaki Field Steel Watch (H70505153)           M   NaN   \n1471  Hamilton Jazzmaster Open Heart Lady Steel Watc...           F   NaN   \n1485       Baume & Mercier Classima Steel Watch (65493)           M   NaN   \n1502         Hamilton Jazzmaster Open Heart Steel Watch           M   NaN   \n1514     Hamilton Broadway Chrono Steel Watch (H435160)           M   NaN   \n1558  Oris Big Crown Pointer Date Watch in Bronze (7...           M   NaN   \n1703     Hamilton Jazzmaster Maestro Chrono Steel Watch           M   NaN   \n1910                Baume & Mercier Clifton Steel Watch           M   NaN   \n1911                   Montblanc Timewalker Steel Watch           M   NaN   \n1967        Hamilton Jazzmaster Steel Watch (H32705141)           M   NaN   \n1979   Hamilton Broadway Chrono Steel Watch (H43516131)           M   NaN   \n1996  Baume & Mercier Linea Diamond Steel Watch (65690)           F   NaN   \n2094    Baume & Mercier Linea Diamond Combination Watch           F   NaN   \n2097                Baume & Mercier Riviera Steel Watch           M   NaN   \n2191                 Baume & Mercier Promes steel watch           F   NaN   \n2249                               Hamilton Steel Watch           U   NaN   \n2304         Hamilton Jazzmaster Open Heart Steel Watch           F   NaN   \n2342            Rado Diastar Ceramic Watch (115.0653.3)           M   NaN   \n2412  Frederique Constant Classic Business Moonphase...           F   NaN   \n2413               Maurice Lacroix Steel Watch (EL1087)           M   NaN   \n2665                    Hamilton Jazzmaster Steel Watch           M   NaN   \n3023   Maurice Lacroix Icon Chrono Steel Watch (AI1018)           M   NaN   \n\n     watch_color  watch_size  length_of_band    price  \n81         white        13.0            34.0    800.0  \n162    dark blue        19.0            38.0   1300.0  \n361        brown        20.0            41.0    400.0  \n369        black        19.0            42.0    400.0  \n373        steel        16.0            42.0    650.0  \n378        other        21.0            38.0    400.0  \n379        steel        17.0            36.0    600.0  \n447        steel        18.0            42.0    500.0  \n449        black        13.0            35.0  10000.0  \n453        other        19.0            38.0    350.0  \n502        black        19.0            41.0    550.0  \n506        steel        18.0            42.0    470.0  \n617        steel        16.0            29.0    700.0  \n792        steel        17.0            39.0    500.0  \n814        steel        17.0            44.0    900.0  \n817        steel        17.0            40.0    750.0  \n818        brown        19.0            47.0   1500.0  \n1007       steel        14.0            26.0    220.0  \n1124       black        19.0             3.0    480.0  \n1462       black        18.0            36.0    900.0  \n1464       steel        19.0            42.0    470.0  \n1471       steel        15.0            34.0    550.0  \n1485       brown        19.0            42.0    550.0  \n1502       steel        17.0            40.0    450.0  \n1514       steel        21.0             4.0    550.0  \n1558       brown        19.0            40.0   1100.0  \n1703       brown        18.0            41.0    650.0  \n1910       other        17.0             4.0    950.0  \n1911       steel        17.0             4.0   1400.0  \n1967       brown        16.0            42.0    600.0  \n1979       steel        20.0            43.0    700.0  \n1996       steel        16.0            27.0   1050.0  \n2094       steel        15.0            24.0   1150.0  \n2097       steel        18.0            38.0    600.0  \n2191       other        17.0            34.0   1000.0  \n2249       other        17.0            36.0    380.0  \n2304       steel        15.0            36.0    400.0  \n2342       black        17.0            40.0    980.0  \n2412       steel        17.0            40.0    650.0  \n2413       steel        17.0            38.0    420.0  \n2665       brown        16.0            45.0    390.0  \n3023       steel        17.0            43.0    950.0  ",
      "text/html": "<div>\n<style scoped>\n    .dataframe tbody tr th:only-of-type {\n        vertical-align: middle;\n    }\n\n    .dataframe tbody tr th {\n        vertical-align: top;\n    }\n\n    .dataframe thead th {\n        text-align: right;\n    }\n</style>\n<table border=\"1\" class=\"dataframe\">\n  <thead>\n    <tr style=\"text-align: right;\">\n      <th></th>\n      <th>watch_name</th>\n      <th>type_gender</th>\n      <th>brand</th>\n      <th>watch_color</th>\n      <th>watch_size</th>\n      <th>length_of_band</th>\n      <th>price</th>\n    </tr>\n  </thead>\n  <tbody>\n    <tr>\n      <th>81</th>\n      <td>Baume &amp; Mercier Promise Diamond Watch</td>\n      <td>F</td>\n      <td>NaN</td>\n      <td>white</td>\n      <td>13.0</td>\n      <td>34.0</td>\n      <td>800.0</td>\n    </tr>\n    <tr>\n      <th>162</th>\n      <td>Baume &amp; Mercier Hampton Steel Watch (65647)</td>\n      <td>M</td>\n      <td>NaN</td>\n      <td>dark blue</td>\n      <td>19.0</td>\n      <td>38.0</td>\n      <td>1300.0</td>\n    </tr>\n    <tr>\n      <th>361</th>\n      <td>Hamilton Jazzmaster Gold Plated Watch</td>\n      <td>M</td>\n      <td>NaN</td>\n      <td>brown</td>\n      <td>20.0</td>\n      <td>41.0</td>\n      <td>400.0</td>\n    </tr>\n    <tr>\n      <th>369</th>\n      <td>Hamilton Jazzmaster Seaview Steel Watch</td>\n      <td>M</td>\n      <td>NaN</td>\n      <td>black</td>\n      <td>19.0</td>\n      <td>42.0</td>\n      <td>400.0</td>\n    </tr>\n    <tr>\n      <th>373</th>\n      <td>Hamilton Jazzmaster Steel Watch (H32705141)</td>\n      <td>M</td>\n      <td>NaN</td>\n      <td>steel</td>\n      <td>16.0</td>\n      <td>42.0</td>\n      <td>650.0</td>\n    </tr>\n    <tr>\n      <th>378</th>\n      <td>Hamilton Khaki Field Watches</td>\n      <td>M</td>\n      <td>NaN</td>\n      <td>other</td>\n      <td>21.0</td>\n      <td>38.0</td>\n      <td>400.0</td>\n    </tr>\n    <tr>\n      <th>379</th>\n      <td>Hamilton Jazzmaster Steel Watch</td>\n      <td>M</td>\n      <td>NaN</td>\n      <td>steel</td>\n      <td>17.0</td>\n      <td>36.0</td>\n      <td>600.0</td>\n    </tr>\n    <tr>\n      <th>447</th>\n      <td>Hamilton Khaki GMT Steel Watch</td>\n      <td>M</td>\n      <td>NaN</td>\n      <td>steel</td>\n      <td>18.0</td>\n      <td>42.0</td>\n      <td>500.0</td>\n    </tr>\n    <tr>\n      <th>449</th>\n      <td>Breguet Marine Gold Watch</td>\n      <td>U</td>\n      <td>NaN</td>\n      <td>black</td>\n      <td>13.0</td>\n      <td>35.0</td>\n      <td>10000.0</td>\n    </tr>\n    <tr>\n      <th>453</th>\n      <td>Hamilton Khaki Field Mechanical Steel Watch</td>\n      <td>M</td>\n      <td>NaN</td>\n      <td>other</td>\n      <td>19.0</td>\n      <td>38.0</td>\n      <td>350.0</td>\n    </tr>\n    <tr>\n      <th>502</th>\n      <td>Hamilton Jazzmaster Steel Watch (H32565735)</td>\n      <td>M</td>\n      <td>NaN</td>\n      <td>black</td>\n      <td>19.0</td>\n      <td>41.0</td>\n      <td>550.0</td>\n    </tr>\n    <tr>\n      <th>506</th>\n      <td>Hamilton Jazzmaster Steel Watch (H327050)</td>\n      <td>M</td>\n      <td>NaN</td>\n      <td>steel</td>\n      <td>18.0</td>\n      <td>42.0</td>\n      <td>470.0</td>\n    </tr>\n    <tr>\n      <th>617</th>\n      <td>Baume &amp; Mercier Promes diamond steel watch</td>\n      <td>F</td>\n      <td>NaN</td>\n      <td>steel</td>\n      <td>16.0</td>\n      <td>29.0</td>\n      <td>700.0</td>\n    </tr>\n    <tr>\n      <th>792</th>\n      <td>Hamilton Flight Timer Chrono Steel Watch (H645...</td>\n      <td>M</td>\n      <td>NaN</td>\n      <td>steel</td>\n      <td>17.0</td>\n      <td>39.0</td>\n      <td>500.0</td>\n    </tr>\n    <tr>\n      <th>814</th>\n      <td>Hamilton Below Zero Steel Watch</td>\n      <td>M</td>\n      <td>NaN</td>\n      <td>steel</td>\n      <td>17.0</td>\n      <td>44.0</td>\n      <td>900.0</td>\n    </tr>\n    <tr>\n      <th>817</th>\n      <td>Hamilton Jazzmaster Maestro Chrono Steel Watch...</td>\n      <td>M</td>\n      <td>NaN</td>\n      <td>steel</td>\n      <td>17.0</td>\n      <td>40.0</td>\n      <td>750.0</td>\n    </tr>\n    <tr>\n      <th>818</th>\n      <td>Hamilton Khaki Navy Pioneer Steel Watch (Table...</td>\n      <td>M</td>\n      <td>NaN</td>\n      <td>brown</td>\n      <td>19.0</td>\n      <td>47.0</td>\n      <td>1500.0</td>\n    </tr>\n    <tr>\n      <th>1007</th>\n      <td>Teg Heuer Cell Professional Steel Watch (WG131...</td>\n      <td>F</td>\n      <td>NaN</td>\n      <td>steel</td>\n      <td>14.0</td>\n      <td>26.0</td>\n      <td>220.0</td>\n    </tr>\n    <tr>\n      <th>1124</th>\n      <td>Frederique Constant steel watch</td>\n      <td>M</td>\n      <td>NaN</td>\n      <td>black</td>\n      <td>19.0</td>\n      <td>3.0</td>\n      <td>480.0</td>\n    </tr>\n    <tr>\n      <th>1462</th>\n      <td>Baume &amp; Mercier Chrono Steel Watch (MV040122)</td>\n      <td>M</td>\n      <td>NaN</td>\n      <td>black</td>\n      <td>18.0</td>\n      <td>36.0</td>\n      <td>900.0</td>\n    </tr>\n    <tr>\n      <th>1464</th>\n      <td>Hamilton Khaki Field Steel Watch (H70505153)</td>\n      <td>M</td>\n      <td>NaN</td>\n      <td>steel</td>\n      <td>19.0</td>\n      <td>42.0</td>\n      <td>470.0</td>\n    </tr>\n    <tr>\n      <th>1471</th>\n      <td>Hamilton Jazzmaster Open Heart Lady Steel Watc...</td>\n      <td>F</td>\n      <td>NaN</td>\n      <td>steel</td>\n      <td>15.0</td>\n      <td>34.0</td>\n      <td>550.0</td>\n    </tr>\n    <tr>\n      <th>1485</th>\n      <td>Baume &amp; Mercier Classima Steel Watch (65493)</td>\n      <td>M</td>\n      <td>NaN</td>\n      <td>brown</td>\n      <td>19.0</td>\n      <td>42.0</td>\n      <td>550.0</td>\n    </tr>\n    <tr>\n      <th>1502</th>\n      <td>Hamilton Jazzmaster Open Heart Steel Watch</td>\n      <td>M</td>\n      <td>NaN</td>\n      <td>steel</td>\n      <td>17.0</td>\n      <td>40.0</td>\n      <td>450.0</td>\n    </tr>\n    <tr>\n      <th>1514</th>\n      <td>Hamilton Broadway Chrono Steel Watch (H435160)</td>\n      <td>M</td>\n      <td>NaN</td>\n      <td>steel</td>\n      <td>21.0</td>\n      <td>4.0</td>\n      <td>550.0</td>\n    </tr>\n    <tr>\n      <th>1558</th>\n      <td>Oris Big Crown Pointer Date Watch in Bronze (7...</td>\n      <td>M</td>\n      <td>NaN</td>\n      <td>brown</td>\n      <td>19.0</td>\n      <td>40.0</td>\n      <td>1100.0</td>\n    </tr>\n    <tr>\n      <th>1703</th>\n      <td>Hamilton Jazzmaster Maestro Chrono Steel Watch</td>\n      <td>M</td>\n      <td>NaN</td>\n      <td>brown</td>\n      <td>18.0</td>\n      <td>41.0</td>\n      <td>650.0</td>\n    </tr>\n    <tr>\n      <th>1910</th>\n      <td>Baume &amp; Mercier Clifton Steel Watch</td>\n      <td>M</td>\n      <td>NaN</td>\n      <td>other</td>\n      <td>17.0</td>\n      <td>4.0</td>\n      <td>950.0</td>\n    </tr>\n    <tr>\n      <th>1911</th>\n      <td>Montblanc Timewalker Steel Watch</td>\n      <td>M</td>\n      <td>NaN</td>\n      <td>steel</td>\n      <td>17.0</td>\n      <td>4.0</td>\n      <td>1400.0</td>\n    </tr>\n    <tr>\n      <th>1967</th>\n      <td>Hamilton Jazzmaster Steel Watch (H32705141)</td>\n      <td>M</td>\n      <td>NaN</td>\n      <td>brown</td>\n      <td>16.0</td>\n      <td>42.0</td>\n      <td>600.0</td>\n    </tr>\n    <tr>\n      <th>1979</th>\n      <td>Hamilton Broadway Chrono Steel Watch (H43516131)</td>\n      <td>M</td>\n      <td>NaN</td>\n      <td>steel</td>\n      <td>20.0</td>\n      <td>43.0</td>\n      <td>700.0</td>\n    </tr>\n    <tr>\n      <th>1996</th>\n      <td>Baume &amp; Mercier Linea Diamond Steel Watch (65690)</td>\n      <td>F</td>\n      <td>NaN</td>\n      <td>steel</td>\n      <td>16.0</td>\n      <td>27.0</td>\n      <td>1050.0</td>\n    </tr>\n    <tr>\n      <th>2094</th>\n      <td>Baume &amp; Mercier Linea Diamond Combination Watch</td>\n      <td>F</td>\n      <td>NaN</td>\n      <td>steel</td>\n      <td>15.0</td>\n      <td>24.0</td>\n      <td>1150.0</td>\n    </tr>\n    <tr>\n      <th>2097</th>\n      <td>Baume &amp; Mercier Riviera Steel Watch</td>\n      <td>M</td>\n      <td>NaN</td>\n      <td>steel</td>\n      <td>18.0</td>\n      <td>38.0</td>\n      <td>600.0</td>\n    </tr>\n    <tr>\n      <th>2191</th>\n      <td>Baume &amp; Mercier Promes steel watch</td>\n      <td>F</td>\n      <td>NaN</td>\n      <td>other</td>\n      <td>17.0</td>\n      <td>34.0</td>\n      <td>1000.0</td>\n    </tr>\n    <tr>\n      <th>2249</th>\n      <td>Hamilton Steel Watch</td>\n      <td>U</td>\n      <td>NaN</td>\n      <td>other</td>\n      <td>17.0</td>\n      <td>36.0</td>\n      <td>380.0</td>\n    </tr>\n    <tr>\n      <th>2304</th>\n      <td>Hamilton Jazzmaster Open Heart Steel Watch</td>\n      <td>F</td>\n      <td>NaN</td>\n      <td>steel</td>\n      <td>15.0</td>\n      <td>36.0</td>\n      <td>400.0</td>\n    </tr>\n    <tr>\n      <th>2342</th>\n      <td>Rado Diastar Ceramic Watch (115.0653.3)</td>\n      <td>M</td>\n      <td>NaN</td>\n      <td>black</td>\n      <td>17.0</td>\n      <td>40.0</td>\n      <td>980.0</td>\n    </tr>\n    <tr>\n      <th>2412</th>\n      <td>Frederique Constant Classic Business Moonphase...</td>\n      <td>F</td>\n      <td>NaN</td>\n      <td>steel</td>\n      <td>17.0</td>\n      <td>40.0</td>\n      <td>650.0</td>\n    </tr>\n    <tr>\n      <th>2413</th>\n      <td>Maurice Lacroix Steel Watch (EL1087)</td>\n      <td>M</td>\n      <td>NaN</td>\n      <td>steel</td>\n      <td>17.0</td>\n      <td>38.0</td>\n      <td>420.0</td>\n    </tr>\n    <tr>\n      <th>2665</th>\n      <td>Hamilton Jazzmaster Steel Watch</td>\n      <td>M</td>\n      <td>NaN</td>\n      <td>brown</td>\n      <td>16.0</td>\n      <td>45.0</td>\n      <td>390.0</td>\n    </tr>\n    <tr>\n      <th>3023</th>\n      <td>Maurice Lacroix Icon Chrono Steel Watch (AI1018)</td>\n      <td>M</td>\n      <td>NaN</td>\n      <td>steel</td>\n      <td>17.0</td>\n      <td>43.0</td>\n      <td>950.0</td>\n    </tr>\n  </tbody>\n</table>\n</div>"
     },
     "metadata": {},
     "output_type": "display_data"
    }
   ],
   "source": [
    "# display the entries with missing brands\n",
    "\n",
    "pd.set_option('display.max_rows', None)\n",
    "display(dataset[dataset['brand'].isna()])\n",
    "pd.set_option('display.max_rows', 7)"
   ],
   "metadata": {
    "collapsed": false,
    "pycharm": {
     "name": "#%%\n"
    }
   }
  },
  {
   "cell_type": "code",
   "execution_count": 14,
   "outputs": [
    {
     "name": "stdout",
     "output_type": "stream",
     "text": [
      "0         a lange & sohne\n",
      "1         audemars piguet\n",
      "2         baume & mercier\n",
      "3             bell & rose\n",
      "4             bell & ross\n",
      "5               blancpain\n",
      "6               boucheron\n",
      "7                 breguet\n",
      "8               breitling\n",
      "9                 bulgari\n",
      "10               burberry\n",
      "11                bvlgari\n",
      "12                cartier\n",
      "13                 chanel\n",
      "14                chaumet\n",
      "15           chaumé liens\n",
      "16                chopard\n",
      "17         christian dior\n",
      "18            chronoswiss\n",
      "19                damiani\n",
      "20                  fendi\n",
      "21              ferragamo\n",
      "22          franck muller\n",
      "23    frederique constant\n",
      "24       girard perregaux\n",
      "25       girard-perregaux\n",
      "26                 graham\n",
      "27                  gucci\n",
      "28               hamilton\n",
      "29          harry winston\n",
      "30           harrywinston\n",
      "31                 hermes\n",
      "32                 hublot\n",
      "33                    iwc\n",
      "34       jaeger lecoultre\n",
      "35          lange & sohne\n",
      "36               longines\n",
      "37          louis vuitton\n",
      "38        maurice lacroix\n",
      "39              montblanc\n",
      "40                  omega\n",
      "41                   oris\n",
      "42                  other\n",
      "43                panerai\n",
      "44         patek philippe\n",
      "45              perregaux\n",
      "46                 piaget\n",
      "47                  prada\n",
      "48                   rado\n",
      "49           roger dubuis\n",
      "50           roger duvira\n",
      "51                  rolex\n",
      "52              tag heuer\n",
      "53               tagheuer\n",
      "54              teg heuer\n",
      "55                tiffany\n",
      "56                  tudor\n",
      "57          ulysse nardin\n",
      "58    vacheron constantin\n",
      "59     van cleef & arpels\n",
      "60              van kleep\n",
      "61                 zenith\n",
      "dtype: object\n"
     ]
    }
   ],
   "source": [
    "# create an array that contains all the unique values in brand\n",
    "brands = pd.Series(dataset['brand'].unique())\n",
    "\n",
    "# remove the missing value\n",
    "brands = brands[brands.isna() == False]\n",
    "\n",
    "# add some more values\n",
    "brands = pd.concat([brands, pd.Series(['hamilton', 'rado', 'baume & mercier', 'tag heuer', 'harry winston', 'teg heuer', 'bulgari',\n",
    "                                       'van kleep', 'roger duvira', 'lange & sohne', 'girard perregaux', 'perregaux', 'bell & ross', 'chaumé liens'])])\n",
    "# convert to lower case\n",
    "brands = brands.str.lower()\n",
    "\n",
    "# sort alphabetically\n",
    "brands = brands.sort_values().reset_index(drop=True)\n",
    "\n",
    "# display the result\n",
    "pd.set_option('display.max_rows', None)\n",
    "print(brands)\n",
    "pd.set_option('display.max_rows', 7)"
   ],
   "metadata": {
    "collapsed": false,
    "pycharm": {
     "name": "#%%\n"
    }
   }
  },
  {
   "cell_type": "code",
   "execution_count": 15,
   "outputs": [],
   "source": [
    "def infer_brand(watch_name, brands = brands):\n",
    "    \"\"\" a function that infers the brand from watch_name \"\"\"\n",
    "    result = 'missing'\n",
    "    for brand in brands:\n",
    "        if brand in watch_name.lower():\n",
    "            result = brand\n",
    "    return result"
   ],
   "metadata": {
    "collapsed": false,
    "pycharm": {
     "name": "#%%\n"
    }
   }
  },
  {
   "cell_type": "code",
   "execution_count": 16,
   "outputs": [],
   "source": [
    "# apply the infer_brand function\n",
    "\n",
    "dataset['brand'] = dataset['watch_name'].apply(infer_brand)"
   ],
   "metadata": {
    "collapsed": false,
    "pycharm": {
     "name": "#%%\n"
    }
   }
  },
  {
   "cell_type": "code",
   "execution_count": 17,
   "outputs": [
    {
     "data": {
      "text/plain": "Empty DataFrame\nColumns: [watch_name, type_gender, brand, watch_color, watch_size, length_of_band, price]\nIndex: []",
      "text/html": "<div>\n<style scoped>\n    .dataframe tbody tr th:only-of-type {\n        vertical-align: middle;\n    }\n\n    .dataframe tbody tr th {\n        vertical-align: top;\n    }\n\n    .dataframe thead th {\n        text-align: right;\n    }\n</style>\n<table border=\"1\" class=\"dataframe\">\n  <thead>\n    <tr style=\"text-align: right;\">\n      <th></th>\n      <th>watch_name</th>\n      <th>type_gender</th>\n      <th>brand</th>\n      <th>watch_color</th>\n      <th>watch_size</th>\n      <th>length_of_band</th>\n      <th>price</th>\n    </tr>\n  </thead>\n  <tbody>\n  </tbody>\n</table>\n</div>"
     },
     "metadata": {},
     "output_type": "display_data"
    }
   ],
   "source": [
    "# check for remaining missing values\n",
    "\n",
    "pd.set_option('display.max_rows', None)\n",
    "display(dataset[dataset['brand'] == 'missing'])\n",
    "pd.set_option('display.max_rows', 8)"
   ],
   "metadata": {
    "collapsed": false,
    "pycharm": {
     "name": "#%%\n"
    }
   }
  },
  {
   "cell_type": "markdown",
   "source": [
    "## 3.2 Fix spelling errors in brand\n",
    "\n",
    "Some of the brands are spelt incorrectly and need to be fixed."
   ],
   "metadata": {
    "collapsed": false,
    "pycharm": {
     "name": "#%% md\n"
    }
   }
  },
  {
   "cell_type": "code",
   "execution_count": 18,
   "outputs": [],
   "source": [
    "dataset['brand'] = dataset['brand'].str.strip()"
   ],
   "metadata": {
    "collapsed": false,
    "pycharm": {
     "name": "#%%\n"
    }
   }
  },
  {
   "cell_type": "code",
   "execution_count": 19,
   "outputs": [
    {
     "name": "stdout",
     "output_type": "stream",
     "text": [
      "['rolex' 'cartier' 'breitling' 'blancpain' 'hermes' 'jaeger lecoultre'\n",
      " 'chanel' 'iwc' 'frederique constant' 'gucci' 'patek philippe' 'tag heuer'\n",
      " 'omega' 'tudor' 'longines' 'louis vuitton' 'chopard' 'fendi' 'piaget'\n",
      " 'baume & mercier' 'bulgari' 'perregaux' 'ferragamo' 'tiffany' 'hublot'\n",
      " 'audemars piguet' 'van kleep' 'bvlgari' 'chronoswiss' 'oris' 'montblanc'\n",
      " 'vacheron constantin' 'harry winston' 'panerai' 'hamilton' 'breguet'\n",
      " 'franck muller' 'rado' 'chaumet' 'christian dior' 'zenith' 'boucheron'\n",
      " 'burberry' 'damiani' 'teg heuer' 'bell & ross' 'maurice lacroix'\n",
      " 'lange & sohne' 'van cleef & arpels' 'ulysse nardin' 'chaumé liens'\n",
      " 'graham' 'other' 'roger dubuis' 'roger duvira' 'prada']\n"
     ]
    }
   ],
   "source": [
    "# display all unique brands\n",
    "\n",
    "pd.set_option('display.max_rows', None)\n",
    "print(dataset['brand'].unique())\n",
    "pd.set_option('display.max_rows', 8)"
   ],
   "metadata": {
    "collapsed": false,
    "pycharm": {
     "name": "#%%\n"
    }
   }
  },
  {
   "cell_type": "code",
   "execution_count": 20,
   "outputs": [],
   "source": [
    "# create a dictionary that maps the incorrectly spelt brands to correctly spelt ones\n",
    "\n",
    "brands_spelling_dict = dict({'bell & rose':'bell & ross', 'bvlgari':'bulgari', 'chaumé liens':'chaumet', 'christian dior':'dior',\n",
    "                             'girard-perregaux':'girard perregaux', 'harrywinston':'harry winston', 'lange & sohne':'a lange & sohne',\n",
    "                             'perregaux':'girard, perregaux', 'roger duvira':'roger dubuis', 'tagheuer':'tag heuer', 'teg heuer':'tag heuer',\n",
    "                             'van kleep':'van cleef & arpels'})"
   ],
   "metadata": {
    "collapsed": false,
    "pycharm": {
     "name": "#%%\n"
    }
   }
  },
  {
   "cell_type": "code",
   "execution_count": 21,
   "outputs": [],
   "source": [
    "# correct the brands\n",
    "\n",
    "dataset['brand'] = dataset['brand'].replace(brands_spelling_dict)"
   ],
   "metadata": {
    "collapsed": false,
    "pycharm": {
     "name": "#%%\n"
    }
   }
  },
  {
   "cell_type": "code",
   "execution_count": 22,
   "outputs": [
    {
     "name": "stdout",
     "output_type": "stream",
     "text": [
      "45        a lange & sohne\n",
      "25        audemars piguet\n",
      "19        baume & mercier\n",
      "43            bell & ross\n",
      "3               blancpain\n",
      "40              boucheron\n",
      "34                breguet\n",
      "2               breitling\n",
      "20                bulgari\n",
      "41               burberry\n",
      "1                 cartier\n",
      "6                  chanel\n",
      "37                chaumet\n",
      "16                chopard\n",
      "27            chronoswiss\n",
      "42                damiani\n",
      "38                   dior\n",
      "17                  fendi\n",
      "22              ferragamo\n",
      "35          franck muller\n",
      "8     frederique constant\n",
      "21      girard, perregaux\n",
      "47                 graham\n",
      "9                   gucci\n",
      "33               hamilton\n",
      "31          harry winston\n",
      "4                  hermes\n",
      "24                 hublot\n",
      "7                     iwc\n",
      "5        jaeger lecoultre\n",
      "14               longines\n",
      "15          louis vuitton\n",
      "44        maurice lacroix\n",
      "29              montblanc\n",
      "12                  omega\n",
      "28                   oris\n",
      "48                  other\n",
      "32                panerai\n",
      "10         patek philippe\n",
      "18                 piaget\n",
      "50                  prada\n",
      "36                   rado\n",
      "49           roger dubuis\n",
      "0                   rolex\n",
      "11              tag heuer\n",
      "23                tiffany\n",
      "13                  tudor\n",
      "46          ulysse nardin\n",
      "30    vacheron constantin\n",
      "26     van cleef & arpels\n",
      "39                 zenith\n",
      "dtype: object\n"
     ]
    }
   ],
   "source": [
    "# check that all the brands are spelt correctly\n",
    "\n",
    "pd.set_option('display.max_rows', None)\n",
    "print(pd.Series(dataset['brand'].unique()).sort_values())\n",
    "pd.set_option('display.max_rows', 8)"
   ],
   "metadata": {
    "collapsed": false,
    "pycharm": {
     "name": "#%%\n"
    }
   }
  },
  {
   "cell_type": "markdown",
   "source": [
    "# 5. Watch colour"
   ],
   "metadata": {
    "collapsed": false,
    "pycharm": {
     "name": "#%% md\n"
    }
   }
  },
  {
   "cell_type": "markdown",
   "source": [
    "## 5.1 Obtain more information regarding watch_color\n",
    "\n",
    "Many of the values are simply 'other'. It could be that there is a desire for simplicity. That is, if a watch does not have a simple colour it assigned the value of 'other' in order to aviod over-complication or sparse categories. However, in some instances the colour is obvious from watch_name and also not uncommon. This section of the notebook attempts to obtain information relating to watch_color from watch_name."
   ],
   "metadata": {
    "collapsed": false,
    "pycharm": {
     "name": "#%% md\n"
    }
   }
  },
  {
   "cell_type": "code",
   "execution_count": 23,
   "outputs": [
    {
     "name": "stdout",
     "output_type": "stream",
     "text": [
      "5                      Rolex Combi Diamond Watch (279171)\n",
      "8              Hermes H Hour Gold Plated Watch (HH1.201e)\n",
      "26                  Gucci Gold Plated Combi Watch (126.5)\n",
      "34                   Omega Speedmaster Chrono Steel Watch\n",
      "47                     Rolex Combi Diamond Watch (116231)\n",
      "53                    IWC Pilot Spitfire Watch (IW387903)\n",
      "58                   Rolex Skydweller Gold Watch (326935)\n",
      "63                               Gucci Sync Watch (137.1)\n",
      "69             Hermes H Hour Gold Plated Watch (HH1.201e)\n",
      "72                         Cartier Ballon Bleu Gold Watch\n",
      "79                               Gucci Sync Watch (137.1)\n",
      "83                                     Gucci watch (6600)\n",
      "84                     Rolex Combi Diamond Watch (126231)\n",
      "86                              Gucci Steel Watch (134.3)\n",
      "87                      Gucci Steel Diamond Watch (1500L)\n",
      "95                             Cartier Panther Gold Watch\n",
      "117            Louis Vuitton Tambour Chrono Watch (Q102V)\n",
      "124                                 ferragamo steel watch\n",
      "127              Cartier American Tank Diamond Gold Watch\n",
      "130                      Cartier Delis diamond gold watch\n",
      "133                                Chanel Premier Watches\n",
      "139                      Chanel Premier Gold Plated Watch\n",
      "141         Ferragamo Gold Plated Combi Watch (FI1020014)\n",
      "148            Cartier Panther Gold Diamond Watch (Small)\n",
      "151                 Cartier Tank Louis Gold Watch (Small)\n",
      "152                 Cartier Tank Louis Gold Watch (Large)\n",
      "159     Hermes H Hour Two Strap Dia Steel Watch (HH1.110)\n",
      "163                   Ferragamo Gancini gold-plated watch\n",
      "191     Blancpain Léman Moonphase Steel Watch (2360-11...\n",
      "217           Hermes Kelly Steel Necklace Watch (KE1.210)\n",
      "223                  Piaget Possession diamond gold watch\n",
      "229                   Hermes H Hour Steel Watch (HH1.210)\n",
      "232                     Cartier Benoit Diamond Gold Watch\n",
      "242                     Rolex Gold Diamond Watch (179179)\n",
      "243                     Rolex Gold Diamond Watch (179175)\n",
      "244                             Rolex Gold Watch (179178)\n",
      "247                           Bvlgari Lucea watch (LU28S)\n",
      "253                 Gucci Gold Plated Combi Watch (9000L)\n",
      "254               Cartier 21st Century Chrono Steel Watch\n",
      "256                Vacheron Constantin Diamond Gold Watch\n",
      "257                Vacheron Constantin Diamond Gold Watch\n",
      "260     Harry Winston Midnight Diamond Gold Watch (MID...\n",
      "264                        Cartier Ballon Bleu Gold Watch\n",
      "273     Omega Seamaster Diver 300M 007 Edition Titaniu...\n",
      "275            Rolex Day Date Diamond Gold Watch (228235)\n",
      "279                       Cartier Tank Diamond Gold Watch\n",
      "285                            Cartier diamond gold watch\n",
      "294                      Piaget Dancer Gold Diamond Watch\n",
      "298                         Hermes H Hour Watch (HH1.801)\n",
      "302                  Rolex Gold Diamond Watch (279135RBR)\n",
      "303                    Chanel J12 Chromatic Watch (H2978)\n",
      "304                          Tiffany Square Diamond Watch\n",
      "305     Tag Heuer Aquaracer Bamford Titanium Watch (WA...\n",
      "329                   Tudor Black Bay Combi Watch (79683)\n",
      "344                      Cartier Tank Combi Watch (Large)\n",
      "346          Ferragamo Vega gold-plated combination watch\n",
      "348      Bulgari Serpenti Gold Diamond Watch (SPP27WPGDL)\n",
      "351        Cartier Ballon Bleu Gold Diamond Watch (Small)\n",
      "358        Hermes Rally Gold Plated Combi Watch (RA1.220)\n",
      "364                   Bulgari B.zero1 Steel Watch (BZ22S)\n",
      "365                   Ferragamo Gancini gold-plated watch\n",
      "372                            Chanel Lahonde Steel Watch\n",
      "378                          Hamilton Khaki Field Watches\n",
      "382                    Cartier Panther Diamond Gold Watch\n",
      "386                            Rolex Combi Watch (279173)\n",
      "397                    Rolex Daytona Combi Watch (116523)\n",
      "400                 Rolex Combi Diamond Watch (279381RBR)\n",
      "401                   Hermes H Hour Steel Watch (HH1.230)\n",
      "407                            Rolex Combi Watch (278271)\n",
      "411            Hermes H Hour Diamond Gold Watch (HH1.273)\n",
      "416                             Gucci Steel Watch (147.5)\n",
      "434                 Cartier Demoiselle Gold Diamond Watch\n",
      "437                                       ferragamo watch\n",
      "443           Hermes H Hour Diamond Steel Watch (HH1.510)\n",
      "451             Rolex Daytona Gold Diamond Watch (116505)\n",
      "453           Hamilton Khaki Field Mechanical Steel Watch\n",
      "454                 Cartier Panther Gold Watch (WGPN0006)\n",
      "460                    Rolex Combi Diamond Watch (278271)\n",
      "470                      Rolex Gold Diamond Watch (69158)\n",
      "473                    Rolex Day-Date Gold Watch (228239)\n",
      "479                    Rolex Datejust Gold Watch (279175)\n",
      "480                     Cartier Benoit Diamond Gold Watch\n",
      "481     Harry Winston Premier Chrono Diamond Gold Watc...\n",
      "483     Omega Speedmaster Apollo 11 Chrono Titanium Co...\n",
      "485                Franck Muller Coeur Diamond Gold Watch\n",
      "492         Harry Winston Diamond Gold Watch (710/LQWW03)\n",
      "496                          Cartier Solotank Steel Watch\n",
      "510                   Hermes H Hour Steel Watch (HH1.110)\n",
      "516                   Hermes H Hour Steel Watch (HH1.210)\n",
      "518                Hermes Clipper Gold Plated Combi Watch\n",
      "519         Hermes H Hour Two Strap Steel Watch (HH1.210)\n",
      "528             Cartier Ballon Bleu Gold Watch (W6920096)\n",
      "531           Bulgari B.zero1 Diamond Steel Watch (BZ22S)\n",
      "537             Chanel Mademoiselle Gold Pearl Band Watch\n",
      "540             Rolex Datejust Combination Watch (116233)\n",
      "545                     Ferragamo Steel Watch (SFDE00118)\n",
      "546                      Cartier Pasha Diamond Gold Watch\n",
      "547     Van Kleep & Arpels Sweet Alhambra Diamond Gold...\n",
      "555     Jaeger LeCoultre Reverso Tribute Moonphase Day...\n",
      "557                 Ferragamo Gold Plated Watch (SFNE003)\n",
      "562           Hermes H Hour Diamond Steel Watch (HH1.235)\n",
      "565         Bvlgari Rectanglo Chrono Steel Watch (RTC49S)\n",
      "578                       Cartier Santos Combi Watch (XL)\n",
      "580                    Cartier Santos Combi Watch (Small)\n",
      "587                 Gucci Gold Plated Combi Watch (126.4)\n",
      "589        Hermes Asso Moonphase Diamond Watch (AR7M.531)\n",
      "596                    Rolex Day-Date Gold Watch (228235)\n",
      "597               Gucci Diamond Gold Plated Watch (125.5)\n",
      "600        TAG Heuer Carrera Chrono Steel Watch (CBK2112)\n",
      "604                Hermes Clipper Gold Plated Combi Watch\n",
      "608                   Hermes H Hour Steel Watch (HH1.210)\n",
      "611      Hermes Clipper Gold Plated Combi Watch (CL4.220)\n",
      "621                     Cartier Trinity Gold Plated Watch\n",
      "622                Hermes Clipper Gold Plated Combi Watch\n",
      "625             Oris Divers Sixty-Five Steel Watch (7720)\n",
      "627                             Fendi Steel Watch (3800L)\n",
      "631      Hermes Clipper Gold Plated Combi Watch (CL4.220)\n",
      "633                     Cartier Trinity Gold Plated Watch\n",
      "637                   Hermes H Hour Steel Watch (HH1.210)\n",
      "641                   Bulgari B.zero1 Steel Watch (BZ22S)\n",
      "661                              Chanel J12 Paradox Watch\n",
      "664                         Gucci Two Strap Watch (147.5)\n",
      "670                      Cartier Pasha Diamond Gold Watch\n",
      "679                    Rolex Combi Diamond Watch (126201)\n",
      "692                            Chanel J12 Chromatic Watch\n",
      "697                    Hermes Slim Dermes Watch (CA2.110)\n",
      "702                    Rolex Combi Diamond Watch (179173)\n",
      "713             Hermes H Hour Gold Plated Watch (HH1.201)\n",
      "715           Bulgari B.zero1 Diamond Steel Watch (BZ22S)\n",
      "719             Hermes H Hour Gold Plated Watch (HH1.201)\n",
      "722                   Bulgari B.zero1 Steel Watch (BZ22S)\n",
      "723               Chanel Premier Rock Steel Watch (H4326)\n",
      "728        Louis Vuitton Tambour Steel Smartwatch (QA052)\n",
      "729                 Gucci Gold Plated Combi Watch (126.5)\n",
      "730                           Gucci Steel Watch (5200L.1)\n",
      "738                      Gucci Chrono Steel Watch (131.2)\n",
      "741                           Ferragamo Gold Plated Watch\n",
      "743                           Ferragamo Gold Plated Watch\n",
      "749               Montblanc Heritage Steel Watch (119947)\n",
      "757             Hermes H Hour Gold Plated Watch (HH1.101)\n",
      "760                             Gucci Steel Watch (126.5)\n",
      "762                 Gucci Gold Plated Combi Watch (126.4)\n",
      "765                   Hermes H Hour Steel Watch (HH1.110)\n",
      "766                   Bulgari B.zero1 Steel Watch (BZ22S)\n",
      "786                        Cartier Ballon Bleu Gold Watch\n",
      "787               Ferragamo gold-plated combination watch\n",
      "790                             Gucci Steel Watch (147.5)\n",
      "793                           Ferragamo Gold Plated Watch\n",
      "798        IWC Pilot Double Chrono Steel Watch (IW371808)\n",
      "804                       Gucci Gold Plated Watch (126.4)\n",
      "809     Hermes Kelly 2 Two Strap Dia Steel Watch (KT1....\n",
      "816       Franck Muller Heart to Heart Gold Diamond Watch\n",
      "822            Hermes H Hour Gold Diamond Watch (HH1.273)\n",
      "823              Cartier American Tank Gold Diamond Watch\n",
      "825                      Cartier Anglaise Tank Gold Watch\n",
      "829                   Piaget Altiprano Gold Diamond Watch\n",
      "830              Cartier American Tank Gold Diamond Watch\n",
      "833                      Breguet Marine Gold Chrono Watch\n",
      "834                    Rolex Combi Diamond Watch (126201)\n",
      "835                     Rolex Gold Diamond Watch (118348)\n",
      "836                             Rolex Gold Watch (179178)\n",
      "837                     Rolex Gold Diamond Watch (179178)\n",
      "838                     Rolex Gold Diamond Watch (179179)\n",
      "845                     Cartier Santos Dumont Steel Watch\n",
      "848                     Cartier Ballon Bleu Diamond Watch\n",
      "852      Vacheron Constantin Patrimony Diamond Gold Watch\n",
      "865                 Hermes Assault Steel Watch (AR7Q.810)\n",
      "866                    Cartier Panther Diamond Gold Watch\n",
      "868                     Cartier Tank Combi Watch (Medium)\n",
      "874                    Rolex Combi Diamond Watch (179383)\n",
      "875              Rolex Daytona Chrono Gold Watch (116509)\n",
      "876          Cartier Santos Dumont Combi Watch (W2SA0012)\n",
      "883              Rolex Daytona Chrono Gold Watch (116509)\n",
      "884                      Cartier Tank Combi Watch (Small)\n",
      "886                         Ferragamo Gancini steel watch\n",
      "896                 Hermes Cape Cod Steel Watch (CC3.710)\n",
      "900                             Gucci Steel Watch (126.4)\n",
      "908                     Cartier American Tank Steel Watch\n",
      "918                  Hermes Assault Steel Watch (AR8.810)\n",
      "939                    Fendi Selleria Steel Watch (8100M)\n",
      "941         Louis Vuitton Tambour GMT Steel Watch (Q1152)\n",
      "944     Christian Dior Crystal Diamonds Steel Watch (C...\n",
      "962     Cartier 21st Century Gold Plated Combination W...\n",
      "965                 Hermes Cape Cod Steel Watch (CC2.710)\n",
      "968               Hermes H Hour Two Strap Watch (HH1.110)\n",
      "972                  Hermes H Hour Steel Watch (HH1.210c)\n",
      "976                   Hermes H Hour Steel Watch (HH1.210)\n",
      "993       Rolex Datejust 10P Diamond Combi Watch (278273)\n",
      "1010                    Franck Muller Master Square Watch\n",
      "1012                            Cartier Divan Steel Watch\n",
      "1013     Louis Vuitton Tambour Chrono Steel Watch (Q1121)\n",
      "1015              Hermes Carre Cure Steel Watch (CU2.210)\n",
      "1017                Rolex Submariner Steel Watch (114060)\n",
      "1018                            Gucci Combi Watch (126.3)\n",
      "1023              Omega Seamaster 007 Edition Steel Watch\n",
      "1027    Hermes Cape Cod Two Strap Diamond Steel Watch ...\n",
      "1050                       Gucci Dive Steel Watch (136.2)\n",
      "1052                  Hermes H Hour Steel Watch (HH1.210)\n",
      "1060                      Gucci Gold Plated Watch (126.4)\n",
      "1064              Omega Constellation Diamond Combi Watch\n",
      "1067    Omega Deville Diamond Gold Watch (42453276055001)\n",
      "1082                  Chopard Imperial Gold Diamond Watch\n",
      "1094    Louis Vuitton Tambour Moon Dual Time Steel Wat...\n",
      "1099    Hermes H Hour Diamond Gold Plated Watch (HH1.102)\n",
      "1107                            Gucci Steel Watch (126.4)\n",
      "1111                     Rolex Gold Diamond Watch (78278)\n",
      "1126                Gucci Gold Plated Combi Watch (126.4)\n",
      "1128                 Cartier Ballon Bleu White Gold Watch\n",
      "1142                           Rolex Combi Watch (126303)\n",
      "1148                    Rolex Daytona Gold Watch (116505)\n",
      "1149                        Rolex Cerni Gold Watch (4109)\n",
      "1163                    Rolex Gold Diamond Watch (179179)\n",
      "1170                  Rolex Submariner Gold Watch (16618)\n",
      "1173                  IWC Top Gun Chrono Watch (IW389002)\n",
      "1174                              Cartier 21C Combi Watch\n",
      "1184    Jaeger Lecoultre Reverso Duo Face Diamond Stee...\n",
      "1197             Cartier American Tank Diamond Gold Watch\n",
      "1203             Rolex Platinum Diamond Watch (279136RBR)\n",
      "1208                Gucci Gold Plated Combi Watch (126.4)\n",
      "1211                    Rolex Combi Diamond Watch (79173)\n",
      "1217                           Hublot Big Bang Gold Watch\n",
      "1219        Tag Heuer Carrera Chrono Steel Watch (CV201M)\n",
      "1220          Hermes H Hour Diamond Steel Watch (HH1.510)\n",
      "1225        Tudor Heritage Black Bay Bronze Watch (79250)\n",
      "1226       Harry Winston Avenue Chrono Diamond Gold Watch\n",
      "1227                            Gucci Steel Watch (126.4)\n",
      "1233          Hermes H Hour Diamond Steel Watch (HH1.110)\n",
      "1240                  Ferragamo Gancini gold-plated watch\n",
      "1245         Cartier Santos Dumont Steel Watch (WSSA0023)\n",
      "1247                                  omega deville watch\n",
      "1250                Gucci Gold Plated Combi Watch (126.4)\n",
      "1252                   Hermes Rondo Steel Watch (HR1.210)\n",
      "1256                  Cartier Santos Dumont Watch (Small)\n",
      "1257    Jaeger Lecoultre Rendez-Vous Day Night Diamond...\n",
      "1265                  Hermes H Hour Steel Watch (HH1.210)\n",
      "1273                Audemars Piguet Code 11.59 Gold Watch\n",
      "1291        Hermes Cape Cod Diamond Steel Watch (CC1.312)\n",
      "1306                Rolex 10P Diamond Gold Watch (179179)\n",
      "1309     Breitling Avenger Chrono Titanium Watch (V13317)\n",
      "1318           Rolex Day Date Diamond Gold Watch (118235)\n",
      "1324                 Hermes H08 Titanium Watch (SP1.741a)\n",
      "1328                Rolex Combi Diamond Watch (279381RBR)\n",
      "1337                      Gucci Gold Plated Watch (157.5)\n",
      "1346                 Cartier Octagonal Santos Combi Watch\n",
      "1349                  Hermes H Hour Steel Watch (HH1.510)\n",
      "1351                     Chanel Premier Gold Plated Watch\n",
      "1355        Hermes H Hour Two Strap Steel Watch (HH1.210)\n",
      "1356                  Fendi Selleria Steel Watch (80200M)\n",
      "1365               Hermes Clipper Gold Plated Combi Watch\n",
      "1381                  Hermes H Hour Steel Watch (HH1.210)\n",
      "1389            Hermes H Hour Gold Plated Watch (HH1.201)\n",
      "1397                  Hermes H Hour Steel Watch (HH1.210)\n",
      "1404                   Rolex Combi Diamond Watch (179173)\n",
      "1405                   Rolex Combi Diamond Watch (179173)\n",
      "1423                                  Gucci watch (128.5)\n",
      "1426                        IWC Pilot Mark 18 Steel Watch\n",
      "1438    Louis Vuitton Escale Time Zone Steel Watch (Q5...\n",
      "1444       Piaget Limelight Magic Hour Gold Diamond Watch\n",
      "1466                            Tiffany Atlas Combi Watch\n",
      "1475             Hermes Slim Dermes Steel Watch (CA2.110)\n",
      "1483                           Chanel Premier Steel Watch\n",
      "1486                      Cartier Must Vendome Gold Watch\n",
      "1493     Hermes Cape Cod 8P Diamond Steel Watch (CC3.710)\n",
      "1500          Fendi Diamond Gold Plated Combi Watch (102)\n",
      "1501            Gucci Two Strap Gold Plated Watch (128.5)\n",
      "1508          Hermes H Hour Diamond Steel Watch (HH1.210)\n",
      "1518           Panerai Luminor Due Steel Watch (PAM01043)\n",
      "1519                     Cartier Pasha Diamond Gold Watch\n",
      "1523                      Ferragamo Steel Watch (SF1X001)\n",
      "1533            Hermes H Hour Gold Plated Watch (HH1.501)\n",
      "1546      Hermes Cape Cod Two Strap Steel Watch (CC1.210)\n",
      "1553                           Chanel Premier Steel Watch\n",
      "1561               Frederique Constant Hybrid Steel Watch\n",
      "1565             Cartier Santos Dumont Gold Diamond Watch\n",
      "1572    Tag Heuer Aquaracer Gold Plated Combination Wa...\n",
      "1574                    Cartier Ballon Bleu Diamond Watch\n",
      "1579    Frederique Constant Moonphase Diamond Gold Pla...\n",
      "1581      Chopard Happy Sports Moving Diamond Steel Watch\n",
      "1586          Ferragamo GMT gold-plated combination watch\n",
      "1587                  Hermes Pazpas Steel Watch (PP1.610)\n",
      "1600    Van Cleef & Arpels Pierre Arpels Gold Watch (A...\n",
      "1614             Rolex Daytona Chrono Gold Watch (116505)\n",
      "1632          Bulgari B.zero1 Diamond Steel Watch (BZ22S)\n",
      "1643                            Gucci Steel Watch (126.4)\n",
      "1648                  Hermes H Hour Steel Watch (HH1.210)\n",
      "1650                  Burberry Gold Plated Watch (BU4055)\n",
      "1664                Hermes H Hour Diamond Watch (HH1.236)\n",
      "1680                            Fendi Steel Watch (3800L)\n",
      "1700    Franck Muller Long Island Diamond Gold Watch (...\n",
      "1701                            Gucci Combi Watch (126.4)\n",
      "1708         IWC Portofino Diamond Steel Watch (IW458101)\n",
      "1715                          Gucci Diamond Watch (117.5)\n",
      "1719                    Cartier Mini Benoit Diamond Watch\n",
      "1731                   Rolex Gold Diamond Watch (179175F)\n",
      "1734                 Cartier Pasha Steel Watch (WSPA0010)\n",
      "1746          IWC Portupino Chrono Steel Watch (IW391019)\n",
      "1749                    Fendi Diamond Steel Watch (3800G)\n",
      "1751    Tag Heuer Aquaracer Gold Plated Combination Wa...\n",
      "1754         IWC Portuguese Chrono Steel Watch (IW371438)\n",
      "1763                           Cartier Claire Steel Watch\n",
      "1767                            Ferragamo Gancini watches\n",
      "1777           Rolex Day Date Diamond Gold Watch (228235)\n",
      "1782        Hermes H Hour Two Strap Steel Watch (HH1.210)\n",
      "1783       Bvlgari BB Catené Diamond Gold Watch (BBCP22G)\n",
      "1797             Rolex Daytona Chrono Gold Watch (116509)\n",
      "1811                   Cartier Captive Diamond Gold Watch\n",
      "1815                    Rolex Gold Diamond Watch (179179)\n",
      "1816                   Rolex Combi Diamond Watch (116203)\n",
      "1827      Ferragamo diamond gold-plated combination watch\n",
      "1833                  Hermes H Hour Steel Watch (HH1.810)\n",
      "1856              Gucci Diamond Gold Plated Watch (125.5)\n",
      "1875              Bvlgari BB Catenet Gold Watch (BBCP31G)\n",
      "1880              Cartier Ballon Blanc Diamond Gold Watch\n",
      "1883                        Cartier Solo Tank Steel Watch\n",
      "1886        IWC Da Vinci Moonphase Steel Watch (IW459306)\n",
      "1897                    Rolex Gold Diamond Watch (179179)\n",
      "1902                      Gucci Gold Plated Watch (126.4)\n",
      "1904         Tag Heuer Aquaracer Titanium Watch (WAY208F)\n",
      "1910                  Baume & Mercier Clifton Steel Watch\n",
      "1912           Hermes Tandem Diamond Gold Watch (AC1.192)\n",
      "1913        Panerai Luminor Marina Steel Watch (PAM01313)\n",
      "1921                       Cartier Ballon Bleu Gold Watch\n",
      "1922              Bell & Ross Silver Watch (BR WW1-70-AG)\n",
      "1927               Piaget Altiprano Ultra Thin Gold Watch\n",
      "1954                    Rolex Daytona Gold Watch (116508)\n",
      "1955     Louis Vuitton Tambour Chrono Steel Watch (Q112F)\n",
      "1984            Louis Vuitton Tambour Steel Watch (QA115)\n",
      "1985                       Gucci Dive Steel Watch (136.2)\n",
      "1993     Hermes Clipper Gold Plated Combi Watch (CL4.220)\n",
      "2004                   Rolex Day-Date Gold Watch (228239)\n",
      "2007            Cartier Ballon Blue Gold Watch (WGBB0016)\n",
      "2011            Louis Vuitton Tambour Steel Watch (QA061)\n",
      "2022    Breguet Classic Mother of Pearl Tender Dreams ...\n",
      "2036           Rolex Day Date Diamond Gold Watch (228235)\n",
      "2043                        Bulgari B.zero1 Watch (BZ22S)\n",
      "2046     Harry Winston Avenue Diamond Gold Watch (330LQW)\n",
      "2049           Chopard Happy Diamond Moving Diamond Watch\n",
      "2065    Omega Seamaster Diver 300 007 Edition Titanium...\n",
      "2069     Harry Winston Avenue Diamond Gold Watch (330LQW)\n",
      "2071         Hermes Faubourg Diamond Gold Watch (FG4.174)\n",
      "2074        Rolex Daytona Chrono Pink Gold Watch (116505)\n",
      "2083                  Hermes H Hour Steel Watch (HH1.510)\n",
      "2099                       Cartier Must Tank Silver Watch\n",
      "2110            Hermes H Hour Gold Plated Watch (HH1.201)\n",
      "2117    Hermes H Hour Two Strap Gold Plated Watch (HH1...\n",
      "2123             Tag Heuer Autavia Bronze Watch (WBE5190)\n",
      "2125                                ferragamo steel watch\n",
      "2127                   Breguet Classic Jubilee Gold Watch\n",
      "2133            Cartier Tank Francaise Diamond Gold Watch\n",
      "2136                Gucci Two Strap Diamond Watch (134.5)\n",
      "2149           Tudor Black Bay Chrono Steel Watch (79350)\n",
      "2159                  Hermes H Hour Steel Watch (HH1.210)\n",
      "2162                Cartier Pasha Grid Diamond Gold Watch\n",
      "2166                   Chanel Premier Diamond Steel Watch\n",
      "2167             Rolex Daytona Chrono Gold Watch (116505)\n",
      "2171                              ferragamo ceramic watch\n",
      "2175                              Cartier Must Tank Watch\n",
      "2178                              Chaumet Class One Watch\n",
      "2180                     Cartier Toner Diamond Gold Watch\n",
      "2182                  Cartier Anglaise Diamond Gold Watch\n",
      "2191                   Baume & Mercier Promes steel watch\n",
      "2196                  Bvlgari Lucea Combi Watch (LUP33SG)\n",
      "2207                Cartier Demoiselle Diamond Gold Watch\n",
      "2222                       Gucci Gold Plated Watch (1500)\n",
      "2229         Franck Muller Long Island Gold Watch (902QZ)\n",
      "2231          Vacheron Constantin 1972 Diamond Gold Watch\n",
      "2235            Bvlgari Diagono Gold Chrono Watch (CH35G)\n",
      "2240                            Chanel diamond gold watch\n",
      "2243                      Chaumé Liens Diamond Gold Watch\n",
      "2245                                      ferragamo watch\n",
      "2246    Frederique Constant Steel Moonphase Diamond Watch\n",
      "2249                                 Hamilton Steel Watch\n",
      "2250           Hermes Tandem Gold Diamond Watch (AC1.291)\n",
      "2251           Hermes H Hour Gold Diamond Watch (HH1.273)\n",
      "2254     Ferragamo Gancini Gold Plated Watch (FQ505-0014)\n",
      "2264                    TAG Heuer Carrera Watch (WAR201E)\n",
      "2280                                      ferragamo watch\n",
      "2283                  Hublot Big Bang Diamond Steel Watch\n",
      "2285    Cartier 21st Century Gold Plated Combination W...\n",
      "2288                           Cartier Fender Combi Watch\n",
      "2291                          Cartier Anglaise Gold Watch\n",
      "2293                Gucci Gold Plated Combi Watch (126.4)\n",
      "2298        Omega Deville Diamond Steel Watch (424.13.33)\n",
      "2310    Van Kleep & Arpels Alhambra Gold Watch (VCARO8...\n",
      "2327                           Chanel Premier Steel Watch\n",
      "2334                  Hermes H Hour Steel Watch (HH1.210)\n",
      "2354    Christian Dior Radiated Diamonds Steel Watch (...\n",
      "2358                             Rolex Gold Watch (69178)\n",
      "2361                Omega Deville Steel Watch (424.13.40)\n",
      "2363                           Hermes Clipper Combi Watch\n",
      "2367            Chanel Mademoiselle Gold Pearl Band Watch\n",
      "2370                  Cartier Santos Dumont Watch (Small)\n",
      "2381          Hermes H Hour Diamond Steel Watch (HH1.230)\n",
      "2395    Christian Dior Riva Chrono Dia Steel Watch (D8...\n",
      "2415               Chanel Mademoiselle Gold Diamond Watch\n",
      "2423         Hermes Faubourg Diamond Gold Watch (FG1.191)\n",
      "2424            Hermes H Hour Gold Plated Watch (HH1.501)\n",
      "2425             Cartier Santos Dumont Gold Watch (Large)\n",
      "2429                 Panerai Luminor Due Watch (PAM00903)\n",
      "2433        Hermes Kelly2 Two Strap Steel Watch (KT1.210)\n",
      "2434     Louis Vuitton Tambour Chrono Steel Watch (Q1141)\n",
      "2436    Jaeger Lecoultre Reverso Diamond Steel Watch (...\n",
      "2444                  Piaget Tradition Gold Diamond Watch\n",
      "2452                      Gucci Gold Plated Watch (126.4)\n",
      "2453      Hermes Cape Cod Two Strap Steel Watch (CC1.210)\n",
      "2464               Tudor Fastrider Chrono Watch (42000CN)\n",
      "2477                        Hermes Kelly Watch (KE1.210a)\n",
      "2479        Rolex Pearlmaster Gold Diamond Watch (179459)\n",
      "2490                    Cartier Santos 100 Watch (Medium)\n",
      "2495            Panerai Luminor Due Gold Watch (PAM00756)\n",
      "2509                               Longines diamond watch\n",
      "2510                               Longines diamond watch\n",
      "2514      Hermes Cape Cod Two Strap Steel Watch (CC1.210)\n",
      "2524                  Hermes H Hour Steel Watch (HH1.210)\n",
      "2526                      Gucci Gold Plated Watch (126.4)\n",
      "2527                Gucci Gold Plated Combi Watch (126.5)\n",
      "2533                            Gucci Combi Watch (126.4)\n",
      "2535                 Hermes Faubourg Gold Watch (FG1.170)\n",
      "2540                     Cartier American Tank Gold Watch\n",
      "2542                         Fendi Selleria Watch (8100M)\n",
      "2544                          Oris Sixty Five Steel Watch\n",
      "2557                                 Cartier Claire Watch\n",
      "2559    Hermes Cape Cod Two Strap Diamond Steel Watch ...\n",
      "2573    Cartier 21st Century Gold Plated Combination W...\n",
      "2577                     Piaget New Polo White Gold Watch\n",
      "2585                   Hermes Slim Dermes Watch (CA2.210)\n",
      "2604                      Hermes Cape Cod Watch (CC3.710)\n",
      "2606                  Cartier Santos Dumont Watch (Small)\n",
      "2616    Cartier Santos Dumont Diamond Gold Watch (WJSA...\n",
      "2629                  Louis Vuitton Tambour Watch (Q1DM0)\n",
      "2630                                      ferragamo watch\n",
      "2634                Cartier Demoiselle Gold Diamond Watch\n",
      "2645                  Hermes H Hour Steel Watch (HH1.210)\n",
      "2648                       Fendi Gold Plated Watch (770L)\n",
      "2651              Bvlgari Diagono Titanium Watch (TI44TA)\n",
      "2653                Bulgari B.zero1 Diamond Watch (BZ22S)\n",
      "2669                           Tiffany Diamond Gold Watch\n",
      "2672                                  Gucci watch (126.4)\n",
      "2677                           Longines Gold Plated Watch\n",
      "2694                                  Gucci watch (133.2)\n",
      "2697                           Rolex Combi Watch (279173)\n",
      "2705                   Cartier Ballon Bleu Watch (Medium)\n",
      "2750                    Cartier Benoit Diamond Gold Watch\n",
      "2758    Christian Dior Chrono Sapphire Diamonds Steel ...\n",
      "2767                   Cartier Trinity Diamond Gold Watch\n",
      "2778           Chopard Imperial Steel Watch (388541-3001)\n",
      "2785           Rolex GMT Master 2 Gold Watch (116719BLRO)\n",
      "2793                              Cartier Must Tank Watch\n",
      "2800                            Gucci Steel Watch (116.5)\n",
      "2802                 Cartier Delis de Diamonds Gold Watch\n",
      "2805                  Cartier Santos Dumont Watch (Small)\n",
      "2807                  Hermes H Hour Steel Watch (HH1.210)\n",
      "2821              Ferragamo gold-plated combination watch\n",
      "2829    Franck Muller Long Island Diamond Gold Watch (...\n",
      "2830            Bulgari BB Chrono Aluminum Watch (AC38TA)\n",
      "2832                   Gucci Web Plexiglass Watch (143.5)\n",
      "2835                                  Gucci watch (150.5)\n",
      "2851                     Chanel Rock Pastel Premier Watch\n",
      "2855                  Tag Heuer Aquaracer Watch (WAY201P)\n",
      "2860                Cartier Tank Louis Gold Watch (Small)\n",
      "2863                            Gucci Steel Watch (126.5)\n",
      "2866                      Gucci Gold Plated Watch (126.5)\n",
      "2869                Hermes H Hour Diamond Watch (HH1.235)\n",
      "2875                            Tiffany Atlas Steel Watch\n",
      "2885                 Rolex Gold Diamond Watch (228345RBR)\n",
      "2900                                 Cartier Claire Watch\n",
      "2911                     Piaget Emperado White Gold Watch\n",
      "2916                               Chanel Premier Watches\n",
      "2918                     Piaget Dancer Gold Diamond Watch\n",
      "2921       Piaget Limelight Magic Hour Gold Diamond Watch\n",
      "2927            Cartier Anglaise Tank Combi Watch (Large)\n",
      "2933                  Bulgari B.zero1 Steel Watch (BZ22S)\n",
      "2941                   Rolex Combi Diamond Watch (279173)\n",
      "2961                   Cartier Panther Gold Watch (Small)\n",
      "2963                  Zenith El Primero Open Chrono Watch\n",
      "2968      Cartier Ballon Bleu Gold Diamond Watch (Medium)\n",
      "2973          Louis Vuitton Tambour Diamond Watch (Q12MG)\n",
      "2978                  Tudor Black Bay GMT Watch (79830RB)\n",
      "2983            Hermes Gallup Dermes Gold Watch (GA1.270)\n",
      "2994                Hermes H Hour Diamond Watch (HH1.210)\n",
      "3006          Bulgari B.zero1 Diamond Steel Watch (BZ22S)\n",
      "3012                                  tiffany steel watch\n",
      "3013    Vacheron Constantin Traditional Worldtime Gold...\n",
      "3041                Rolex Combi Diamond Watch (279381RBR)\n",
      "3046                 Cartier Panther Combi Watch (Medium)\n",
      "3054                       Omega Seamaster Diver300 Watch\n",
      "3069                        Hermes H Hour Watch (HH1.110)\n",
      "3074                   Cartier Panther Diamond Gold Watch\n",
      "3077                         Chopard Moving Diamond Watch\n",
      "3079                                  Gucci watch (126.4)\n",
      "3082                            Gucci Combi Watch (8900M)\n",
      "3084                                      ferragamo watch\n",
      "3086         IWC Portupino Diamond Steel Watch (IW458104)\n",
      "3093                     Cartier Pasha Diamond Gold Watch\n",
      "3097    Van Kleep & Arpels Alhambra Diamond Gold Watch...\n",
      "3115                Rolex Datejust Diamond Watch (279135)\n",
      "3116                   Rolex Combi Diamond Watch (279173)\n",
      "3123                    Rolex Combi Diamond Watch (69173)\n",
      "3124                    Rolex Gold Diamond Watch (179179)\n",
      "3126                   Rolex Combi Diamond Watch (179173)\n",
      "3130                           Tiffany Diamond Gold Watch\n",
      "3131                    Rolex Gold Diamond Watch (179179)\n",
      "3137                   Rolex Combi Diamond Watch (179173)\n",
      "3143                   Rolex Combi Diamond Watch (179173)\n",
      "3155                        Gucci Gold Plated Watch (112)\n",
      "3161                  Breguet Heritage Gold Diamond Watch\n",
      "3162           Hermes Slim Dermes Diamond Watch (CA2.230)\n",
      "Name: watch_name, dtype: object\n"
     ]
    }
   ],
   "source": [
    "pd.set_option('display.max_rows', None)\n",
    "print(dataset[dataset['watch_color'] == 'other']['watch_name'])\n",
    "pd.set_option('display.max_rows', 8)"
   ],
   "metadata": {
    "collapsed": false,
    "pycharm": {
     "name": "#%%\n"
    }
   }
  },
  {
   "cell_type": "code",
   "execution_count": 24,
   "outputs": [],
   "source": [
    "colours = ['steel', 'gold', 'titanium', 'combi']"
   ],
   "metadata": {
    "collapsed": false,
    "pycharm": {
     "name": "#%%\n"
    }
   }
  },
  {
   "cell_type": "code",
   "execution_count": 25,
   "outputs": [],
   "source": [
    "def infer_colour(watch_name, colour_current, colour_arr = colours):\n",
    "    result = colour_current\n",
    "    if colour_current == 'other':\n",
    "        for colour in colour_arr:\n",
    "            if colour in watch_name.lower():\n",
    "                result = colour\n",
    "\n",
    "    return result"
   ],
   "metadata": {
    "collapsed": false,
    "pycharm": {
     "name": "#%%\n"
    }
   }
  },
  {
   "cell_type": "code",
   "execution_count": 26,
   "outputs": [],
   "source": [
    "infer_colour('Omega Speedmaster Chrono Steel Watch', 'other')\n",
    "dataset['watch_color'] = dataset.apply(lambda x: infer_colour(x['watch_name'], x['watch_color']), axis = 1)"
   ],
   "metadata": {
    "collapsed": false,
    "pycharm": {
     "name": "#%%\n"
    }
   }
  },
  {
   "cell_type": "code",
   "execution_count": 27,
   "outputs": [
    {
     "name": "stdout",
     "output_type": "stream",
     "text": [
      "53                    IWC Pilot Spitfire Watch (IW387903)\n",
      "63                               Gucci Sync Watch (137.1)\n",
      "79                               Gucci Sync Watch (137.1)\n",
      "83                                     Gucci watch (6600)\n",
      "117            Louis Vuitton Tambour Chrono Watch (Q102V)\n",
      "133                                Chanel Premier Watches\n",
      "247                           Bvlgari Lucea watch (LU28S)\n",
      "298                         Hermes H Hour Watch (HH1.801)\n",
      "303                    Chanel J12 Chromatic Watch (H2978)\n",
      "304                          Tiffany Square Diamond Watch\n",
      "378                          Hamilton Khaki Field Watches\n",
      "437                                       ferragamo watch\n",
      "555     Jaeger LeCoultre Reverso Tribute Moonphase Day...\n",
      "589        Hermes Asso Moonphase Diamond Watch (AR7M.531)\n",
      "661                              Chanel J12 Paradox Watch\n",
      "664                         Gucci Two Strap Watch (147.5)\n",
      "692                            Chanel J12 Chromatic Watch\n",
      "697                    Hermes Slim Dermes Watch (CA2.110)\n",
      "848                     Cartier Ballon Bleu Diamond Watch\n",
      "968               Hermes H Hour Two Strap Watch (HH1.110)\n",
      "1010                    Franck Muller Master Square Watch\n",
      "1173                  IWC Top Gun Chrono Watch (IW389002)\n",
      "1203             Rolex Platinum Diamond Watch (279136RBR)\n",
      "1225        Tudor Heritage Black Bay Bronze Watch (79250)\n",
      "1247                                  omega deville watch\n",
      "1256                  Cartier Santos Dumont Watch (Small)\n",
      "1257    Jaeger Lecoultre Rendez-Vous Day Night Diamond...\n",
      "1423                                  Gucci watch (128.5)\n",
      "1574                    Cartier Ballon Bleu Diamond Watch\n",
      "1664                Hermes H Hour Diamond Watch (HH1.236)\n",
      "1715                          Gucci Diamond Watch (117.5)\n",
      "1719                    Cartier Mini Benoit Diamond Watch\n",
      "1767                            Ferragamo Gancini watches\n",
      "1922              Bell & Ross Silver Watch (BR WW1-70-AG)\n",
      "2043                        Bulgari B.zero1 Watch (BZ22S)\n",
      "2049           Chopard Happy Diamond Moving Diamond Watch\n",
      "2099                       Cartier Must Tank Silver Watch\n",
      "2123             Tag Heuer Autavia Bronze Watch (WBE5190)\n",
      "2136                Gucci Two Strap Diamond Watch (134.5)\n",
      "2171                              ferragamo ceramic watch\n",
      "2175                              Cartier Must Tank Watch\n",
      "2178                              Chaumet Class One Watch\n",
      "2245                                      ferragamo watch\n",
      "2264                    TAG Heuer Carrera Watch (WAR201E)\n",
      "2280                                      ferragamo watch\n",
      "2370                  Cartier Santos Dumont Watch (Small)\n",
      "2429                 Panerai Luminor Due Watch (PAM00903)\n",
      "2464               Tudor Fastrider Chrono Watch (42000CN)\n",
      "2477                        Hermes Kelly Watch (KE1.210a)\n",
      "2490                    Cartier Santos 100 Watch (Medium)\n",
      "2509                               Longines diamond watch\n",
      "2510                               Longines diamond watch\n",
      "2542                         Fendi Selleria Watch (8100M)\n",
      "2557                                 Cartier Claire Watch\n",
      "2585                   Hermes Slim Dermes Watch (CA2.210)\n",
      "2604                      Hermes Cape Cod Watch (CC3.710)\n",
      "2606                  Cartier Santos Dumont Watch (Small)\n",
      "2629                  Louis Vuitton Tambour Watch (Q1DM0)\n",
      "2630                                      ferragamo watch\n",
      "2653                Bulgari B.zero1 Diamond Watch (BZ22S)\n",
      "2672                                  Gucci watch (126.4)\n",
      "2694                                  Gucci watch (133.2)\n",
      "2705                   Cartier Ballon Bleu Watch (Medium)\n",
      "2793                              Cartier Must Tank Watch\n",
      "2805                  Cartier Santos Dumont Watch (Small)\n",
      "2830            Bulgari BB Chrono Aluminum Watch (AC38TA)\n",
      "2832                   Gucci Web Plexiglass Watch (143.5)\n",
      "2835                                  Gucci watch (150.5)\n",
      "2851                     Chanel Rock Pastel Premier Watch\n",
      "2855                  Tag Heuer Aquaracer Watch (WAY201P)\n",
      "2869                Hermes H Hour Diamond Watch (HH1.235)\n",
      "2900                                 Cartier Claire Watch\n",
      "2916                               Chanel Premier Watches\n",
      "2963                  Zenith El Primero Open Chrono Watch\n",
      "2973          Louis Vuitton Tambour Diamond Watch (Q12MG)\n",
      "2978                  Tudor Black Bay GMT Watch (79830RB)\n",
      "2994                Hermes H Hour Diamond Watch (HH1.210)\n",
      "3054                       Omega Seamaster Diver300 Watch\n",
      "3069                        Hermes H Hour Watch (HH1.110)\n",
      "3077                         Chopard Moving Diamond Watch\n",
      "3079                                  Gucci watch (126.4)\n",
      "3084                                      ferragamo watch\n",
      "3115                Rolex Datejust Diamond Watch (279135)\n",
      "3162           Hermes Slim Dermes Diamond Watch (CA2.230)\n",
      "Name: watch_name, dtype: object\n"
     ]
    }
   ],
   "source": [
    "pd.set_option('display.max_rows', None)\n",
    "print(dataset[dataset['watch_color'] == 'other']['watch_name'])\n",
    "pd.set_option('display.max_rows', 8)"
   ],
   "metadata": {
    "collapsed": false,
    "pycharm": {
     "name": "#%%\n"
    }
   }
  },
  {
   "cell_type": "markdown",
   "source": [
    "## 5.2 Change from other to unknown"
   ],
   "metadata": {
    "collapsed": false,
    "pycharm": {
     "name": "#%% md\n"
    }
   }
  },
  {
   "cell_type": "code",
   "execution_count": 28,
   "outputs": [],
   "source": [
    "dataset['watch_color'] = dataset['watch_color'].replace({'other':'unknown'})"
   ],
   "metadata": {
    "collapsed": false,
    "pycharm": {
     "name": "#%%\n"
    }
   }
  },
  {
   "cell_type": "code",
   "execution_count": 29,
   "outputs": [
    {
     "name": "stdout",
     "output_type": "stream",
     "text": [
      "['yellow combination' 'grey' 'steel' 'green' 'combi' 'black' 'gold'\n",
      " 'brown' 'pink combination' 'dark blue' 'yellow gold' 'blue' 'white'\n",
      " 'unknown' 'navy' 'titanium']\n"
     ]
    }
   ],
   "source": [
    "pd.set_option('display.max_rows', None)\n",
    "print(dataset['watch_color'].unique())\n",
    "pd.set_option('display.max_rows', 8)"
   ],
   "metadata": {
    "collapsed": false,
    "pycharm": {
     "name": "#%%\n"
    }
   }
  },
  {
   "cell_type": "markdown",
   "source": [
    "# 7. length_of_band"
   ],
   "metadata": {
    "collapsed": false,
    "pycharm": {
     "name": "#%% md\n"
    }
   }
  },
  {
   "cell_type": "code",
   "execution_count": 30,
   "outputs": [],
   "source": [
    "# ensure that the data is of the correct type\n",
    "\n",
    "dataset['length_of_band'] = pd.to_numeric(dataset['length_of_band'])"
   ],
   "metadata": {
    "collapsed": false,
    "pycharm": {
     "name": "#%%\n"
    }
   }
  },
  {
   "cell_type": "code",
   "execution_count": 31,
   "outputs": [
    {
     "name": "stdout",
     "output_type": "stream",
     "text": [
      "[36.  28.  40.  32.  43.  25.5 22.5 34.  39.  38.  44.  22.  33.  42.\n",
      " 27.  24.  37.  35.  41.  26.  29.  27.5  4.  45.  19.  20.  18.  17.\n",
      " 31.   3.  21.  29.5 17.5 50.  23.  30.  25.  30.5 13.  48.  35.5 32.5\n",
      " 23.5 10.  46.  47.  37.5 19.5 36.5  2.  34.5 20.5 16.  24.5 15.5 11.\n",
      " 15.   9.  42.5 44.5 33.5 21.5  9.5 28.5 11.5 14.  31.5 39.5 38.5 47.5\n",
      " 26.5 40.5 12.5  1.   1.5 14.5 12.  18.5 49.  13.5]\n"
     ]
    }
   ],
   "source": [
    "# inspect the unique values\n",
    "\n",
    "pd.set_option('display.max_rows', None)\n",
    "print(dataset['length_of_band'].unique())\n",
    "pd.set_option('display.max_rows', 8)"
   ],
   "metadata": {
    "collapsed": false,
    "pycharm": {
     "name": "#%%\n"
    }
   }
  },
  {
   "cell_type": "markdown",
   "source": [
    "# 8. price"
   ],
   "metadata": {
    "collapsed": false,
    "pycharm": {
     "name": "#%% md\n"
    }
   }
  },
  {
   "cell_type": "code",
   "execution_count": 32,
   "outputs": [],
   "source": [
    "# ensure that the data is of the correct type\n",
    "\n",
    "dataset['price'] = pd.to_numeric(dataset['price'])"
   ],
   "metadata": {
    "collapsed": false,
    "pycharm": {
     "name": "#%%\n"
    }
   }
  },
  {
   "cell_type": "code",
   "execution_count": 33,
   "outputs": [
    {
     "name": "stdout",
     "output_type": "stream",
     "text": [
      "[7.500e+03 7.900e+03 9.000e+03 1.500e+04 1.150e+04 1.600e+04 7.200e+03\n",
      " 6.500e+03 2.200e+03 2.250e+03 3.800e+03 2.700e+03 3.500e+03 1.780e+04\n",
      " 8.000e+02 1.700e+04 8.700e+03 6.300e+03 1.650e+04 5.000e+03 3.300e+03\n",
      " 4.500e+02 4.300e+03 5.800e+03 2.000e+03 1.750e+04 1.850e+03 1.350e+04\n",
      " 4.000e+02 4.000e+03 1.200e+04 2.250e+04 1.950e+03 4.800e+03 3.200e+03\n",
      " 4.900e+03 2.300e+03 1.200e+03 1.800e+04 4.500e+04 6.000e+03 4.600e+03\n",
      " 4.500e+03 2.700e+04 8.400e+04 2.350e+03 5.200e+03 5.000e+02 5.600e+03\n",
      " 6.500e+02 2.800e+04 1.500e+03 6.900e+03 2.400e+04 5.300e+03 3.900e+03\n",
      " 1.880e+04 1.000e+03 1.980e+04 3.000e+02 1.000e+04 1.800e+03 4.700e+03\n",
      " 1.380e+04 2.400e+03 9.500e+04 5.500e+03 2.690e+04 1.360e+03 1.040e+04\n",
      " 1.840e+04 1.690e+04 2.290e+04 1.680e+04 1.070e+04 1.950e+04 1.050e+04\n",
      " 1.460e+04 1.710e+04 1.730e+04 1.910e+04 1.610e+04 2.299e+03 2.565e+03\n",
      " 2.440e+04 5.850e+03 3.100e+03 1.230e+03 1.800e+02 3.600e+03 1.175e+04\n",
      " 1.450e+04 3.500e+04 4.200e+03 1.300e+04 2.800e+02 2.600e+04 1.180e+04\n",
      " 1.100e+04 2.300e+04 9.500e+03 1.140e+04 9.800e+03 7.300e+03 3.800e+02\n",
      " 3.000e+03 2.150e+03 2.600e+03 1.020e+04 7.500e+02 1.300e+03 3.150e+02\n",
      " 2.450e+03 9.300e+03 7.800e+03 2.165e+03 2.500e+02 1.550e+03 1.330e+04\n",
      " 2.950e+04 3.700e+04 7.700e+03 3.500e+02 8.450e+03 3.400e+03 1.650e+03\n",
      " 7.100e+03 8.400e+03 7.000e+02 8.300e+03 4.300e+02 1.100e+03 1.150e+03\n",
      " 4.200e+02 1.160e+04 1.260e+04 1.290e+04 6.050e+03 1.130e+04 2.800e+03\n",
      " 1.930e+04 1.990e+03 9.000e+02 2.650e+03 1.700e+03 6.000e+02 9.500e+02\n",
      " 1.350e+03 8.500e+03 1.400e+03 2.500e+03 5.400e+03 1.550e+04 4.100e+03\n",
      " 1.750e+03 2.750e+03 8.200e+03 2.050e+02 2.540e+04 1.240e+04 9.400e+03\n",
      " 1.400e+04 9.600e+03 1.060e+04 1.560e+04 1.210e+04 2.980e+04 8.000e+03\n",
      " 7.200e+04 6.250e+04 6.800e+03 1.890e+04 1.420e+04 1.080e+04 7.100e+04\n",
      " 1.510e+04 4.450e+04 2.180e+03 2.900e+02 5.200e+02 4.300e+04 2.950e+03\n",
      " 9.150e+03 5.950e+03 4.950e+03 2.330e+04 2.200e+04 6.400e+03 6.700e+03\n",
      " 6.500e+04 9.200e+03 6.200e+03 7.000e+03 6.600e+03 2.000e+04 5.900e+03\n",
      " 5.100e+03 3.150e+03 1.250e+03 3.100e+02 1.600e+03 2.900e+04 9.900e+03\n",
      " 1.250e+04 2.650e+04 2.580e+04 3.900e+04 3.600e+02 1.060e+03 1.970e+04\n",
      " 8.800e+03 4.550e+03 2.650e+02 1.450e+03 2.450e+04 8.900e+03 4.650e+03\n",
      " 3.040e+03 4.400e+03 7.150e+04 1.220e+04 1.390e+04 1.630e+04 2.150e+04\n",
      " 1.170e+04 5.730e+04 1.810e+04 4.680e+04 5.500e+02 4.700e+02 2.100e+03\n",
      " 3.700e+03 4.850e+03 1.360e+04 2.500e+04 2.000e+02 4.250e+03 3.920e+04\n",
      " 1.650e+02 8.500e+02 1.888e+04 1.559e+04 3.000e+04 6.840e+04 3.750e+03\n",
      " 2.200e+02 1.045e+04 1.880e+03 1.280e+04 1.900e+03 1.036e+05 7.820e+03\n",
      " 1.660e+03 7.400e+03 2.070e+04 1.920e+04 1.850e+04 2.890e+03 2.900e+03\n",
      " 1.370e+04 2.600e+02 1.050e+03 6.200e+02 2.850e+03 9.800e+02 1.900e+04\n",
      " 1.430e+04 6.700e+02 2.550e+03 5.850e+02 2.470e+04 3.050e+03 1.720e+03\n",
      " 8.150e+03 1.230e+04 7.600e+03 3.200e+02 3.650e+03 7.600e+02 1.790e+04\n",
      " 2.050e+04 9.100e+03 2.090e+04 1.480e+04 3.570e+04 1.580e+04 1.830e+04\n",
      " 5.200e+04 1.165e+04 1.180e+03 1.550e+02 2.100e+04 5.900e+04 6.400e+04\n",
      " 1.990e+04 3.240e+03 1.190e+04 5.700e+02 9.400e+02 9.850e+03 5.800e+02\n",
      " 8.050e+03 6.900e+02 1.540e+04 1.390e+03 4.450e+03 4.050e+02 2.250e+02\n",
      " 2.350e+02 8.600e+03 1.660e+04 2.280e+03 5.700e+03 1.940e+04 1.490e+04\n",
      " 2.030e+04 2.320e+04 6.130e+04 3.260e+04 1.860e+04 3.850e+03 3.850e+04\n",
      " 1.270e+04 3.200e+04 5.150e+03 1.380e+03 1.400e+02 3.350e+04 7.200e+02\n",
      " 2.120e+04 4.800e+02 8.900e+02 3.300e+02 7.800e+04 3.490e+04 1.470e+04\n",
      " 2.140e+04 3.190e+04 1.670e+04 1.110e+04 1.520e+04 3.400e+04 3.790e+04\n",
      " 2.390e+04 1.120e+04 6.000e+04 4.800e+04 3.550e+03 7.000e+04 2.130e+04\n",
      " 2.700e+02 5.900e+02 4.150e+03 9.700e+03 1.947e+03 2.610e+03 3.230e+03\n",
      " 3.300e+04 4.350e+03 5.470e+03 4.380e+04 9.950e+04 2.550e+04 1.010e+04\n",
      " 2.670e+04 9.700e+02 2.750e+04 4.600e+04 1.030e+04 1.980e+03 2.230e+04\n",
      " 4.050e+03 3.480e+03 5.480e+03 8.100e+03 2.390e+03 6.100e+03 6.950e+03\n",
      " 6.850e+03 2.380e+04 6.800e+02 1.530e+04 5.400e+02 1.760e+03 3.380e+04\n",
      " 1.500e+02 2.790e+04 2.180e+04 1.780e+03 2.350e+04 1.890e+03 1.152e+04\n",
      " 4.237e+03 1.083e+04 2.470e+03 2.590e+04 3.450e+04 1.620e+04 1.720e+04\n",
      " 1.290e+03 6.250e+02 6.900e+04 5.500e+04 3.150e+04 3.840e+03 2.730e+04\n",
      " 1.870e+04 6.800e+04 9.900e+04 1.590e+04 1.995e+04 3.250e+03 1.820e+04\n",
      " 1.310e+04 3.650e+04 3.280e+04 2.020e+04 1.200e+02 3.100e+04 1.250e+05\n",
      " 2.137e+03 2.630e+03 9.200e+02 2.050e+03 4.512e+03 2.890e+04 2.480e+04\n",
      " 7.850e+04 6.150e+04 5.100e+04 9.750e+03 5.750e+04 3.180e+04 1.265e+04\n",
      " 5.680e+04 6.650e+02 1.425e+03 8.075e+03 2.040e+04 6.750e+04 2.930e+04\n",
      " 7.030e+03 2.375e+04 3.420e+03 5.700e+04 1.440e+04 4.680e+03 6.350e+02\n",
      " 8.000e+04 4.210e+02 6.150e+03 8.400e+02 1.530e+03 2.690e+03 2.280e+04\n",
      " 7.050e+03 5.100e+02 1.640e+04 7.900e+02 5.650e+03 1.700e+02 6.300e+02\n",
      " 5.600e+04 7.150e+03 7.350e+03 3.140e+04 2.480e+03 4.980e+04 7.100e+02\n",
      " 7.120e+02 8.350e+03 5.750e+03 6.650e+03 1.015e+04 7.900e+04 1.320e+04\n",
      " 2.080e+04 8.650e+03 3.800e+04 2.400e+02 3.650e+02 8.700e+02 2.605e+03\n",
      " 1.385e+04 4.250e+02 1.090e+04 1.080e+03 1.340e+04 9.980e+02 3.350e+03\n",
      " 4.280e+03 7.750e+03 3.900e+02 2.210e+04 1.199e+03 9.700e+04 2.755e+03\n",
      " 5.350e+03 2.990e+04 2.450e+02 1.300e+05 4.940e+03 8.700e+04 3.010e+02\n",
      " 7.300e+02 1.235e+03 1.242e+04 2.830e+04 7.650e+03]\n"
     ]
    }
   ],
   "source": [
    "# inspect the unique values\n",
    "\n",
    "pd.set_option('display.max_rows', None)\n",
    "print(dataset['price'].unique())\n",
    "pd.set_option('display.max_rows', 8)"
   ],
   "metadata": {
    "collapsed": false,
    "pycharm": {
     "name": "#%%\n"
    }
   }
  },
  {
   "cell_type": "markdown",
   "source": [
    "# 9. Display and save the final results"
   ],
   "metadata": {
    "collapsed": false,
    "pycharm": {
     "name": "#%% md\n"
    }
   }
  },
  {
   "cell_type": "code",
   "execution_count": 34,
   "outputs": [
    {
     "data": {
      "text/plain": "                                     watch_name type_gender    brand  \\\n0      Rolex Datejust Combination Watch (16233)           M    rolex   \n1                     Cartier Benoit Gold Watch           F  cartier   \n2         Rolex Milgauss Steel Watch (116400GV)           M    rolex   \n3         Cartier Claire de Diamonds Gold Watch           F  cartier   \n...                                         ...         ...      ...   \n3164  Hublot Big Bang Chrono Gold Ceramic Watch           M   hublot   \n3165                    Prada Gold Plated Watch           U    prada   \n3166                 Chanel Premier Steel Watch           F   chanel   \n3167      Cartier Rotonde Gold Watch (W1556203)           M  cartier   \n\n             watch_color  watch_size  length_of_band    price  \n0     yellow combination        18.0            36.0   7500.0  \n1                   grey        16.0            28.0   7900.0  \n2                  steel        17.0            40.0   9000.0  \n3                  green        16.0            32.0  15000.0  \n...                  ...         ...             ...      ...  \n3164               black        16.0             4.0  24000.0  \n3165               brown        18.0            24.0    580.0  \n3166               steel        17.0            18.5   1950.0  \n3167               brown        19.0            42.0  25500.0  \n\n[3168 rows x 7 columns]",
      "text/html": "<div>\n<style scoped>\n    .dataframe tbody tr th:only-of-type {\n        vertical-align: middle;\n    }\n\n    .dataframe tbody tr th {\n        vertical-align: top;\n    }\n\n    .dataframe thead th {\n        text-align: right;\n    }\n</style>\n<table border=\"1\" class=\"dataframe\">\n  <thead>\n    <tr style=\"text-align: right;\">\n      <th></th>\n      <th>watch_name</th>\n      <th>type_gender</th>\n      <th>brand</th>\n      <th>watch_color</th>\n      <th>watch_size</th>\n      <th>length_of_band</th>\n      <th>price</th>\n    </tr>\n  </thead>\n  <tbody>\n    <tr>\n      <th>0</th>\n      <td>Rolex Datejust Combination Watch (16233)</td>\n      <td>M</td>\n      <td>rolex</td>\n      <td>yellow combination</td>\n      <td>18.0</td>\n      <td>36.0</td>\n      <td>7500.0</td>\n    </tr>\n    <tr>\n      <th>1</th>\n      <td>Cartier Benoit Gold Watch</td>\n      <td>F</td>\n      <td>cartier</td>\n      <td>grey</td>\n      <td>16.0</td>\n      <td>28.0</td>\n      <td>7900.0</td>\n    </tr>\n    <tr>\n      <th>2</th>\n      <td>Rolex Milgauss Steel Watch (116400GV)</td>\n      <td>M</td>\n      <td>rolex</td>\n      <td>steel</td>\n      <td>17.0</td>\n      <td>40.0</td>\n      <td>9000.0</td>\n    </tr>\n    <tr>\n      <th>3</th>\n      <td>Cartier Claire de Diamonds Gold Watch</td>\n      <td>F</td>\n      <td>cartier</td>\n      <td>green</td>\n      <td>16.0</td>\n      <td>32.0</td>\n      <td>15000.0</td>\n    </tr>\n    <tr>\n      <th>...</th>\n      <td>...</td>\n      <td>...</td>\n      <td>...</td>\n      <td>...</td>\n      <td>...</td>\n      <td>...</td>\n      <td>...</td>\n    </tr>\n    <tr>\n      <th>3164</th>\n      <td>Hublot Big Bang Chrono Gold Ceramic Watch</td>\n      <td>M</td>\n      <td>hublot</td>\n      <td>black</td>\n      <td>16.0</td>\n      <td>4.0</td>\n      <td>24000.0</td>\n    </tr>\n    <tr>\n      <th>3165</th>\n      <td>Prada Gold Plated Watch</td>\n      <td>U</td>\n      <td>prada</td>\n      <td>brown</td>\n      <td>18.0</td>\n      <td>24.0</td>\n      <td>580.0</td>\n    </tr>\n    <tr>\n      <th>3166</th>\n      <td>Chanel Premier Steel Watch</td>\n      <td>F</td>\n      <td>chanel</td>\n      <td>steel</td>\n      <td>17.0</td>\n      <td>18.5</td>\n      <td>1950.0</td>\n    </tr>\n    <tr>\n      <th>3167</th>\n      <td>Cartier Rotonde Gold Watch (W1556203)</td>\n      <td>M</td>\n      <td>cartier</td>\n      <td>brown</td>\n      <td>19.0</td>\n      <td>42.0</td>\n      <td>25500.0</td>\n    </tr>\n  </tbody>\n</table>\n<p>3168 rows × 7 columns</p>\n</div>"
     },
     "metadata": {},
     "output_type": "display_data"
    }
   ],
   "source": [
    "# display the clean dataset\n",
    "\n",
    "display(dataset)"
   ],
   "metadata": {
    "collapsed": false,
    "pycharm": {
     "name": "#%%\n"
    }
   }
  },
  {
   "cell_type": "code",
   "execution_count": 36,
   "outputs": [],
   "source": [
    "# save the dataset as a csv file\n",
    "\n",
    "dataset.to_csv('./luxury_watches_clean.csv', index=False)"
   ],
   "metadata": {
    "collapsed": false,
    "pycharm": {
     "name": "#%%\n"
    }
   }
  },
  {
   "cell_type": "code",
   "execution_count": 35,
   "outputs": [],
   "source": [],
   "metadata": {
    "collapsed": false,
    "pycharm": {
     "name": "#%%\n"
    }
   }
  }
 ],
 "metadata": {
  "kernelspec": {
   "display_name": "Python 3",
   "language": "python",
   "name": "python3"
  },
  "language_info": {
   "codemirror_mode": {
    "name": "ipython",
    "version": 2
   },
   "file_extension": ".py",
   "mimetype": "text/x-python",
   "name": "python",
   "nbconvert_exporter": "python",
   "pygments_lexer": "ipython2",
   "version": "2.7.6"
  }
 },
 "nbformat": 4,
 "nbformat_minor": 0
}